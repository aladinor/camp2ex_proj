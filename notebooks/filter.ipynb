{
 "cells": [
  {
   "cell_type": "code",
   "execution_count": null,
   "metadata": {
    "scrolled": true
   },
   "outputs": [],
   "source": [
    "import pandas as pd\n",
    "import sys\n",
    "import os\n",
    "import numpy as np\n",
    "import matplotlib.pyplot as plt\n",
    "import xarray as xr\n",
    "import zarr\n",
    "import warnings\n",
    "from textwrap import wrap\n",
    "from mpl_toolkits import mplot3d\n",
    "from scipy.ndimage.filters import uniform_filter\n",
    "from scipy.ndimage.measurements import variance\n",
    "from re import split\n",
    "from matplotlib.animation import ArtistAnimation\n",
    "from scipy.ndimage import label\n",
    "from scipy.ndimage.morphology import binary_closing\n",
    "import matplotlib.ticker as plticker\n",
    "from skimage.filters import gaussian, threshold_otsu\n",
    "from skimage import measure\n",
    "from ipywidgets import interact\n",
    "import dask as da\n",
    "import dask\n",
    "from dask_jobqueue import SLURMCluster\n",
    "from dask.distributed import Client, progress\n",
    "warnings.filterwarnings('ignore')\n",
    "sys.path.insert(1, f\"{os.path.abspath(os.path.join(os.path.abspath(''), '../'))}\")\n",
    "from src.utils import time_3d, get_pars_from_ini\n",
    "location = split(', |_|-|!', os.popen('hostname').read())[0].replace(\"\\n\", \"\")\n",
    "path_data = get_pars_from_ini(campaign='loc')[location]['path_data']\n",
    "path_proj = get_pars_from_ini(campaign='loc')[location]['path_proj']\n",
    "plt.rcParams['animation.html'] = 'jshtml'\n",
    "%matplotlib inline"
   ]
  },
  {
   "cell_type": "code",
   "execution_count": null,
   "metadata": {},
   "outputs": [],
   "source": [
    "cluster = SLURMCluster(queue=\"seseml\",\n",
    "                       memory='200GB',\n",
    "                       cores=40,\n",
    "                       processes=1,\n",
    "                       walltime='23:40:00',\n",
    "                       scheduler_options={'host': '172.22.179.3:7227', 'dashboard_address': ':7798'})"
   ]
  },
  {
   "cell_type": "code",
   "execution_count": null,
   "metadata": {},
   "outputs": [],
   "source": [
    "cluster.adapt(maximum_jobs=4)\n",
    "cluster"
   ]
  },
  {
   "cell_type": "code",
   "execution_count": null,
   "metadata": {},
   "outputs": [],
   "source": [
    "# %%bash\n",
    "# squeue -u alfonso8"
   ]
  },
  {
   "cell_type": "code",
   "execution_count": null,
   "metadata": {},
   "outputs": [],
   "source": [
    "client = Client(cluster)\n",
    "client"
   ]
  },
  {
   "cell_type": "code",
   "execution_count": null,
   "metadata": {},
   "outputs": [],
   "source": [
    "ds_xr = xr.open_zarr(f'{path_data}/zarr_rckd/KUsKAs_Wn/lores.zarr')\n",
    "ds_xr = ds_xr.sel(time=~ds_xr.get_index(\"time\").duplicated())\n",
    "df_xr = pd.DataFrame(data=ds_xr.time.values, columns=['date'])\n",
    "df_times = pd.read_csv(f\"{get_pars_from_ini(campaign='loc')[location]['path_proj']}/src/events.txt\", \n",
    "                       header=None, parse_dates=[0], names=['date'])\n",
    "merged = pd.merge(df_times, df_xr, on='date',how='left')"
   ]
  },
  {
   "cell_type": "code",
   "execution_count": null,
   "metadata": {
    "scrolled": true
   },
   "outputs": [],
   "source": [
    "ds_xr\n",
    "case = ds_xr.sel(time='2019-09-16 03:12:58')\n",
    "case.time.values"
   ]
  },
  {
   "cell_type": "code",
   "execution_count": null,
   "metadata": {},
   "outputs": [],
   "source": [
    "# last update 10/12/2021\n",
    "def lee_filter(img, size, tresh=-150):\n",
    "    img = np.where(np.logical_or(np.isnan(img), np.equal(img, -np.inf)),  tresh, img)\n",
    "    img_mean = uniform_filter(img, (size, size))\n",
    "    img_sqr_mean = uniform_filter(img**2, (size, size))\n",
    "    img_variance = img_sqr_mean - img_mean**2\n",
    "    overall_variance = variance(img)\n",
    "    img_weights = img_variance / (img_variance + overall_variance)\n",
    "    img_output = img_mean + img_weights * (img - img_mean)\n",
    "    return img_output\n",
    "\n",
    "\n",
    "@dask.delayed\n",
    "def process(dbz, alt3d, height=500):   \n",
    "    zhh14 = dbz.where(alt3d > height)\n",
    "    filtered = lee_filter(zhh14, size=3, tresh=-100)    \n",
    "    blurred = gaussian(filtered, sigma=.8)\n",
    "    binary = blurred > threshold_otsu(blurred)\n",
    "    labels = measure.label(binary)\n",
    "    props = measure.regionprops(labels)\n",
    "    area = [i.area for i in props]\n",
    "    if any(y > 100 for y in area):\n",
    "        _time =dbz.time.values\n",
    "        return _time"
   ]
  },
  {
   "cell_type": "code",
   "execution_count": null,
   "metadata": {
    "scrolled": false
   },
   "outputs": [],
   "source": [
    "fig, (ax1, ax2, ax3) = plt.subplots(1, 3, figsize=(15, 8), sharey=True)\n",
    "anim = []\n",
    "ds_xr = ds_xr.sel(time=~ds_xr.get_index(\"time\").duplicated())\n",
    "# ds_dates = ds_xr.sel(time=slice('2019-09-16 03:12:40', '2019-09-16 03:13:40'))\n",
    "ds_dates = ds_xr.isel(time=slice(175, 185))\n",
    "\n",
    "\n",
    "for i in case.time:\n",
    "    case = case.sel(time=i)\n",
    "    height = 500\n",
    "    zhh14 = case.zhh14.where(case.alt3d > height)\n",
    "    \n",
    "    img = lee_filter(zhh14.values, size=3, tresh=-180)\n",
    "    original = np.where(img > 0, zhh14.values, 0)\n",
    "\n",
    "    blurred = gaussian(original, sigma=0.8)\n",
    "    binary = blurred > threshold_otsu(blurred)\n",
    "    labels = measure.label(binary)\n",
    "    props = measure.regionprops(labels)\n",
    "    \n",
    "    x = case.range * np.sin(np.deg2rad(case.azimuth))\n",
    "    y = case.alt3D * np.cos(np.deg2rad(case.azimuth))\n",
    "    \n",
    "    \n",
    "    im1 = ax1.pcolormesh(x, y, case.zhh14, cmap='jet', vmin=0, vmax=40)\n",
    "    ax1.set_ylabel('Height (m)')\n",
    "    ax1.set_xlabel('Cross track (m)')\n",
    "    ax1.set_title(\"\\n\".join(wrap(case.zhh14.notes, 30)))\n",
    "    \n",
    "    _filtered = np.where(img > 0, zhh14.values, np.nan)\n",
    "    im2 = ax2.pcolormesh(x, y, _filtered, \n",
    "                         cmap='jet',  vmin=0, vmax=40)\n",
    "    ax2.set_xlabel('Cross track (m)')\n",
    "    ax2.set_title(\"\\n\".join(wrap(case.zhh14.notes, 30)) + ' filtered')\n",
    "    title = f\"{np.datetime_as_string(case.time.values, unit='s')}\\n\"\n",
    "    a = [i.area for i in props]\n",
    "    im3 =  ax3.pcolormesh(x, y, labels, cmap='jet')\n",
    "    ax3.title.set_text(f'{a}')\n",
    "    fig.suptitle(title, fontsize=16, y=.99)\n",
    "    \n",
    "    anim.append([im1, im2, im3])\n",
    "\n",
    "ax1.set_ylim(0, 8000)\n",
    "# plt.colorbar(im1, ax=[ax1, ax2, ax3], orientation=\"vertical\", pad=0.05, label=f'Reflectivity ({case.zhh14.units})')\n"
   ]
  },
  {
   "cell_type": "code",
   "execution_count": null,
   "metadata": {
    "scrolled": false
   },
   "outputs": [],
   "source": [
    "animation = ArtistAnimation(fig, anim, interval=100)\n",
    "animation"
   ]
  },
  {
   "cell_type": "code",
   "execution_count": null,
   "metadata": {},
   "outputs": [],
   "source": [
    "### Next cells show how filter works"
   ]
  },
  {
   "cell_type": "code",
   "execution_count": null,
   "metadata": {},
   "outputs": [],
   "source": [
    "img = lee_filter(zhh14.values, 3, -100)\n",
    "original = np.where(np.logical_or(np.isnan(img), np.equal(img, -np.inf)),  -100, img)"
   ]
  },
  {
   "cell_type": "code",
   "execution_count": null,
   "metadata": {
    "scrolled": false
   },
   "outputs": [],
   "source": [
    "blurred = gaussian(original, sigma=.8)\n",
    "binary = blurred > threshold_otsu(blurred)\n",
    "labels = measure.label(binary)\n",
    "\n",
    "plots = {'Original': original, 'Blurred': blurred, \n",
    "         'Binary': binary, 'Labels': labels}\n",
    "fig, ax = plt.subplots(1, len(plots), figsize=(17, 6))\n",
    "\n",
    "x = case.range * np.sin(np.deg2rad(case.azimuth))\n",
    "y = case.alt3D * np.cos(np.deg2rad(case.azimuth))\n",
    "im1 = ax1.pcolormesh(x, y, case.zhh14, cmap='jet', vmin=0, vmax=40)\n",
    "for n, (title, img) in enumerate(plots.items()):\n",
    "    cmap = plt.cm.gnuplot if n == len(plots) - 1 else plt.cm.gray\n",
    "    ax[n].pcolormesh(x, y, img, cmap=cmap)\n",
    "    ax[n].axis('off')\n",
    "    ax[n].set_title(title)\n",
    "    ax[n].set_ylim(0, 8000)\n",
    "plt.show(fig)\n",
    "\n",
    "props = measure.regionprops(labels)\n",
    "for prop in props:\n",
    "    print('Label: {} >> Object area (number of pixels): {}'.format(prop.label, prop.area))"
   ]
  },
  {
   "cell_type": "code",
   "execution_count": null,
   "metadata": {},
   "outputs": [],
   "source": [
    "case = ds_xr.sel(time='2019-09-16 03:12:58').isel(time=0)\n",
    "# case = case.isel(time=0)\n",
    "zhhh = case.zhh14.where(case.zhh14 > 0, np.nan)\n",
    "zhhh = zhhh.where(zhhh.alt3d > 500)\n",
    "img = lee_filter(zhhh.values, size=3, tresh=-180)\n",
    "img  = np.where(img > 0, img, np.nan)"
   ]
  },
  {
   "cell_type": "code",
   "execution_count": null,
   "metadata": {
    "scrolled": true
   },
   "outputs": [],
   "source": [
    "x = case.range * np.sin(np.deg2rad(case.azimuth))\n",
    "y = case.alt3D * np.cos(np.deg2rad(case.azimuth))"
   ]
  },
  {
   "cell_type": "code",
   "execution_count": null,
   "metadata": {},
   "outputs": [],
   "source": [
    "fig, (ax1, ax3, ax2) = plt.subplots(1, 3, figsize=(15,8), sharey=True)\n",
    "im = ax1.pcolormesh(x, y, img, vmin=0, vmax=40, cmap='jet')\n",
    "ax2.scatter(x.values[::5], y.values[::5], color='k', s=1)\n",
    "ax3.pcolormesh(x, y, labels, cmap='jet')\n",
    "ax1.set_ylim(0, 8000)\n",
    "ax1.set_xlabel('Cross track (m)')\n",
    "ax1.set_ylabel('Height (m)')\n",
    "ax1.set_title(\"\\n\".join(wrap(case.zhh14.notes, 30)))\n",
    "ax2.set_title(\" Grid in polar coordinates\")\n",
    "ax2.set_xlabel('Cross track (m)')\n",
    "ax3.set_title(\"Cloud identification\")\n",
    "cbar = plt.colorbar(im, ax=ax1)\n",
    "cbar.set_label('Reflectivity dBZ')\n",
    "# ax2.grid()\n",
    "plt.savefig('../results/polar_grid.jpg')"
   ]
  },
  {
   "cell_type": "code",
   "execution_count": null,
   "metadata": {},
   "outputs": [],
   "source": [
    "fig, (ax1, ax2, ax3) = plt.subplots(1, 3, figsize=(15,8))\n",
    "im = ax1.pcolormesh(x, y, img, vmin=0, vmax=40, cmap='jet')\n",
    "im2 = ax2.imshow(img, aspect='auto', vmin=0, vmax=40, cmap='jet')\n",
    "ax1.set_xlabel('Cross track (m)')\n",
    "ax1.set_ylabel('Height (m)')\n",
    "ax1.set_title(\"\\n\".join(wrap(case.zhh14.notes, 30)) + ' Polar cordinates')\n",
    "ax2.set_title(\"\\n\".join(wrap(case.zhh14.notes, 30)) + ' Cartesian cordinates')\n",
    "\n",
    "cbar = plt.colorbar(im, ax=[ax1, ax2])\n",
    "cbar.set_label('Reflectivity dBZ')\n",
    "ax3.imshow(labels, cmap='jet', aspect='auto')\n",
    "ax3.set_title('Cloud object grid cordinates')\n",
    "plt.savefig('../results/polar_cartesian.jpg')"
   ]
  },
  {
   "cell_type": "code",
   "execution_count": null,
   "metadata": {},
   "outputs": [],
   "source": [
    "fig, (ax1, ax2) = plt.subplots(1, 2, figsize=(15,8), sharey=True)\n",
    "im = ax1.pcolormesh(x, y, img, vmin=0, vmax=40, cmap='jet')\n",
    "ax2.scatter(x.values[::5], y.values[::5], color='k', s=1)\n",
    "ax1.set_ylim(0, 8000)\n",
    "ax1.set_xlabel('Cross track (m)')\n",
    "ax1.set_ylabel('Height (m)')\n",
    "ax1.set_title(\"\\n\".join(wrap(case.zhh14.notes, 30)))\n",
    "ax2.set_title(\" Grid in polar/rectangular coordinates\")\n",
    "ax2.set_xlabel('Cross track (m)')\n",
    "cbar = plt.colorbar(im, ax=ax1)\n",
    "cbar.set_label('Reflectivity dBZ')\n",
    "ax1.set_yticks(np.arange(y.values.min(), y.values.max(), 200), minor=True)\n",
    "ax1.set_xticks(np.arange(x.values.min(), x.values.max(), 10), minor=True)\n",
    "ax1.grid(which='minor', linestyle=':', linewidth='0.5', color='black')\n",
    "ax2.set_yticks(np.arange(y.values.min(), y.values.max(), 200), minor=True)\n",
    "ax2.set_xticks(np.arange(x.values.min() - 20, x.values.max() + 20, 10), minor=True)\n",
    "# ax2.grid()\n",
    "ax2.grid(which='minor', linestyle=':', linewidth='0.5', color='black')\n",
    "plt.savefig('../results/cartesian_1.jpg')"
   ]
  },
  {
   "cell_type": "code",
   "execution_count": null,
   "metadata": {},
   "outputs": [],
   "source": []
  }
 ],
 "metadata": {
  "kernelspec": {
   "display_name": "Python 3 (ipykernel)",
   "language": "python",
   "name": "python3"
  },
  "language_info": {
   "codemirror_mode": {
    "name": "ipython",
    "version": 3
   },
   "file_extension": ".py",
   "mimetype": "text/x-python",
   "name": "python",
   "nbconvert_exporter": "python",
   "pygments_lexer": "ipython3",
   "version": "3.9.4"
  }
 },
 "nbformat": 4,
 "nbformat_minor": 4
}
