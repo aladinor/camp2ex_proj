{
 "cells": [
  {
   "cell_type": "code",
   "execution_count": null,
   "id": "92a6932d",
   "metadata": {},
   "outputs": [],
   "source": [
    "#!/usr/bin/env python3\n",
    "# -*- coding: utf-8 -*-\n",
    "import os\n",
    "import sys\n",
    "import pandas as pd\n",
    "from re import split\n",
    "from ast import literal_eval\n",
    "import matplotlib.pyplot as plt\n",
    "import xarray as xr\n",
    "import seaborn as sns\n",
    "import numpy as np\n",
    "from dask_jobqueue import SLURMCluster\n",
    "from dask.distributed import Client, progress\n",
    "import os\n",
    "import sys\n",
    "import matplotlib.pyplot as plt\n",
    "import pandas as pd\n",
    "import xarray as xr\n",
    "import numpy as np\n",
    "from re import split\n",
    "from skimage.filters import gaussian, threshold_otsu\n",
    "from skimage import measure\n",
    "from scipy.interpolate import griddata\n",
    "from scipy.spatial import cKDTree as KDTree\n",
    "import matplotlib.patches as mpatches\n",
    "import dask.array as da\n",
    "from dask import delayed\n",
    "import dask\n",
    "from dask_image.ndfilters import uniform_filter as uf\n",
    "from dask_image.ndmeasure import variance as varian\n",
    "module_path = os.path.abspath(os.path.join('..'))\n",
    "if module_path not in sys.path:\n",
    "    sys.path.append(module_path)\n",
    "from src.utils import get_pars_from_ini\n",
    "location = split(', |_|-|!', os.popen('hostname').read())[0].replace(\"\\n\", \"\")\n",
    "path_data = get_pars_from_ini(campaign='loc')[location]['path_data']\n",
    "path_proj = get_pars_from_ini(campaign='loc')[location]['path_proj']\n",
    "plt.style.use('ggplot')"
   ]
  },
  {
   "cell_type": "code",
   "execution_count": null,
   "id": "d32cdd97",
   "metadata": {},
   "outputs": [],
   "source": [
    "# @jit\n",
    "def get_col_row(x, size=30):\n",
    "    ncols = da.ptp(x) / size\n",
    "    return int(ncols)\n",
    "\n",
    "\n",
    "def excluding_mesh(x, y, nx=30, ny=30):\n",
    "    \"\"\"\n",
    "    Construct a grid of points, that are some distance away from points (x,\n",
    "    \"\"\"\n",
    "\n",
    "    dx = x.ptp() / nx\n",
    "    dy = y.ptp() / ny\n",
    "\n",
    "    xp, yp = np.mgrid[x.min() - 2 * dx:x.max() + 2 * dx:(nx + 2) * 1j,\n",
    "             y.min() - 2 * dy:y.max() + 2 * dy:(ny + 2) * 1j]\n",
    "    xp = xp.ravel()\n",
    "    yp = yp.ravel()\n",
    "\n",
    "    tree = KDTree(np.c_[x, y])\n",
    "    dist, j = tree.query(np.c_[xp, yp], k=1)\n",
    "\n",
    "    # Select points sufficiently far away\n",
    "    m = (dist > np.hypot(dx, dy))\n",
    "    return xp[m], yp[m]\n",
    "\n",
    "\n",
    "def regridd(data, x, y, size=30):\n",
    "    \"\"\"\n",
    "    data = xarray datarray\n",
    "    size = desired pixel size in meters\n",
    "    \"\"\"\n",
    "    if data.ndim > 2:\n",
    "        x = da.moveaxis(x.reshape(-1, x.shape[-1]), 0, -1)\n",
    "        y = da.moveaxis(y.reshape(-1, y.shape[-1]), 0, -1)\n",
    "        ncols_n = max(np.apply_along_axis(get_col_row, arr=x, axis=1))\n",
    "        nrows_n = max(np.apply_along_axis(get_col_row, arr=y, axis=1))\n",
    "        x_new_n = da.from_array(np.moveaxis(np.linspace(np.amin(x, -1), np.amax(x, -1), ncols_n), 0, -1))\n",
    "        y_new_n = da.from_array(np.moveaxis(np.linspace(np.amax(y, -1), np.amin(y, -1), nrows_n), 0, -1))\n",
    "        mesh = [delayed(da.meshgrid)(x_new_n[i], y_new_n[i]) for i in range(x_new_n.shape[0])]\n",
    "\n",
    "        z_n = da.rollaxis(data.reshape(-1, data.shape[-1]), 1)\n",
    "        idx_n = x.argsort(axis=-1)\n",
    "        x = np.take_along_axis(x, idx_n, axis=-1)\n",
    "        y = np.take_along_axis(y, idx_n, axis=-1)\n",
    "        z_n = np.take_along_axis(z_n, idx_n, axis=-1)\n",
    "\n",
    "        vp_n = dask.compute(*[delayed(excluding_mesh)(x[i], y[i]) for i in range(x.shape[0])])\n",
    "        xn = [vp_n[i][0] for i in range(len(vp_n))]\n",
    "        yn = [vp_n[i][1] for i in range(len(vp_n))]\n",
    "        zn = dask.compute(*[delayed(da.zeros_like)(xn[i]) for i in range(x.shape[0])])\n",
    "        xi_ = [mesh[i][0] for i in range(len(vp_n))]\n",
    "        xi_ = dask.compute(*[da.from_delayed(v, shape=(x.shape[0], np.nan), dtype=float) for v in xi_])\n",
    "        yi_ = [mesh[i][1] for i in range(len(vp_n))]\n",
    "        yi_ = dask.compute(*[da.from_delayed(v, shape=(x.shape[0], np.nan), dtype=float) for v in yi_])\n",
    "        zr = [delayed(griddata)((np.r_[x[i, :], xn[i]], np.r_[y[i, :], yn[i]]), np.r_[z_n[i, :], zn[i]],\n",
    "                                (xi_[i], yi_[i]), method='linear', fill_value=0)\n",
    "              for i in range(x.shape[0])]\n",
    "\n",
    "        zr = da.dstack(dask.compute(*zr))\n",
    "        xi_ = da.rollaxis(da.rollaxis(da.asarray(xi_), axis=-1), axis=-1)\n",
    "        yi_ = da.rollaxis(da.rollaxis(da.asarray(yi_), axis=-1), axis=-1)\n",
    "        return zr, xi_, yi_\n",
    "\n",
    "    else:\n",
    "        x_s = x.flatten()\n",
    "        y_s = y.flatten()\n",
    "        data = data.compute().flatten()\n",
    "        idx = x_s.argsort()\n",
    "        x_s, y_s = np.take_along_axis(x_s, idx, axis=0), np.take_along_axis(y_s, idx, axis=0)\n",
    "        data = np.take_along_axis(data, idx, axis=0)\n",
    "        ncols = get_col_row(x=x_s, size=size)\n",
    "        nrows = get_col_row(x=y_s, size=size)\n",
    "        x_new = np.linspace(x_s.min(), x_s.max(), int(ncols))\n",
    "        y_new = np.linspace(y_s.max(), y_s.min(), int(nrows))\n",
    "        xi, yi = np.meshgrid(x_new, y_new)\n",
    "        xp, yp = excluding_mesh(x_s, y_s, nx=35, ny=35)\n",
    "        zp = np.nan + np.zeros_like(xp)\n",
    "        z0 = griddata((np.r_[x_s, xp], np.r_[y_s, yp]), np.r_[data, zp], (xi, yi), method='linear', fill_value=-9999)\n",
    "        return z0, xi, yi\n",
    "\n",
    "\n",
    "def lee_filter_new(img, size, tresh=-150):\n",
    "    if img.ndim == 2:\n",
    "        shape = (size, size)\n",
    "    else:\n",
    "        shape = (size, size, 1)\n",
    "    img = da.where(da.logical_or(da.isnan(img), da.equal(img, -9999)), tresh, img)\n",
    "    img_mean = uf(img, shape)\n",
    "    img_sqr_mean = uf(da.power(img, 2), shape)\n",
    "    img_variance = img_sqr_mean - da.power(img_mean, 2)\n",
    "    overall_variance = varian(img)\n",
    "    img_weights = img_variance / (img_variance + overall_variance)\n",
    "    img_output = img_mean + img_weights * (img - img_mean)\n",
    "    img_output = da.where(img_output > 0, img_output, 0)\n",
    "    return img_output\n",
    "\n",
    "def process_new(zhh14, _range, azimuth, alt3d, bin_size, time):\n",
    "    x = _range * bin_size.values[0] * np.sin(np.deg2rad(azimuth))  # add roll\n",
    "    y = alt3d\n",
    "    img_filtered = lee_filter_new(zhh14, size=3, tresh=-180)\n",
    "    img, xi, yi = regridd(img_filtered, x.values, y.values)\n",
    "    img = np.where(img > 0., img, 0.)\n",
    "    blurred = gaussian(img, sigma=0.8)\n",
    "    binary = blurred > threshold_otsu(blurred)\n",
    "    labels = measure.label(binary)\n",
    "    if labels.ndim > 2:\n",
    "        props = [measure.regionprops(labels[:, :, i]) for i in range(labels.shape[-1])]\n",
    "        _props_all = [[[j.area for j in prop], [j.perimeter for j in prop], [j.major_axis_length for j in prop],\n",
    "                       [j.minor_axis_length for j in prop], [j.bbox for j in prop]] for prop in props]\n",
    "        df = pd.DataFrame(data=_props_all, columns=['area', 'perimeter', 'axmax', 'axmin', 'bbox'],\n",
    "                          index=pd.to_datetime(time))\n",
    "        max_zhh14 = np.apply_along_axis(np.max, arr=img,  axis=0).compute()\n",
    "        df['max_zhh14'] = np.apply_along_axis(np.max, arr=max_zhh14,  axis=0)\n",
    "    else:\n",
    "        props = measure.regionprops(labels)\n",
    "        _props_all = [[[prop.area], [prop.perimeter], [prop.major_axis_length], [prop.minor_axis_length],\n",
    "                       [prop.bbox]] for prop in props]\n",
    "        df = pd.DataFrame(data=_props_all, columns=['area', 'perimeter', 'axmax', 'axmin', 'bbox'])\n",
    "        df['max_zhh14'] = np.max(img)\n",
    "\n",
    "    if img.ndim > 2:\n",
    "        shp = img.shape[-1]\n",
    "        for i in range(shp):\n",
    "            fig, (ax1, ax2, ax3) = plt.subplots(1, 3, figsize=(15, 10))\n",
    "            img_plot = img[:, :, i]\n",
    "            ax1.pcolormesh(x.isel(time=i), y.isel(time=i), img_filtered.compute()[:, :, i], cmap='jet',\n",
    "                           vmax=50, vmin=0, shading='auto')\n",
    "            ax2.imshow(img_plot, aspect='auto', cmap='jet', vmax=50, vmin=0)\n",
    "            ax3.pcolormesh(xi[:, :, i], yi[:, :, i], img_plot, cmap='jet',\n",
    "                           vmax=50, vmin=0, shading='auto')\n",
    "            for region in props[i]:\n",
    "                if region.area >= 105:\n",
    "                    minr, minc, maxr, maxc = region.bbox\n",
    "                    rect = mpatches.Rectangle((minc, minr), maxc - minc, maxr - minr,\n",
    "                                              fill=False, edgecolor='red', linewidth=2)\n",
    "                    ax2.add_patch(rect)\n",
    "            plt.show()\n",
    "            print('a')\n",
    "\n",
    "    else:\n",
    "        fig, (ax1, ax2, ax3) = plt.subplots(1, 3, figsize=(15, 10))\n",
    "        img_plot = img\n",
    "        ax1.pcolormesh(x, y, img_filtered.compute(), cmap='jet', vmax=60, vmin=0, shading='auto')\n",
    "        ax2.imshow(img_plot, aspect='auto', cmap='jet', vmax=60, vmin=0)\n",
    "        ax3.pcolormesh(xi, yi, img_plot, cmap='jet', vmax=60, vmin=0, shading='auto')\n",
    "        ax3.set_yticks(np.arange(yi.min(), yi.max(), 250))\n",
    "        for region in props:\n",
    "            if region.area >= 100:\n",
    "                minr, minc, maxr, maxc = region.bbox\n",
    "                rect = mpatches.Rectangle((minc, minr), maxc - minc, maxr - minr,\n",
    "                                          fill=False, edgecolor='red', linewidth=2)\n",
    "                ax2.add_patch(rect)\n",
    "        plt.show()\n",
    "        print('a')\n"
   ]
  },
  {
   "cell_type": "code",
   "execution_count": null,
   "id": "45909d56",
   "metadata": {},
   "outputs": [],
   "source": [
    "cluster = SLURMCluster(queue=\"seseml\",\n",
    "                       memory='200GB',\n",
    "                       cores=40,\n",
    "                       processes=1,\n",
    "                       walltime='23:40:00',\n",
    "                       scheduler_options={'host': '172.22.179.3:7227', 'dashboard_address': ':7798'})"
   ]
  },
  {
   "cell_type": "code",
   "execution_count": null,
   "id": "3dbab7a2",
   "metadata": {},
   "outputs": [],
   "source": [
    "# cluster.scale(2)\n",
    "cluster.adapt(maximum_jobs=4)\n",
    "cluster"
   ]
  },
  {
   "cell_type": "code",
   "execution_count": null,
   "id": "0437b7de",
   "metadata": {},
   "outputs": [],
   "source": [
    "client = Client(cluster)\n",
    "client"
   ]
  },
  {
   "cell_type": "code",
   "execution_count": null,
   "id": "f6147964",
   "metadata": {},
   "outputs": [],
   "source": [
    "def correction(df):\n",
    "    return [float(i) for i in df.replace(\"[\", '').replace(\"]\", '').split()]"
   ]
  },
  {
   "cell_type": "code",
   "execution_count": null,
   "id": "e2d231ee",
   "metadata": {},
   "outputs": [],
   "source": [
    "df = pd.read_csv('../results/all_filtered_202111190522_zhh35.csv')\n",
    "df.rename(columns={'Unnamed: 0': 'time'}, inplace=True)\n",
    "df['time'] = pd.to_datetime(df.time)\n",
    "df.index = df.time\n",
    "df.drop(columns='time', inplace=True)"
   ]
  },
  {
   "cell_type": "code",
   "execution_count": null,
   "id": "47a10995",
   "metadata": {},
   "outputs": [],
   "source": [
    "df_multidx = df[df.columns[9:]]"
   ]
  },
  {
   "cell_type": "code",
   "execution_count": null,
   "id": "15f69526",
   "metadata": {},
   "outputs": [],
   "source": [
    "cols = (literal_eval(i) for i in df_multidx.columns)\n",
    "df_multidx.columns = pd.MultiIndex.from_tuples(cols)"
   ]
  },
  {
   "cell_type": "code",
   "execution_count": null,
   "id": "baaf6b6e",
   "metadata": {},
   "outputs": [],
   "source": [
    "df_data = df[df.columns[:8]]\n",
    "df_data = df_data.applymap(correction)\n",
    "df_data = df_data.merge(df.max_zhh, left_index=True, right_index=True)\n",
    "df_data.columns = ['area', 'perimeter', 'min_row', 'min_col', 'max_row', 'max_col',\n",
    "                   'depth', 'width', 'max_zhh']"
   ]
  },
  {
   "cell_type": "code",
   "execution_count": null,
   "id": "91a55c61",
   "metadata": {},
   "outputs": [],
   "source": [
    "df_data.head(2)"
   ]
  },
  {
   "cell_type": "code",
   "execution_count": null,
   "id": "fd61f919",
   "metadata": {},
   "outputs": [],
   "source": [
    "times = list(df_data.index)"
   ]
  },
  {
   "cell_type": "code",
   "execution_count": null,
   "id": "c13c4154",
   "metadata": {},
   "outputs": [],
   "source": [
    "%%time\n",
    "ds_xr = xr.open_zarr(f'{path_data}/zarr_rckd/KUsKAs_Wn/lores.zarr')\n",
    "ds_xr = ds_xr.sel(time=~ds_xr.get_index(\"time\").duplicated())"
   ]
  },
  {
   "cell_type": "code",
   "execution_count": null,
   "id": "56438446",
   "metadata": {},
   "outputs": [],
   "source": [
    "ds_data = ds_xr[['alt3D']].sel(time=times)"
   ]
  },
  {
   "cell_type": "code",
   "execution_count": null,
   "id": "b74d17fa",
   "metadata": {},
   "outputs": [],
   "source": [
    "ds_elevation = ds_data.alt3D.sel(cross_track=12, range=0).to_dataframe()\n"
   ]
  },
  {
   "cell_type": "code",
   "execution_count": null,
   "id": "db95601e",
   "metadata": {},
   "outputs": [],
   "source": [
    "df_data = df_data.merge(ds_elevation, left_index=True, right_index=True)"
   ]
  },
  {
   "cell_type": "code",
   "execution_count": null,
   "id": "1b05156d",
   "metadata": {},
   "outputs": [],
   "source": [
    "df_data = df_data.explode(['area', 'perimeter', 'min_row', 'min_col', 'max_row', 'max_col',\n",
    "                           'depth', 'width',])"
   ]
  },
  {
   "cell_type": "code",
   "execution_count": null,
   "id": "12e12a62",
   "metadata": {},
   "outputs": [],
   "source": [
    "## segundo dataset"
   ]
  },
  {
   "cell_type": "code",
   "execution_count": null,
   "id": "e0556140",
   "metadata": {
    "scrolled": false
   },
   "outputs": [],
   "source": [
    "df_2 = pd.read_csv('../results/all_filtered_202111191449_Wn_zhh35.csv')\n",
    "df_2.rename(columns={'Unnamed: 0': 'time'}, inplace=True)\n",
    "df_2['time'] = pd.to_datetime(df_2.time)\n",
    "df_2.index = df_2.time\n",
    "df_2.drop(columns='time', inplace=True)"
   ]
  },
  {
   "cell_type": "code",
   "execution_count": null,
   "id": "b5c60c30",
   "metadata": {},
   "outputs": [],
   "source": [
    "df_data_2 = df_2[df_2.columns[:8]]\n",
    "df_data_2 = df_data_2.applymap(correction)\n",
    "df_data_2 = df_data_2.merge(df_2.max_zhh, left_index=True, right_index=True)\n",
    "df_data_2.columns = ['area', 'perimeter', 'min_row', 'min_col', 'max_row', 'max_col',\n",
    "                   'depth', 'width', 'max_zhh']"
   ]
  },
  {
   "cell_type": "code",
   "execution_count": null,
   "id": "53f85623",
   "metadata": {},
   "outputs": [],
   "source": [
    "times_2 = list(df_data_2.index)"
   ]
  },
  {
   "cell_type": "code",
   "execution_count": null,
   "id": "fd0236ad",
   "metadata": {
    "scrolled": true
   },
   "outputs": [],
   "source": [
    "%%time\n",
    "ds_xr_2 = xr.open_zarr(f'{path_data}/zarr_rckd/KUsKAsWs/lores.zarr')\n",
    "ds_xr_2 = ds_xr_2.sel(time=~ds_xr_2.get_index(\"time\").duplicated())"
   ]
  },
  {
   "cell_type": "code",
   "execution_count": null,
   "id": "5cbb8264",
   "metadata": {},
   "outputs": [],
   "source": [
    "ds_data_2 = ds_xr_2[['alt3D']].sel(time=times_2)"
   ]
  },
  {
   "cell_type": "code",
   "execution_count": null,
   "id": "be604099",
   "metadata": {},
   "outputs": [],
   "source": [
    "ds_elevation_2 = ds_data_2.alt3D.sel(cross_track=12, range=0).to_dataframe()"
   ]
  },
  {
   "cell_type": "code",
   "execution_count": null,
   "id": "051db580",
   "metadata": {},
   "outputs": [],
   "source": [
    "df_data_2 = df_data_2.merge(ds_elevation_2, left_index=True, right_index=True)"
   ]
  },
  {
   "cell_type": "code",
   "execution_count": null,
   "id": "65d83ecc",
   "metadata": {},
   "outputs": [],
   "source": [
    "df_data_2 = df_data_2.explode(['area', 'perimeter', 'min_row', 'min_col', 'max_row', 'max_col',\n",
    "                           'depth', 'width'])"
   ]
  },
  {
   "cell_type": "code",
   "execution_count": null,
   "id": "efb31081",
   "metadata": {},
   "outputs": [],
   "source": [
    "df_data = pd.concat([df_data, df_data_2])"
   ]
  },
  {
   "cell_type": "code",
   "execution_count": null,
   "id": "bc09f5db",
   "metadata": {},
   "outputs": [],
   "source": [
    "df_data"
   ]
  },
  {
   "cell_type": "code",
   "execution_count": null,
   "id": "c8dd7227",
   "metadata": {},
   "outputs": [],
   "source": [
    "df_data = df_data.astype({'area': float, 'perimeter': float, 'depth': float, 'width': float, 'min_row': float, \n",
    "                'min_col': float, 'max_row': float, 'max_col': float})"
   ]
  },
  {
   "cell_type": "code",
   "execution_count": null,
   "id": "4306dc69",
   "metadata": {
    "scrolled": true
   },
   "outputs": [],
   "source": [
    "df_data.dtypes"
   ]
  },
  {
   "cell_type": "markdown",
   "id": "8ea45d4f",
   "metadata": {},
   "source": [
    "## initial filters"
   ]
  },
  {
   "cell_type": "code",
   "execution_count": null,
   "id": "617bf344",
   "metadata": {},
   "outputs": [],
   "source": [
    "df_data = df_data[df_data.area > 105]\n",
    "df_data = df_data[df_data.width > 0]\n",
    "df_data = df_data[df_data.depth > 0]"
   ]
  },
  {
   "cell_type": "code",
   "execution_count": null,
   "id": "6cf16d95",
   "metadata": {},
   "outputs": [],
   "source": [
    "df_data['min_row'] = df_data['min_row'] * 30 / 1000\n",
    "df_data['max_row'] = df_data['max_row'] * 30 / 1000\n",
    "df_data['min_col'] = df_data['min_col'] * 30 / 1000\n",
    "df_data['max_col'] = df_data['max_col'] * 30 / 1000\n",
    "df_data['area_km2'] = df_data.area * 30 ** 2 / 1000**2\n",
    "df_data['perimeter_km'] = df_data.perimeter * 30 / 1000 \n",
    "df_data['depth_km'] = df_data.depth * 30 / 1000 \n",
    "df_data['width_km'] = df_data.width * 30 / 1000 \n"
   ]
  },
  {
   "cell_type": "code",
   "execution_count": null,
   "id": "06b06cd7",
   "metadata": {},
   "outputs": [],
   "source": [
    "df_data.head(2)"
   ]
  },
  {
   "cell_type": "code",
   "execution_count": null,
   "id": "025b7fc5",
   "metadata": {},
   "outputs": [],
   "source": [
    "df_data['cloud_top'] =  df_data['alt3D'] / 1000 - df_data['min_row'] \n",
    "df_data['cloud_base'] =  df_data['alt3D'] / 1000 - df_data['max_row'] \n",
    "df_data['axis_ratio'] = df_data['depth'] / df_data['width']\n",
    "df_data['axis_ratio_inv'] = df_data['width'] /df_data['depth'] "
   ]
  },
  {
   "cell_type": "code",
   "execution_count": null,
   "id": "bc021b0f",
   "metadata": {
    "scrolled": false
   },
   "outputs": [],
   "source": [
    "df_data['day'] = pd.to_datetime(df_data.index.strftime('%Y-%m-%d'))"
   ]
  },
  {
   "cell_type": "code",
   "execution_count": null,
   "id": "dc465023",
   "metadata": {},
   "outputs": [],
   "source": [
    "df_day = df_data.groupby(df_data.index.floor('d'))\n",
    "flights = list(df_day.groups.keys())\n",
    "dict_flights = {f'RF{i + 1:02d}':flights[i] for i in range(len(flights)) }\n",
    "dict_fl = {flights[i]:f'RF{i + 1:02d}' for i in range(len(flights)) }"
   ]
  },
  {
   "cell_type": "code",
   "execution_count": null,
   "id": "7f56f3e6",
   "metadata": {},
   "outputs": [],
   "source": [
    "df_fl = pd.DataFrame(dict_flights, index=np.arange(0, 25))\n",
    "df_fl2 = pd.DataFrame(dict_fl, index=np.arange(0, 25))"
   ]
  },
  {
   "cell_type": "code",
   "execution_count": null,
   "id": "a6ba82c7",
   "metadata": {},
   "outputs": [],
   "source": [
    "df_data['vuelo'] = df_data['day'].replace(dict_fl)"
   ]
  },
  {
   "cell_type": "markdown",
   "id": "607bded6",
   "metadata": {},
   "source": [
    "## Applying filters"
   ]
  },
  {
   "cell_type": "code",
   "execution_count": null,
   "id": "622c309d",
   "metadata": {},
   "outputs": [],
   "source": [
    "df_data = df_data[df_data.max_zhh < 59]\n",
    "df_data = df_data[df_data.cloud_base > 0.5]\n",
    "# condition for finding surface echoes\n",
    "cond = (df_data.max_zhh > 55) & (df_data.area < 4000) & (df_data.axis_ratio_inv < 0.4)\n",
    "df_data = df_data[~cond]\n",
    "# condition on surface echoes disgised as cloudtop\n",
    "cloud_t = (df_data.cloud_base < 2) & (df_data.area < 4000) & (df_data.axis_ratio_inv < 0.3)\n",
    "df_data = df_data[~cloud_t]\n",
    "\n",
    "cloud_area = (df_data.area_km2 < 0.3) & (df_data.axis_ratio_inv < 0.4)\n",
    "df_data = df_data[~cloud_area]\n",
    "\n",
    "cloud_depth  = (df_data.depth_km > 9) & (df_data.area_km2 < 7)\n",
    "df_data = df_data[~cloud_depth]\n",
    "df_data = df_data[df_data.depth_km < 9]\n",
    "df_data.shape\n",
    "\n",
    "max_ref = ((df_data.max_zhh > 43) & (df_data.axis_ratio_inv < 0.6))\n",
    "df_data = df_data[~max_ref]\n",
    "\n",
    "max_ref = ((df_data.max_zhh > 43) & (df_data.axis_ratio < 1.5))\n",
    "df_data = df_data[~max_ref]\n"
   ]
  },
  {
   "cell_type": "code",
   "execution_count": null,
   "id": "86fab4c8",
   "metadata": {},
   "outputs": [],
   "source": [
    "df_data.shape"
   ]
  },
  {
   "cell_type": "code",
   "execution_count": null,
   "id": "ec57a51a",
   "metadata": {},
   "outputs": [],
   "source": [
    "df_data.to_csv('../results/df_filtered/zhh35.csv')"
   ]
  },
  {
   "cell_type": "code",
   "execution_count": null,
   "id": "79f0098b",
   "metadata": {},
   "outputs": [],
   "source": [
    "fig, ax = plt.subplots( figsize=(15, 6))\n",
    "axis = df_data.boxplot(column=['area_km2'], by=['vuelo'], ax=ax)\n",
    "x_lab = [i for i in dict_flights.keys()]\n",
    "axis.set_xlabel('$Flight \\ Number$')\n",
    "axis.set_ylabel('$Cross \\ sectional \\ cloud \\ area (Km^{2})$')\n",
    "plt.suptitle('$Cross \\ sectional \\ cloud \\ area$')\n",
    "plt.title('')\n",
    "plt.tight_layout()\n",
    "plt.savefig('../results/area_zhh35.jpg', dpi=300)\n",
    "plt.show()"
   ]
  },
  {
   "cell_type": "code",
   "execution_count": null,
   "id": "b2b2917f",
   "metadata": {},
   "outputs": [],
   "source": [
    "fig, ax = plt.subplots( figsize=(15, 6))\n",
    "axis = df_data.boxplot(column=['perimeter_km'], by=['vuelo'], ax=ax)\n",
    "x_lab = [i for i in dict_flights.keys()]\n",
    "plt.suptitle('$Cross \\ sectional \\ cloud \\ perimeter$')\n",
    "axis.set_xlabel('$Flight \\ Number$')\n",
    "axis.set_ylabel('$Cross \\ sectional \\ cloud \\ perimeter \\ (Km)$')\n",
    "plt.title('')\n",
    "plt.tight_layout()\n",
    "plt.savefig('../results/peri_zhh35.jpg', dpi=300)\n",
    "plt.show()"
   ]
  },
  {
   "cell_type": "code",
   "execution_count": null,
   "id": "0672335a",
   "metadata": {},
   "outputs": [],
   "source": [
    "fig, ax = plt.subplots( figsize=(15, 6))\n",
    "axis = df_data.boxplot(column=['depth_km'], by=['vuelo'], ax=ax)\n",
    "x_lab = [i for i in dict_flights.keys()]\n",
    "axis.set_xlabel('$Flight \\ Number$')\n",
    "axis.set_ylabel('$Cross \\ sectional \\ cloud \\ depth \\ (Km)$')\n",
    "plt.suptitle('$Cross \\ sectional \\ cloud \\ depth$')\n",
    "plt.title('')\n",
    "plt.tight_layout()\n",
    "plt.savefig('../results/cloud_depth_zhh35.jpg', dpi=300)\n",
    "plt.show()"
   ]
  },
  {
   "cell_type": "code",
   "execution_count": null,
   "id": "96dda1c1",
   "metadata": {},
   "outputs": [],
   "source": [
    "fig, ax = plt.subplots( figsize=(15, 6))\n",
    "axis = df_data.boxplot(column=['width_km'], by=['vuelo'], ax=ax)\n",
    "x_lab = [i for i in dict_flights.keys()]\n",
    "axis.set_xlabel('$Flight \\ Number$')\n",
    "axis.set_ylabel('$Cross \\ sectional \\ cloud \\ width \\ (Km)$')\n",
    "plt.suptitle('$Cross \\ sectional \\ cloud \\ width$')\n",
    "plt.title('')\n",
    "plt.tight_layout()\n",
    "\n",
    "plt.savefig('../results/cloud_width_zhh35.jpg', dpi=300)\n",
    "plt.show()"
   ]
  },
  {
   "cell_type": "code",
   "execution_count": null,
   "id": "ca536fbf",
   "metadata": {},
   "outputs": [],
   "source": [
    "fig, ax = plt.subplots( figsize=(15, 6))\n",
    "axis = df_data.boxplot(column=['cloud_base'], by=['vuelo'], ax=ax)\n",
    "x_lab = [i for i in dict_flights.keys()]\n",
    "axis.set_xlabel('$Flight \\ Number$')\n",
    "axis.set_ylabel('$Cross \\ sectional \\ cloud \\ base \\ (Km)$')\n",
    "plt.suptitle('$Cross \\ sectional \\ cloud \\ base$')\n",
    "plt.title('')\n",
    "plt.tight_layout()\n",
    "\n",
    "plt.savefig('../results/cloud_base_zhh35.jpg')\n",
    "plt.show()"
   ]
  },
  {
   "cell_type": "code",
   "execution_count": null,
   "id": "a432a3d3",
   "metadata": {},
   "outputs": [],
   "source": [
    "fig, ax = plt.subplots( figsize=(15, 6))\n",
    "axis = df_data.boxplot(column=['cloud_top'], by=['vuelo'], ax=ax)\n",
    "x_lab = [i for i in dict_flights.keys()]\n",
    "axis.set_xlabel('$Flight \\ Number$')\n",
    "axis.set_ylabel('$Cross \\ sectional \\ cloud \\ Top \\ (Km)$')\n",
    "plt.suptitle('$Cross \\ sectional \\ cloud \\ top$')\n",
    "plt.title('')\n",
    "plt.tight_layout()\n",
    "\n",
    "plt.savefig('../results/cloud_top_zhh35.jpg', dpi=300)\n",
    "plt.show()"
   ]
  },
  {
   "cell_type": "code",
   "execution_count": null,
   "id": "1de21047",
   "metadata": {},
   "outputs": [],
   "source": [
    "fig, ax = plt.subplots( figsize=(15, 6))\n",
    "axis = df_data.boxplot(column=['max_zhh'], by=['vuelo'], ax=ax)\n",
    "x_lab = [i for i in dict_flights.keys()]\n",
    "axis.set_xlabel('$Flight \\ Number$')\n",
    "axis.set_ylabel('$Cross \\ sectional \\ maximum \\ Ku \\ radar \\ reflectivity \\ (dBZ)$')\n",
    "plt.suptitle('$Cross \\ sectional \\ maximum \\ radar \\ reflectivity$')\n",
    "plt.title('')\n",
    "plt.tight_layout()\n",
    "\n",
    "plt.savefig('../results/radar_ref_zhh35.jpg', dpi=300)\n",
    "plt.show()"
   ]
  },
  {
   "cell_type": "code",
   "execution_count": null,
   "id": "0806b9a2",
   "metadata": {},
   "outputs": [],
   "source": [
    "fig, ax = plt.subplots( figsize=(15, 6))\n",
    "axis = df_data.boxplot(column=['axis_ratio_inv'], by=['vuelo'], ax=ax)\n",
    "x_lab = [i for i in dict_flights.keys()]\n",
    "axis.set_xlabel('$Flight \\ Number$')\n",
    "axis.set_ylabel('$Cross \\ sectional \\ cloud \\ axis \\ ratio$')\n",
    "plt.suptitle('$Axis \\ ratio$')\n",
    "plt.title('')\n",
    "plt.tight_layout()\n",
    "\n",
    "plt.savefig('../results/Axis_ratio_inv_zhh35.jpg', dpi=300)\n",
    "plt.show()"
   ]
  },
  {
   "cell_type": "code",
   "execution_count": null,
   "id": "72e44a0c",
   "metadata": {},
   "outputs": [],
   "source": [
    "times = df_data.cloud_top.nsmallest(10).index\n"
   ]
  },
  {
   "cell_type": "code",
   "execution_count": null,
   "id": "d4ef42c5",
   "metadata": {
    "scrolled": false
   },
   "outputs": [],
   "source": [
    "for i in times:\n",
    "    print(i)\n",
    "    ds_data = ds_xr[['zhh14', 'azimuth', 'DR']].sel(time=i)\n",
    "    ds_zhh = ds_data.zhh14.where(ds_data.alt3d > 500)\n",
    "    process_new(zhh14=ds_zhh, _range=ds_data.range, azimuth=ds_data.azimuth,\n",
    "                alt3d=ds_data.alt3d, bin_size=ds_data.DR, time=ds_data.time)"
   ]
  },
  {
   "cell_type": "code",
   "execution_count": null,
   "id": "1106e9ac",
   "metadata": {},
   "outputs": [],
   "source": [
    "df_data.axis_ratio[df_data.cloud_base.nlargest(20).index]"
   ]
  },
  {
   "cell_type": "code",
   "execution_count": null,
   "id": "93cad05a",
   "metadata": {},
   "outputs": [],
   "source": []
  },
  {
   "cell_type": "code",
   "execution_count": null,
   "id": "3aca88ff",
   "metadata": {},
   "outputs": [],
   "source": []
  }
 ],
 "metadata": {
  "kernelspec": {
   "display_name": "Python [conda env:camp2ex_proj] *",
   "language": "python",
   "name": "conda-env-camp2ex_proj-py"
  },
  "language_info": {
   "codemirror_mode": {
    "name": "ipython",
    "version": 3
   },
   "file_extension": ".py",
   "mimetype": "text/x-python",
   "name": "python",
   "nbconvert_exporter": "python",
   "pygments_lexer": "ipython3",
   "version": "3.9.4"
  }
 },
 "nbformat": 4,
 "nbformat_minor": 5
}
