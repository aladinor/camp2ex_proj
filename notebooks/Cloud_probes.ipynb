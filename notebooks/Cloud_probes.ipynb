{
 "cells": [
  {
   "cell_type": "code",
   "execution_count": 1,
   "id": "639ce78a",
   "metadata": {},
   "outputs": [],
   "source": [
    "#!/usr/bin/env python3\n",
    "# -*- coding: utf-8 -*-\n",
    "import glob\n",
    "import pandas as pd\n",
    "import matplotlib.pyplot as plt\n",
    "import matplotlib\n",
    "import matplotlib.dates as dates\n",
    "import sys\n",
    "import os\n",
    "import numpy as np\n",
    "from re import split, findall\n",
    "import xarray as xr\n",
    "from types import SimpleNamespace\n",
    "sys.path.insert(1, f\"{os.path.abspath(os.path.join(os.path.abspath(''), '../'))}\")\n",
    "from src.utils import get_pars_from_ini, make_dir\n"
   ]
  },
  {
   "cell_type": "code",
   "execution_count": 2,
   "id": "e49e651e",
   "metadata": {},
   "outputs": [],
   "source": [
    "def moment_nth(sr_nd, dict_diameters, moment):\n",
    "    mn = sr_nd * dict_diameters['delta_diam'] * dict_diameters['diameters'] ** moment\n",
    "    return mn.sum()\n",
    "\n",
    "\n",
    "class Ict2df(object):\n",
    "    def __init__(self, _file):\n",
    "        self.path_file = _file\n",
    "        self.dt, self.dt_sizes, self.sizes, self.header, self.file_type, self.bin_cent, self.dsizes = self._get_meta()\n",
    "        self.instrument = self.path_file.split('/')[-1].split('-')[-1].split('_')[0]\n",
    "        self.df = self._read_file()\n",
    "\n",
    "    def _get_meta(self):\n",
    "        with open(self.path_file, 'r') as f:\n",
    "            lines = f.readlines()\n",
    "            header, file_type = findall(r\"\\d*\\.\\d+|\\d+\", lines[0])\n",
    "            sizes = np.array([float(''.join(findall(r\"\\d*\\.\\d+|\\d+\", i[i.find('(') + 1: i.find(')')])[:1]))\n",
    "                              for i in lines[:200] if i.startswith('cbin')])\n",
    "            dsizes = sizes[1:] - sizes[:-1]\n",
    "            dsizes = np.append(dsizes, dsizes[-1])\n",
    "            bin_cent = (sizes[1:] - sizes[:-1]) / 2 + sizes[:-1]\n",
    "            bin_cent = np.append(bin_cent, sizes[-1] + dsizes[-1])\n",
    "            dt_sizes = {i: j for i, j in zip(bin_cent, dsizes)}\n",
    "            try:\n",
    "                dt = pd.to_datetime(''.join(lines[6].split(',')[:3]), format='%Y%m%d', utc=True)\n",
    "                return dt, dt_sizes, sizes, int(header) - 1, file_type, bin_cent, dsizes \n",
    "            except ValueError:\n",
    "                dt = pd.to_datetime(''.join(lines[6].split(',')[:3]).replace(' ', ''), format='%Y%m%d', utc=True)\n",
    "                return dt, dt_sizes, sizes, int(header) - 1, file_type, bin_cent, dsizes \n",
    "\n",
    "    def _read_file(self):\n",
    "        df_fcdp = pd.read_csv(self.path_file, skiprows=self.header, header=0, na_values=[-999, -9.99])\n",
    "        df_fcdp['time'] = df_fcdp.Time_Start.map(lambda x: self.dt + pd.to_timedelta(x, unit='seconds'))\n",
    "        df_fcdp['time'] = df_fcdp['time'].map(lambda x: x.to_datetime64())\n",
    "        df_fcdp.index = df_fcdp['time']\n",
    "        return df_fcdp"
   ]
  },
  {
   "cell_type": "code",
   "execution_count": 4,
   "id": "b5b0f17c",
   "metadata": {},
   "outputs": [
    {
     "name": "stdout",
     "output_type": "stream",
     "text": [
      "/data/keeling/a/alfonso8/gpm/camp2ex/data/LAWSON_PAUL/FCDP/CAMP2Ex-FCDP_P3B_20190824_R1.ict\n",
      "/data/keeling/a/alfonso8/gpm/camp2ex/data/LAWSON_PAUL/Hawk2DS10/CAMP2Ex-Hawk2DS10_Learjet_20190907_R0_L1.ict\n",
      "/data/keeling/a/alfonso8/gpm/camp2ex/data/LAWSON_PAUL/Hawk2DS50/CAMP2Ex-Hawk2DS50_Learjet_20190907_R0_L1.ict\n",
      "/data/keeling/a/alfonso8/gpm/camp2ex/data/LAWSON_PAUL/HawkFCDP/CAMP2Ex-HawkFCDP_P3B_20191005_R1.ict\n",
      "/data/keeling/a/alfonso8/gpm/camp2ex/data/LAWSON_PAUL/HVPS/CAMP2Ex-HVPS_Learjet_20190907_R0_L1.ICT\n"
     ]
    }
   ],
   "source": [
    "location = split(', |_|-|!', os.popen('hostname').read())[0].replace(\"\\n\", \"\")\n",
    "path_data = get_pars_from_ini(campaign='loc')[location]['path_data']\n",
    "\n",
    "# Data\n",
    "_file = f'{path_data}/data/LAWSON_PAUL/FCDP/CAMP2Ex-FCDP_P3B_20190824_R1.ict'\n",
    "_file1 = f'{path_data}/data/LAWSON_PAUL/Hawk2DS10/CAMP2Ex-Hawk2DS10_Learjet_20190907_R0_L1.ict'\n",
    "_file2 = f'{path_data}/data/LAWSON_PAUL/Hawk2DS50/CAMP2Ex-Hawk2DS50_Learjet_20190907_R0_L1.ict'\n",
    "_file3 = f'{path_data}/data/LAWSON_PAUL/HawkFCDP/CAMP2Ex-HawkFCDP_P3B_20191005_R1.ict'\n",
    "_file4 = f'{path_data}/data/LAWSON_PAUL/HVPS/CAMP2Ex-HVPS_Learjet_20190907_R0_L1.ICT'\n",
    "\n",
    "_files = [_file, _file1, _file2, _file3, _file4]\n",
    "\n",
    "for i in _files:\n",
    "    print(i)\n",
    "    _type = i.split('/')[-1].split('-')[-1].split('_')[0]\n",
    "    files = glob.glob(f'{path_data}/data/LAWSON_PAUL/{_type}/CAMP2Ex-{_type}*')\n",
    "    example = Ict2df(i)\n",
    "    ls_pd = [Ict2df(i).df for i in files]\n",
    "    df_all = pd.concat(ls_pd)\n",
    "    df_all.to_pickle(f'{path_data}/data/LAWSON_PAUL/{_type}/{_type}_all.pkl')"
   ]
  },
  {
   "cell_type": "code",
   "execution_count": 5,
   "id": "c5c80479",
   "metadata": {},
   "outputs": [
    {
     "data": {
      "text/plain": [
       "{}"
      ]
     },
     "execution_count": 5,
     "metadata": {},
     "output_type": "execute_result"
    }
   ],
   "source": [
    "df_all.attrs"
   ]
  },
  {
   "cell_type": "code",
   "execution_count": null,
   "id": "4280c704",
   "metadata": {},
   "outputs": [],
   "source": [
    "inicio = pd.to_datetime('2019-09-07 00:00:00', format='%Y-%m-%d %H:%M:%S')\n",
    "fin = pd.to_datetime('2019-09-07 00:05:00', format='%Y-%m-%d %H:%M:%S') \n",
    "lis = pd.date_range(inicio, fin, freq='1min')"
   ]
  },
  {
   "cell_type": "code",
   "execution_count": null,
   "id": "a1abce0d",
   "metadata": {
    "scrolled": false
   },
   "outputs": [],
   "source": [
    "filtered = df_all[(df_all.index > inicio) & (df_all.index < fin)].filter(like='cbin')"
   ]
  },
  {
   "cell_type": "code",
   "execution_count": null,
   "id": "5856533b",
   "metadata": {},
   "outputs": [],
   "source": [
    "example.bin_cent"
   ]
  },
  {
   "cell_type": "code",
   "execution_count": null,
   "id": "bab5021a",
   "metadata": {},
   "outputs": [],
   "source": [
    "cdict = {'red': ((0., 1, 1),\n",
    "                 (0.05, 1, 1),\n",
    "                 (0.11, 0, 0),\n",
    "                 (0.66, 1, 1),\n",
    "                 (0.89, 1, 1),\n",
    "                 (1, 0.5, 0.5)),\n",
    "         'green': ((0., 1, 1),\n",
    "                   (0.05, 1, 1),\n",
    "                   (0.11, 0, 0),\n",
    "                   (0.375, 1, 1),\n",
    "                   (0.64, 1, 1),\n",
    "                   (0.91, 0, 0),\n",
    "                   (1, 0, 0)),\n",
    "         'blue': ((0., 1, 1),\n",
    "                  (0.05, 1, 1),\n",
    "                  (0.11, 1, 1),\n",
    "                  (0.34, 1, 1),\n",
    "                  (0.65, 0, 0),\n",
    "                  (1, 0, 0))}\n",
    "\n",
    "my_cmap = matplotlib.colors.LinearSegmentedColormap('my_colormap',cdict,256)"
   ]
  },
  {
   "cell_type": "code",
   "execution_count": null,
   "id": "68e2ecc6",
   "metadata": {},
   "outputs": [],
   "source": [
    "plt.figure(figsize=(15,4.5))\n",
    "# plt.rc(group='text', fontsize=14, usetex=True)\n",
    "plt.pcolormesh(filtered.index.values, example.bin_cent, filtered.T, cmap=my_cmap,  vmin=0, vmax=10000, shading='auto') #  vmin=0, vmax=5,\n",
    "# plt.pcolormesh(filtered.columns,  filtered.index.values, filtered, cmap=my_cmap, shading='auto') #  vmin=0, vmax=5,\n",
    "\n",
    "plt.colorbar(pad=0.01, aspect=20).set_ticks(np.arange(0,10000,1000))\n",
    "plt.ylabel(r'$Di\\acute{a}metro, mm$', fontsize='x-large')\n",
    "# plt.yticks(np.arange(0,9,2))\n",
    "plt.xlabel('$Hora, HLC$', fontsize='x-large')\n",
    "plt.title('$N(D), \\log_{10} (\\# \\ m^{-3} mm^{-1}) $',  position=(0.8, 0.85), fontsize='x-large')\n",
    "plt.gca().xaxis.set_major_formatter(dates.DateFormatter('%H:%M')) "
   ]
  },
  {
   "cell_type": "code",
   "execution_count": null,
   "id": "3c1f8b56",
   "metadata": {},
   "outputs": [],
   "source": [
    "# ds = xr.Dataset.from_dataframe(df_all)\n",
    "# ds.attrs['dsizes'] = example.dsizes\n",
    "# ds.attrs['ls_sizes'] = example.sizes\n",
    "# ds.attrs['bin_cent'] = example.bin_cent"
   ]
  },
  {
   "cell_type": "code",
   "execution_count": null,
   "id": "d4b54e4c",
   "metadata": {},
   "outputs": [],
   "source": [
    "# folder = f'{path_data}/data/LAWSON_PAUL/{_type}/zarr'\n",
    "# make_dir(folder)\n",
    "# ds.to_zarr(folder)"
   ]
  },
  {
   "cell_type": "code",
   "execution_count": null,
   "id": "fa57374f",
   "metadata": {},
   "outputs": [],
   "source": [
    "#\n",
    "# Plotting PDS\n",
    "_date, dt_sizes = example.dt, example.dt_sizes\n",
    "values = df_all[df_all.conc > 100000].filter(like='cbin').iloc[0]\n",
    "fig, ax = plt.subplots(1, 1)\n",
    "ax.scatter(x=list(dt_sizes.keys()), y=values, c='k', marker='*')\n",
    "ax.set_yscale('log')\n",
    "ax.set_ylabel('Number Concentration (#/L)')\n",
    "ax.set_xlabel('Diameter (um)')\n",
    "ax.set_xlim(0, 150)\n",
    "ax.grid()\n",
    "plt.show()\n",
    "print(1)\n",
    "#\n",
    "\n"
   ]
  },
  {
   "cell_type": "code",
   "execution_count": null,
   "id": "5379501e",
   "metadata": {},
   "outputs": [],
   "source": [
    "df_all[df_all.conc > 1000].filter(like='cbin')"
   ]
  },
  {
   "cell_type": "code",
   "execution_count": null,
   "id": "abeb38ce",
   "metadata": {},
   "outputs": [],
   "source": [
    "df_all[df_all.conc > 10000]"
   ]
  },
  {
   "cell_type": "code",
   "execution_count": null,
   "id": "d0df8c98",
   "metadata": {},
   "outputs": [],
   "source": []
  }
 ],
 "metadata": {
  "kernelspec": {
   "display_name": "Python [conda env:camp2ex_proj] *",
   "language": "python",
   "name": "conda-env-camp2ex_proj-py"
  },
  "language_info": {
   "codemirror_mode": {
    "name": "ipython",
    "version": 3
   },
   "file_extension": ".py",
   "mimetype": "text/x-python",
   "name": "python",
   "nbconvert_exporter": "python",
   "pygments_lexer": "ipython3",
   "version": "3.9.4"
  }
 },
 "nbformat": 4,
 "nbformat_minor": 5
}
