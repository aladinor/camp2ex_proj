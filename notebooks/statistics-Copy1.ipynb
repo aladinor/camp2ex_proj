{
 "cells": [
  {
   "cell_type": "code",
   "execution_count": 1,
   "id": "92a6932d",
   "metadata": {},
   "outputs": [],
   "source": [
    "#!/usr/bin/env python3\n",
    "# -*- coding: utf-8 -*-\n",
    "import os\n",
    "import sys\n",
    "import pandas as pd\n",
    "from re import split\n",
    "from ast import literal_eval\n",
    "import matplotlib.pyplot as plt\n",
    "import xarray as xr\n",
    "import seaborn as sns\n",
    "sys.path.insert(1, f\"{os.path.abspath(os.path.join(os.path.abspath(''), '../'))}\")\n",
    "from src.utils import get_pars_from_ini\n",
    "import numpy as np\n",
    "from dask_jobqueue import SLURMCluster\n",
    "from dask.distributed import Client, progress\n",
    "import json\n",
    "location = split(', |_|-|!', os.popen('hostname').read())[0].replace(\"\\n\", \"\")\n",
    "path_data = get_pars_from_ini(campaign='loc')[location]['path_data']\n",
    "path_proj = get_pars_from_ini(campaign='loc')[location]['path_proj']\n",
    "plt.style.use('seaborn')"
   ]
  },
  {
   "cell_type": "code",
   "execution_count": 2,
   "id": "45909d56",
   "metadata": {},
   "outputs": [],
   "source": [
    "cluster = SLURMCluster(queue=\"seseml\",\n",
    "                       memory='200GB',\n",
    "                       cores=40,\n",
    "                       processes=1,\n",
    "                       walltime='23:40:00',\n",
    "                       scheduler_options={'host': '172.22.179.3:7222', 'dashboard_address': ':7778'})"
   ]
  },
  {
   "cell_type": "code",
   "execution_count": 3,
   "id": "3dbab7a2",
   "metadata": {},
   "outputs": [
    {
     "data": {
      "application/vnd.jupyter.widget-view+json": {
       "model_id": "68699e1f0cdf4f0c90c68aa894d82d71",
       "version_major": 2,
       "version_minor": 0
      },
      "text/plain": [
       "Tab(children=(HTML(value='<div class=\"jp-RenderedHTMLCommon jp-RenderedHTML jp-mod-trusted jp-OutputArea-outpu…"
      ]
     },
     "metadata": {},
     "output_type": "display_data"
    }
   ],
   "source": [
    "cluster.scale(1)\n",
    "cluster"
   ]
  },
  {
   "cell_type": "code",
   "execution_count": 4,
   "id": "0437b7de",
   "metadata": {},
   "outputs": [
    {
     "data": {
      "text/html": [
       "<div>\n",
       "    <div style=\"width: 24px; height: 24px; background-color: #e1e1e1; border: 3px solid #9D9D9D; border-radius: 5px; position: absolute;\"> </div>\n",
       "    <div style=\"margin-left: 48px;\">\n",
       "        <h3 style=\"margin-bottom: 0px;\">Client</h3>\n",
       "        <p style=\"color: #9D9D9D; margin-bottom: 0px;\">Client-ca80dbe3-3c50-11ec-a9b3-b083fed70206</p>\n",
       "        <table style=\"width: 100%; text-align: left;\">\n",
       "\n",
       "        <tr>\n",
       "        \n",
       "            <td style=\"text-align: left;\"><strong>Connection method:</strong> Cluster object</td>\n",
       "            <td style=\"text-align: left;\"><strong>Cluster type:</strong> dask_jobqueue.SLURMCluster</td>\n",
       "        \n",
       "        </tr>\n",
       "\n",
       "        \n",
       "            <tr>\n",
       "                <td style=\"text-align: left;\">\n",
       "                    <strong>Dashboard: </strong> <a href=\"http://172.22.179.3:7778/status\" target=\"_blank\">http://172.22.179.3:7778/status</a>\n",
       "                </td>\n",
       "                <td style=\"text-align: left;\"></td>\n",
       "            </tr>\n",
       "        \n",
       "\n",
       "        </table>\n",
       "\n",
       "        \n",
       "            <details>\n",
       "            <summary style=\"margin-bottom: 20px;\"><h3 style=\"display: inline;\">Cluster Info</h3></summary>\n",
       "            <div class=\"jp-RenderedHTMLCommon jp-RenderedHTML jp-mod-trusted jp-OutputArea-output\">\n",
       "    <div style=\"width: 24px; height: 24px; background-color: #e1e1e1; border: 3px solid #9D9D9D; border-radius: 5px; position: absolute;\">\n",
       "    </div>\n",
       "    <div style=\"margin-left: 48px;\">\n",
       "        <h3 style=\"margin-bottom: 0px; margin-top: 0px;\">SLURMCluster</h3>\n",
       "        <p style=\"color: #9D9D9D; margin-bottom: 0px;\">54b2f141</p>\n",
       "        <table style=\"width: 100%; text-align: left;\">\n",
       "            <tr>\n",
       "                <td style=\"text-align: left;\">\n",
       "                    <strong>Dashboard:</strong> <a href=\"http://172.22.179.3:7778/status\" target=\"_blank\">http://172.22.179.3:7778/status</a>\n",
       "                </td>\n",
       "                <td style=\"text-align: left;\">\n",
       "                    <strong>Workers:</strong> 0\n",
       "                </td>\n",
       "            </tr>\n",
       "            <tr>\n",
       "                <td style=\"text-align: left;\">\n",
       "                    <strong>Total threads:</strong> 0\n",
       "                </td>\n",
       "                <td style=\"text-align: left;\">\n",
       "                    <strong>Total memory:</strong> 0 B\n",
       "                </td>\n",
       "            </tr>\n",
       "            \n",
       "        </table>\n",
       "\n",
       "        <details>\n",
       "            <summary style=\"margin-bottom: 20px;\">\n",
       "                <h3 style=\"display: inline;\">Scheduler Info</h3>\n",
       "            </summary>\n",
       "\n",
       "            <div style=\"\">\n",
       "    <div>\n",
       "        <div style=\"width: 24px; height: 24px; background-color: #FFF7E5; border: 3px solid #FF6132; border-radius: 5px; position: absolute;\"> </div>\n",
       "        <div style=\"margin-left: 48px;\">\n",
       "            <h3 style=\"margin-bottom: 0px;\">Scheduler</h3>\n",
       "            <p style=\"color: #9D9D9D; margin-bottom: 0px;\">Scheduler-eb71c65e-c738-4cc5-99fe-f7e87b88201a</p>\n",
       "            <table style=\"width: 100%; text-align: left;\">\n",
       "                <tr>\n",
       "                    <td style=\"text-align: left;\">\n",
       "                        <strong>Comm:</strong> tcp://172.22.179.3:7222\n",
       "                    </td>\n",
       "                    <td style=\"text-align: left;\">\n",
       "                        <strong>Workers:</strong> 0\n",
       "                    </td>\n",
       "                </tr>\n",
       "                <tr>\n",
       "                    <td style=\"text-align: left;\">\n",
       "                        <strong>Dashboard:</strong> <a href=\"http://172.22.179.3:7778/status\" target=\"_blank\">http://172.22.179.3:7778/status</a>\n",
       "                    </td>\n",
       "                    <td style=\"text-align: left;\">\n",
       "                        <strong>Total threads:</strong> 0\n",
       "                    </td>\n",
       "                </tr>\n",
       "                <tr>\n",
       "                    <td style=\"text-align: left;\">\n",
       "                        <strong>Started:</strong> Just now\n",
       "                    </td>\n",
       "                    <td style=\"text-align: left;\">\n",
       "                        <strong>Total memory:</strong> 0 B\n",
       "                    </td>\n",
       "                </tr>\n",
       "            </table>\n",
       "        </div>\n",
       "    </div>\n",
       "\n",
       "    <details style=\"margin-left: 48px;\">\n",
       "        <summary style=\"margin-bottom: 20px;\">\n",
       "            <h3 style=\"display: inline;\">Workers</h3>\n",
       "        </summary>\n",
       "\n",
       "        \n",
       "\n",
       "    </details>\n",
       "</div>\n",
       "\n",
       "        </details>\n",
       "    </div>\n",
       "</div>\n",
       "            </details>\n",
       "        \n",
       "\n",
       "    </div>\n",
       "</div>"
      ],
      "text/plain": [
       "<Client: 'tcp://172.22.179.3:7222' processes=0 threads=0, memory=0 B>"
      ]
     },
     "execution_count": 4,
     "metadata": {},
     "output_type": "execute_result"
    }
   ],
   "source": [
    "client = Client(cluster)\n",
    "client"
   ]
  },
  {
   "cell_type": "code",
   "execution_count": 5,
   "id": "f6147964",
   "metadata": {},
   "outputs": [],
   "source": [
    "def literal_converter(val):\n",
    "    # replace first val with '' or some other null identifier if required\n",
    "    return val if val == '' else literal_eval(val)\n",
    "\n",
    "def str_to_arr(x):\n",
    "    w = x.replace('\\n', '').replace(\"'\", \"\").replace(\"   \", \",\").replace(\"  \", \",\").replace(\" \", \",\").replace(\".\", \"\")\n",
    "    w = w[0:1] + w[2:]\n",
    "    return np.array(json.loads(w))"
   ]
  },
  {
   "cell_type": "code",
   "execution_count": 6,
   "id": "e2d231ee",
   "metadata": {},
   "outputs": [],
   "source": [
    "df = pd.read_csv('../results/all_filtered_01_11_2021.csv', parse_dates=['Unnamed: 0'], index_col=['Unnamed: 0'],\n",
    "                 converters=dict.fromkeys(['area', 'perimeter', 'ax_max', 'ax_min', 'bbox'], literal_converter))"
   ]
  },
  {
   "cell_type": "code",
   "execution_count": 7,
   "id": "9379ca72",
   "metadata": {},
   "outputs": [
    {
     "data": {
      "text/html": [
       "<div>\n",
       "<style scoped>\n",
       "    .dataframe tbody tr th:only-of-type {\n",
       "        vertical-align: middle;\n",
       "    }\n",
       "\n",
       "    .dataframe tbody tr th {\n",
       "        vertical-align: top;\n",
       "    }\n",
       "\n",
       "    .dataframe thead th {\n",
       "        text-align: right;\n",
       "    }\n",
       "</style>\n",
       "<table border=\"1\" class=\"dataframe\">\n",
       "  <thead>\n",
       "    <tr style=\"text-align: right;\">\n",
       "      <th></th>\n",
       "      <th>area</th>\n",
       "      <th>perimeter</th>\n",
       "      <th>axmax</th>\n",
       "      <th>axmin</th>\n",
       "      <th>bbox</th>\n",
       "      <th>num_px</th>\n",
       "    </tr>\n",
       "  </thead>\n",
       "  <tbody>\n",
       "    <tr>\n",
       "      <th>2019-08-24 23:05:44.899800</th>\n",
       "      <td>[3247]</td>\n",
       "      <td>[354.37972567696687]</td>\n",
       "      <td>[109.36154814265889]</td>\n",
       "      <td>[42.57134071252363]</td>\n",
       "      <td>[(206, 189, 256, 301)]</td>\n",
       "      <td>[  0.   0.   0.   0.   0.   0.   0.   0.   0. ...</td>\n",
       "    </tr>\n",
       "    <tr>\n",
       "      <th>2019-08-24 23:05:46.749800</th>\n",
       "      <td>[6333]</td>\n",
       "      <td>[395.5929291125633]</td>\n",
       "      <td>[138.96208248908295]</td>\n",
       "      <td>[61.31414141537406]</td>\n",
       "      <td>[(204, 170, 291, 310)]</td>\n",
       "      <td>[  0.   0.   0.   0.   0.   0.   0.   0.   0. ...</td>\n",
       "    </tr>\n",
       "    <tr>\n",
       "      <th>2019-08-24 23:05:48.599800</th>\n",
       "      <td>[8865]</td>\n",
       "      <td>[452.9421715174808]</td>\n",
       "      <td>[132.75688385959148]</td>\n",
       "      <td>[90.71012762641168]</td>\n",
       "      <td>[(204, 171, 292, 313)]</td>\n",
       "      <td>[  0.   0.   0.   0.   0.   0.   0.   0.   0. ...</td>\n",
       "    </tr>\n",
       "  </tbody>\n",
       "</table>\n",
       "</div>"
      ],
      "text/plain": [
       "                              area             perimeter  \\\n",
       "2019-08-24 23:05:44.899800  [3247]  [354.37972567696687]   \n",
       "2019-08-24 23:05:46.749800  [6333]   [395.5929291125633]   \n",
       "2019-08-24 23:05:48.599800  [8865]   [452.9421715174808]   \n",
       "\n",
       "                                           axmax                axmin  \\\n",
       "2019-08-24 23:05:44.899800  [109.36154814265889]  [42.57134071252363]   \n",
       "2019-08-24 23:05:46.749800  [138.96208248908295]  [61.31414141537406]   \n",
       "2019-08-24 23:05:48.599800  [132.75688385959148]  [90.71012762641168]   \n",
       "\n",
       "                                              bbox  \\\n",
       "2019-08-24 23:05:44.899800  [(206, 189, 256, 301)]   \n",
       "2019-08-24 23:05:46.749800  [(204, 170, 291, 310)]   \n",
       "2019-08-24 23:05:48.599800  [(204, 171, 292, 313)]   \n",
       "\n",
       "                                                                       num_px  \n",
       "2019-08-24 23:05:44.899800  [  0.   0.   0.   0.   0.   0.   0.   0.   0. ...  \n",
       "2019-08-24 23:05:46.749800  [  0.   0.   0.   0.   0.   0.   0.   0.   0. ...  \n",
       "2019-08-24 23:05:48.599800  [  0.   0.   0.   0.   0.   0.   0.   0.   0. ...  "
      ]
     },
     "execution_count": 7,
     "metadata": {},
     "output_type": "execute_result"
    }
   ],
   "source": [
    "df.head(3)"
   ]
  },
  {
   "cell_type": "code",
   "execution_count": 8,
   "id": "040b58da",
   "metadata": {},
   "outputs": [],
   "source": [
    "df.columns = ['area', 'perimeter', 'depth', 'width', 'bbox', 'num_px']\n",
    "df.num_px = df.num_px.apply(lambda x: str_to_arr(x))"
   ]
  },
  {
   "cell_type": "code",
   "execution_count": 9,
   "id": "1fff6514",
   "metadata": {},
   "outputs": [
    {
     "data": {
      "text/html": [
       "<div>\n",
       "<style scoped>\n",
       "    .dataframe tbody tr th:only-of-type {\n",
       "        vertical-align: middle;\n",
       "    }\n",
       "\n",
       "    .dataframe tbody tr th {\n",
       "        vertical-align: top;\n",
       "    }\n",
       "\n",
       "    .dataframe thead th {\n",
       "        text-align: right;\n",
       "    }\n",
       "</style>\n",
       "<table border=\"1\" class=\"dataframe\">\n",
       "  <thead>\n",
       "    <tr style=\"text-align: right;\">\n",
       "      <th></th>\n",
       "      <th>area</th>\n",
       "      <th>perimeter</th>\n",
       "      <th>depth</th>\n",
       "      <th>width</th>\n",
       "      <th>bbox</th>\n",
       "      <th>num_px</th>\n",
       "    </tr>\n",
       "  </thead>\n",
       "  <tbody>\n",
       "    <tr>\n",
       "      <th>2019-08-24 23:05:44.899800</th>\n",
       "      <td>[3247]</td>\n",
       "      <td>[354.37972567696687]</td>\n",
       "      <td>[109.36154814265889]</td>\n",
       "      <td>[42.57134071252363]</td>\n",
       "      <td>[(206, 189, 256, 301)]</td>\n",
       "      <td>[0, 0, 0, 0, 0, 0, 0, 0, 0, 0, 0, 0, 0, 0, 0, ...</td>\n",
       "    </tr>\n",
       "    <tr>\n",
       "      <th>2019-08-24 23:05:46.749800</th>\n",
       "      <td>[6333]</td>\n",
       "      <td>[395.5929291125633]</td>\n",
       "      <td>[138.96208248908295]</td>\n",
       "      <td>[61.31414141537406]</td>\n",
       "      <td>[(204, 170, 291, 310)]</td>\n",
       "      <td>[0, 0, 0, 0, 0, 0, 0, 0, 0, 0, 0, 0, 0, 0, 0, ...</td>\n",
       "    </tr>\n",
       "    <tr>\n",
       "      <th>2019-08-24 23:05:48.599800</th>\n",
       "      <td>[8865]</td>\n",
       "      <td>[452.9421715174808]</td>\n",
       "      <td>[132.75688385959148]</td>\n",
       "      <td>[90.71012762641168]</td>\n",
       "      <td>[(204, 171, 292, 313)]</td>\n",
       "      <td>[0, 0, 0, 0, 0, 0, 0, 0, 0, 0, 0, 0, 0, 0, 0, ...</td>\n",
       "    </tr>\n",
       "  </tbody>\n",
       "</table>\n",
       "</div>"
      ],
      "text/plain": [
       "                              area             perimeter  \\\n",
       "2019-08-24 23:05:44.899800  [3247]  [354.37972567696687]   \n",
       "2019-08-24 23:05:46.749800  [6333]   [395.5929291125633]   \n",
       "2019-08-24 23:05:48.599800  [8865]   [452.9421715174808]   \n",
       "\n",
       "                                           depth                width  \\\n",
       "2019-08-24 23:05:44.899800  [109.36154814265889]  [42.57134071252363]   \n",
       "2019-08-24 23:05:46.749800  [138.96208248908295]  [61.31414141537406]   \n",
       "2019-08-24 23:05:48.599800  [132.75688385959148]  [90.71012762641168]   \n",
       "\n",
       "                                              bbox  \\\n",
       "2019-08-24 23:05:44.899800  [(206, 189, 256, 301)]   \n",
       "2019-08-24 23:05:46.749800  [(204, 170, 291, 310)]   \n",
       "2019-08-24 23:05:48.599800  [(204, 171, 292, 313)]   \n",
       "\n",
       "                                                                       num_px  \n",
       "2019-08-24 23:05:44.899800  [0, 0, 0, 0, 0, 0, 0, 0, 0, 0, 0, 0, 0, 0, 0, ...  \n",
       "2019-08-24 23:05:46.749800  [0, 0, 0, 0, 0, 0, 0, 0, 0, 0, 0, 0, 0, 0, 0, ...  \n",
       "2019-08-24 23:05:48.599800  [0, 0, 0, 0, 0, 0, 0, 0, 0, 0, 0, 0, 0, 0, 0, ...  "
      ]
     },
     "execution_count": 9,
     "metadata": {},
     "output_type": "execute_result"
    }
   ],
   "source": [
    "df.head(3)"
   ]
  },
  {
   "cell_type": "code",
   "execution_count": 10,
   "id": "0ceee437",
   "metadata": {},
   "outputs": [],
   "source": [
    "ds_prop = pd.read_csv(f'{path_proj}/results/all_filtered.csv', names=['dates'], header=None, skiprows=[0])\n",
    "ds_prop.dates = pd.to_datetime(ds_prop.dates)\n",
    "times = list(ds_prop.dates)"
   ]
  },
  {
   "cell_type": "code",
   "execution_count": 11,
   "id": "c13c4154",
   "metadata": {},
   "outputs": [
    {
     "name": "stdout",
     "output_type": "stream",
     "text": [
      "CPU times: user 771 ms, sys: 90.8 ms, total: 862 ms\n",
      "Wall time: 862 ms\n"
     ]
    }
   ],
   "source": [
    "%%time\n",
    "ds_xr = xr.open_zarr(f'{path_data}/zarr_rckd/KUsKAs_Wn/lores.zarr')\n",
    "ds_xr = ds_xr.sel(time=~ds_xr.get_index(\"time\").duplicated())"
   ]
  },
  {
   "cell_type": "code",
   "execution_count": 12,
   "id": "56438446",
   "metadata": {},
   "outputs": [],
   "source": [
    "ds_data = ds_xr[['zhh14', 'alt3D']].sel(time=times)\n",
    "ds_zhh14 = ds_data.zhh14.where(ds_xr.alt3d > 500)\n"
   ]
  },
  {
   "cell_type": "code",
   "execution_count": 13,
   "id": "b74d17fa",
   "metadata": {},
   "outputs": [],
   "source": [
    "ds_elevation = ds_data.alt3D.sel(cross_track=12, range=0).to_dataframe()\n"
   ]
  },
  {
   "cell_type": "code",
   "execution_count": 14,
   "id": "7f809f51",
   "metadata": {},
   "outputs": [],
   "source": [
    "df_zhh = ds_zhh14.sel(cross_track=slice(2, 22)).max(dim=['cross_track', 'range']).to_dataframe(name='zhh14')"
   ]
  },
  {
   "cell_type": "code",
   "execution_count": 15,
   "id": "db95601e",
   "metadata": {},
   "outputs": [],
   "source": [
    "df = df.merge(ds_elevation, left_index=True, right_index=True)"
   ]
  },
  {
   "cell_type": "code",
   "execution_count": 16,
   "id": "c6df9464",
   "metadata": {},
   "outputs": [],
   "source": [
    "df = df.merge(df_zhh, left_index=True, right_index=True)"
   ]
  },
  {
   "cell_type": "code",
   "execution_count": 17,
   "id": "acc61da4",
   "metadata": {},
   "outputs": [
    {
     "data": {
      "text/html": [
       "<div>\n",
       "<style scoped>\n",
       "    .dataframe tbody tr th:only-of-type {\n",
       "        vertical-align: middle;\n",
       "    }\n",
       "\n",
       "    .dataframe tbody tr th {\n",
       "        vertical-align: top;\n",
       "    }\n",
       "\n",
       "    .dataframe thead th {\n",
       "        text-align: right;\n",
       "    }\n",
       "</style>\n",
       "<table border=\"1\" class=\"dataframe\">\n",
       "  <thead>\n",
       "    <tr style=\"text-align: right;\">\n",
       "      <th></th>\n",
       "      <th>area</th>\n",
       "      <th>perimeter</th>\n",
       "      <th>depth</th>\n",
       "      <th>width</th>\n",
       "      <th>bbox</th>\n",
       "      <th>num_px</th>\n",
       "      <th>alt3d</th>\n",
       "      <th>cross_track</th>\n",
       "      <th>lat3d</th>\n",
       "      <th>lon3d</th>\n",
       "      <th>alt3D</th>\n",
       "      <th>zhh14</th>\n",
       "    </tr>\n",
       "  </thead>\n",
       "  <tbody>\n",
       "  </tbody>\n",
       "</table>\n",
       "</div>"
      ],
      "text/plain": [
       "Empty DataFrame\n",
       "Columns: [area, perimeter, depth, width, bbox, num_px, alt3d, cross_track, lat3d, lon3d, alt3D, zhh14]\n",
       "Index: []"
      ]
     },
     "execution_count": 17,
     "metadata": {},
     "output_type": "execute_result"
    }
   ],
   "source": [
    "df.head(2)"
   ]
  },
  {
   "cell_type": "code",
   "execution_count": 18,
   "id": "1b05156d",
   "metadata": {},
   "outputs": [],
   "source": [
    "df = df.explode(['area', 'depth', 'width'])\n",
    "df = df.explode(['perimeter'])\n",
    "df = df.astype({'area': float, 'perimeter':float, 'depth': float, 'width':float, 'bbox':object})\n",
    "df = df.explode(['bbox'])"
   ]
  },
  {
   "cell_type": "code",
   "execution_count": 19,
   "id": "48e8b9d3",
   "metadata": {},
   "outputs": [
    {
     "data": {
      "text/html": [
       "<div>\n",
       "<style scoped>\n",
       "    .dataframe tbody tr th:only-of-type {\n",
       "        vertical-align: middle;\n",
       "    }\n",
       "\n",
       "    .dataframe tbody tr th {\n",
       "        vertical-align: top;\n",
       "    }\n",
       "\n",
       "    .dataframe thead th {\n",
       "        text-align: right;\n",
       "    }\n",
       "</style>\n",
       "<table border=\"1\" class=\"dataframe\">\n",
       "  <thead>\n",
       "    <tr style=\"text-align: right;\">\n",
       "      <th></th>\n",
       "      <th>area</th>\n",
       "      <th>perimeter</th>\n",
       "      <th>depth</th>\n",
       "      <th>width</th>\n",
       "      <th>bbox</th>\n",
       "      <th>num_px</th>\n",
       "      <th>alt3d</th>\n",
       "      <th>cross_track</th>\n",
       "      <th>lat3d</th>\n",
       "      <th>lon3d</th>\n",
       "      <th>alt3D</th>\n",
       "      <th>zhh14</th>\n",
       "    </tr>\n",
       "  </thead>\n",
       "  <tbody>\n",
       "  </tbody>\n",
       "</table>\n",
       "</div>"
      ],
      "text/plain": [
       "Empty DataFrame\n",
       "Columns: [area, perimeter, depth, width, bbox, num_px, alt3d, cross_track, lat3d, lon3d, alt3D, zhh14]\n",
       "Index: []"
      ]
     },
     "execution_count": 19,
     "metadata": {},
     "output_type": "execute_result"
    }
   ],
   "source": [
    "df.head()"
   ]
  },
  {
   "cell_type": "code",
   "execution_count": 20,
   "id": "7966a9bb",
   "metadata": {},
   "outputs": [],
   "source": [
    "df = df.astype({'area': float, 'perimeter':float, 'depth': float, 'width':float, 'bbox':object})"
   ]
  },
  {
   "cell_type": "code",
   "execution_count": 21,
   "id": "6cf16d95",
   "metadata": {},
   "outputs": [],
   "source": [
    "df['area_km2'] = df.area * 30**2 / 1000**2\n",
    "df['perimeter_km'] = df.perimeter * 30 / 1000 \n",
    "df['depth_km'] = df.depth * 30 / 1000 \n",
    "df['width_km'] = df.width * 30 / 1000 \n"
   ]
  },
  {
   "cell_type": "code",
   "execution_count": 22,
   "id": "982b547d",
   "metadata": {},
   "outputs": [],
   "source": [
    "df_bbox = pd.DataFrame(df.bbox.to_list(), columns=['min_row', 'min_col', 'max_row', 'max_col'], \n",
    "                       index = df.index)"
   ]
  },
  {
   "cell_type": "code",
   "execution_count": 23,
   "id": "3dcd829c",
   "metadata": {},
   "outputs": [],
   "source": [
    "df_bbox = df_bbox.multiply(30 / 1000)"
   ]
  },
  {
   "cell_type": "code",
   "execution_count": null,
   "id": "06446f26",
   "metadata": {},
   "outputs": [],
   "source": [
    "df = df.merge(df_bbox, left_index=True, right_index=True)"
   ]
  },
  {
   "cell_type": "code",
   "execution_count": null,
   "id": "025b7fc5",
   "metadata": {},
   "outputs": [],
   "source": [
    "df['cloud_top'] =  df['alt3D'] / 1000 - df['min_row'] \n",
    "df['cloud_base'] =  df['alt3D'] / 1000 - df['max_row'] "
   ]
  },
  {
   "cell_type": "code",
   "execution_count": null,
   "id": "bc021b0f",
   "metadata": {
    "scrolled": false
   },
   "outputs": [],
   "source": [
    "df['day'] = pd.to_datetime(df.index.strftime('%Y-%m-%d'))"
   ]
  },
  {
   "cell_type": "code",
   "execution_count": null,
   "id": "dc465023",
   "metadata": {},
   "outputs": [],
   "source": [
    "df_day = df.groupby(df.index.floor('d'))\n",
    "flights = list(df_day.groups.keys())\n",
    "dict_flights = {f'RF{i + 1:02d}':flights[i] for i in range(len(flights)) }\n",
    "dict_fl = {flights[i]:f'RF{i + 1:02d}' for i in range(len(flights)) }"
   ]
  },
  {
   "cell_type": "code",
   "execution_count": null,
   "id": "a6ba82c7",
   "metadata": {},
   "outputs": [],
   "source": [
    "df['vuelo'] = df['day'].replace(dict_fl)"
   ]
  },
  {
   "cell_type": "markdown",
   "id": "64b860a2",
   "metadata": {},
   "source": [
    "## Applying filters"
   ]
  },
  {
   "cell_type": "code",
   "execution_count": null,
   "id": "14293da7",
   "metadata": {},
   "outputs": [],
   "source": [
    "df = df[df.area > 100]\n",
    "df = df[df.zhh14 < 59]\n",
    "df = df[df.cloud_base > 0.5]\n",
    "df = df[df.cloud_base < 3.9]\n",
    "\n",
    "df = df[df.cloud_top > 2]\n",
    "df = df[df.depth_km < 8]\n",
    "df = df[df.width_km < 4.2]\n"
   ]
  },
  {
   "cell_type": "code",
   "execution_count": null,
   "id": "79f0098b",
   "metadata": {
    "scrolled": false
   },
   "outputs": [],
   "source": [
    "fig, ax = plt.subplots( figsize=(15, 6))\n",
    "axis = df.boxplot(column=['area_km2'], by=['vuelo'], ax=ax)\n",
    "x_lab = [i for i in dict_flights.keys()]\n",
    "axis.set_xlabel('$Flight \\ Number$')\n",
    "axis.set_ylabel('$Cloud \\ area \\ (Km^{2})$')\n",
    "plt.suptitle('$Cloud \\ Area$')\n",
    "plt.title('')\n",
    "plt.savefig('../results/area.jpg')\n",
    "plt.show()"
   ]
  },
  {
   "cell_type": "code",
   "execution_count": null,
   "id": "b2b2917f",
   "metadata": {},
   "outputs": [],
   "source": [
    "fig, ax = plt.subplots( figsize=(15, 6))\n",
    "axis = df.boxplot(column=['perimeter_km'], by=['vuelo'], ax=ax)\n",
    "x_lab = [i for i in dict_flights.keys()]\n",
    "plt.suptitle('$Cloud \\ perimeter$')\n",
    "axis.set_xlabel('$Flight \\ Number$')\n",
    "axis.set_ylabel('$Cloud \\ perimeter \\ (Km^{2})$')\n",
    "plt.title('')\n",
    "plt.savefig('../results/peri.jpg')\n",
    "plt.show()"
   ]
  },
  {
   "cell_type": "code",
   "execution_count": null,
   "id": "0672335a",
   "metadata": {},
   "outputs": [],
   "source": [
    "fig, ax = plt.subplots( figsize=(15, 6))\n",
    "axis = df.boxplot(column=['depth_km'], by=['vuelo'], ax=ax)\n",
    "x_lab = [i for i in dict_flights.keys()]\n",
    "axis.set_xlabel('$Flight \\ Number$')\n",
    "axis.set_ylabel('$Cloud \\ depth \\ (Km)$')\n",
    "plt.suptitle('$Cloud \\ depth$')\n",
    "plt.title('')\n",
    "plt.savefig('../results/cloud_depth.jpg')\n",
    "plt.show()"
   ]
  },
  {
   "cell_type": "code",
   "execution_count": null,
   "id": "96dda1c1",
   "metadata": {},
   "outputs": [],
   "source": [
    "fig, ax = plt.subplots( figsize=(15, 6))\n",
    "axis = df.boxplot(column=['width_km'], by=['vuelo'], ax=ax)\n",
    "x_lab = [i for i in dict_flights.keys()]\n",
    "axis.set_xlabel('$Flight \\ Number$')\n",
    "axis.set_ylabel('$Cloud \\ width \\ (Km)$')\n",
    "plt.suptitle('$Cloud \\ width$')\n",
    "plt.title('')\n",
    "plt.savefig('../results/cloud_width.jpg')\n",
    "plt.show()"
   ]
  },
  {
   "cell_type": "code",
   "execution_count": null,
   "id": "ca536fbf",
   "metadata": {},
   "outputs": [],
   "source": [
    "fig, ax = plt.subplots( figsize=(15, 6))\n",
    "axis = df.boxplot(column=['cloud_base'], by=['vuelo'], ax=ax)\n",
    "x_lab = [i for i in dict_flights.keys()]\n",
    "axis.set_xlabel('$Flight \\ Number$')\n",
    "axis.set_ylabel('$Cloud \\ base \\ (Km)$')\n",
    "plt.suptitle('$Cloud \\ base$')\n",
    "plt.title('')\n",
    "plt.savefig('../results/cloud_base.jpg')\n",
    "plt.show()"
   ]
  },
  {
   "cell_type": "code",
   "execution_count": null,
   "id": "a432a3d3",
   "metadata": {
    "scrolled": false
   },
   "outputs": [],
   "source": [
    "fig, ax = plt.subplots( figsize=(15, 6))\n",
    "axis = df.boxplot(column=['cloud_top'], by=['vuelo'], ax=ax)\n",
    "x_lab = [i for i in dict_flights.keys()]\n",
    "axis.set_xlabel('$Flight \\ Number$')\n",
    "axis.set_ylabel('$Cloud \\ Top \\ (Km)$')\n",
    "plt.suptitle('$Cloud \\ top$')\n",
    "plt.title('')\n",
    "plt.savefig('../results/cloud_top.jpg')\n",
    "plt.show()"
   ]
  },
  {
   "cell_type": "code",
   "execution_count": null,
   "id": "1de21047",
   "metadata": {},
   "outputs": [],
   "source": [
    "fig, ax = plt.subplots( figsize=(15, 6))\n",
    "axis = df.boxplot(column=['zhh14'], by=['vuelo'], ax=ax)\n",
    "x_lab = [i for i in dict_flights.keys()]\n",
    "axis.set_xlabel('$Flight \\ Number$')\n",
    "axis.set_ylabel('$Ka \\ radar \\ reflectivity \\ (dBZ)$')\n",
    "plt.suptitle('$Radar \\ reflectivity$')\n",
    "plt.title('')\n",
    "plt.savefig('../results/radar_ref.jpg')\n",
    "plt.show()"
   ]
  },
  {
   "cell_type": "code",
   "execution_count": null,
   "id": "f19b23a1",
   "metadata": {},
   "outputs": [],
   "source": [
    "df.zhh14.describe()"
   ]
  },
  {
   "cell_type": "code",
   "execution_count": null,
   "id": "ae29c406",
   "metadata": {},
   "outputs": [],
   "source": [
    "df.cloud_base[df.cloud_base > 3]"
   ]
  },
  {
   "cell_type": "code",
   "execution_count": null,
   "id": "6393f5d1",
   "metadata": {},
   "outputs": [],
   "source": [
    "df['area'][df.zhh14.nlargest(10).index]"
   ]
  },
  {
   "cell_type": "code",
   "execution_count": null,
   "id": "00720f17",
   "metadata": {},
   "outputs": [],
   "source": [
    "df['zhh14'][df.depth_km.nlargest(10).index]"
   ]
  },
  {
   "cell_type": "code",
   "execution_count": null,
   "id": "a813fa58",
   "metadata": {},
   "outputs": [],
   "source": [
    "df.cloud_top.nsmallest(10)"
   ]
  },
  {
   "cell_type": "code",
   "execution_count": null,
   "id": "5dee5fe9",
   "metadata": {},
   "outputs": [],
   "source": [
    "df.depth_km.nlargest(10)"
   ]
  },
  {
   "cell_type": "code",
   "execution_count": null,
   "id": "3b97de50",
   "metadata": {},
   "outputs": [],
   "source": [
    "df.width_km.nlargest(10)"
   ]
  },
  {
   "cell_type": "code",
   "execution_count": null,
   "id": "25bdce25",
   "metadata": {},
   "outputs": [],
   "source": [
    "df.cloud_base.nlargest(100)"
   ]
  },
  {
   "cell_type": "code",
   "execution_count": null,
   "id": "f8a90f41",
   "metadata": {},
   "outputs": [],
   "source": [
    "df.area_km2.nlargest(100)"
   ]
  },
  {
   "cell_type": "code",
   "execution_count": null,
   "id": "92705acc",
   "metadata": {},
   "outputs": [],
   "source": [
    "df.describe()"
   ]
  },
  {
   "cell_type": "code",
   "execution_count": null,
   "id": "46205554",
   "metadata": {},
   "outputs": [],
   "source": [
    "df.shape"
   ]
  },
  {
   "cell_type": "code",
   "execution_count": null,
   "id": "288c20ce",
   "metadata": {},
   "outputs": [],
   "source": [
    "import json\n",
    "a = df.total_px[0].replace('\\n', '').replace(\"'\", \"\").replace(\"   \", \",\").replace(\"  \", \",\").replace(\" \", \",\")"
   ]
  },
  {
   "cell_type": "code",
   "execution_count": null,
   "id": "bb940ac4",
   "metadata": {},
   "outputs": [],
   "source": []
  },
  {
   "cell_type": "code",
   "execution_count": null,
   "id": "58d07de9",
   "metadata": {},
   "outputs": [],
   "source": [
    "a = a[:1] + a[2:]"
   ]
  },
  {
   "cell_type": "code",
   "execution_count": null,
   "id": "3bdeabdd",
   "metadata": {},
   "outputs": [],
   "source": [
    "a = json.loads(a)\n"
   ]
  },
  {
   "cell_type": "code",
   "execution_count": null,
   "id": "1778c525",
   "metadata": {},
   "outputs": [],
   "source": [
    "np.array(a)"
   ]
  },
  {
   "cell_type": "code",
   "execution_count": null,
   "id": "cba5a2a1",
   "metadata": {},
   "outputs": [],
   "source": [
    "df_uf = pd.read_csv('../results/all_filtered_01_11_2021.csv')"
   ]
  },
  {
   "cell_type": "code",
   "execution_count": null,
   "id": "b5bbce45",
   "metadata": {},
   "outputs": [],
   "source": [
    "df_uf.columns = ['time', 'area', 'perimeter', 'depth', 'width', 'bbox', 'num_px']\n",
    "df_uf.index = pd.to_datetime(df_uf.time) \n",
    "df_uf.drop('time', inplace=True, axis=1)"
   ]
  },
  {
   "cell_type": "code",
   "execution_count": null,
   "id": "162ab8c5",
   "metadata": {},
   "outputs": [],
   "source": []
  },
  {
   "cell_type": "code",
   "execution_count": null,
   "id": "dc013478",
   "metadata": {},
   "outputs": [],
   "source": [
    "def str_to_arr(x):\n",
    "    w = df_uf.num_px[0].replace('\\n', '').replace(\"'\", \"\").replace(\"   \", \",\").replace(\"  \", \",\").replace(\" \", \",\").replace(\".\", \"\")\n",
    "    w = w[0:1] + w[2:]\n",
    "    return np.array(json.loads(w))"
   ]
  },
  {
   "cell_type": "code",
   "execution_count": null,
   "id": "57c41f7d",
   "metadata": {},
   "outputs": [],
   "source": [
    "num_px = df_uf.num_px.apply(lambda x: str_to_arr(x))"
   ]
  },
  {
   "cell_type": "code",
   "execution_count": null,
   "id": "b95c2890",
   "metadata": {},
   "outputs": [],
   "source": [
    "num_px"
   ]
  },
  {
   "cell_type": "code",
   "execution_count": null,
   "id": "69efbaf1",
   "metadata": {},
   "outputs": [],
   "source": [
    "df_numpx = pd.DataFrame(list(num_px), index=df.index)"
   ]
  },
  {
   "cell_type": "code",
   "execution_count": null,
   "id": "56d65605",
   "metadata": {},
   "outputs": [],
   "source": [
    "df_numpx"
   ]
  },
  {
   "cell_type": "code",
   "execution_count": null,
   "id": "e7419c81",
   "metadata": {},
   "outputs": [],
   "source": []
  }
 ],
 "metadata": {
  "kernelspec": {
   "display_name": "Python [conda env:camp2ex_proj] *",
   "language": "python",
   "name": "conda-env-camp2ex_proj-py"
  },
  "language_info": {
   "codemirror_mode": {
    "name": "ipython",
    "version": 3
   },
   "file_extension": ".py",
   "mimetype": "text/x-python",
   "name": "python",
   "nbconvert_exporter": "python",
   "pygments_lexer": "ipython3",
   "version": "3.9.4"
  }
 },
 "nbformat": 4,
 "nbformat_minor": 5
}
