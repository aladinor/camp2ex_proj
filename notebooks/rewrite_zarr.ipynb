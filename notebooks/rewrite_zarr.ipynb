{
 "cells": [
  {
   "cell_type": "code",
   "execution_count": 1,
   "id": "18fc4ea5",
   "metadata": {},
   "outputs": [
    {
     "name": "stdout",
     "output_type": "stream",
     "text": [
      "Warning: ecCodes 2.21.0 or higher is recommended. You are running version 2.18.0\n"
     ]
    }
   ],
   "source": [
    "import pandas as pd\n",
    "import sys\n",
    "import os\n",
    "import numpy as np\n",
    "import xarray as xr\n",
    "import zarr\n",
    "import glob\n",
    "from rechunker import rechunk\n",
    "\n",
    "\n",
    "import dask\n",
    "from ipywidgets import interact\n",
    "from dask_jobqueue import SLURMCluster\n",
    "from dask.distributed import Client, progress\n",
    "from dask import delayed, compute\n",
    "import dask.array as da\n",
    "import warnings\n",
    "from re import split\n",
    "import matplotlib.pyplot as plt\n",
    "import time\n",
    "warnings.filterwarnings('ignore')\n",
    "sys.path.insert(1, f\"{os.path.abspath(os.path.join(os.path.abspath(''), '../'))}\")\n",
    "from src.utils import time_3d, get_pars_from_ini\n",
    "location = split(', |_|-|!', os.popen('hostname').read())[0].replace(\"\\n\", \"\")\n",
    "path_data = get_pars_from_ini(campaign='loc')[location]['path_data']\n",
    "plt.rcParams['animation.html'] = 'jshtml'\n",
    "%matplotlib inline\n"
   ]
  },
  {
   "cell_type": "code",
   "execution_count": 10,
   "id": "f6fd6976",
   "metadata": {},
   "outputs": [],
   "source": [
    "cluster = SLURMCluster(queue=\"seseml\",\n",
    "                       memory='150GB',\n",
    "                       cores=20,\n",
    "                       processes=1,\n",
    "                       walltime='23:40:00',\n",
    "                       scheduler_options={'host': '172.22.179.3:7222', 'dashboard_address': ':7330'})\n"
   ]
  },
  {
   "cell_type": "code",
   "execution_count": 11,
   "id": "3ad2a760",
   "metadata": {},
   "outputs": [
    {
     "data": {
      "application/vnd.jupyter.widget-view+json": {
       "model_id": "0b92159b9a8e4baf81a56087463fa1e8",
       "version_major": 2,
       "version_minor": 0
      },
      "text/plain": [
       "VBox(children=(HTML(value='<h2>SLURMCluster</h2>'), HBox(children=(HTML(value='\\n<div>\\n  <style scoped>\\n    …"
      ]
     },
     "metadata": {},
     "output_type": "display_data"
    }
   ],
   "source": [
    "# cluster.adapt(maximum_jobs=4)\n",
    "cluster.scale(4)\n",
    "cluster"
   ]
  },
  {
   "cell_type": "code",
   "execution_count": 12,
   "id": "c44d9adc",
   "metadata": {
    "scrolled": true
   },
   "outputs": [
    {
     "data": {
      "text/html": [
       "<table style=\"border: 2px solid white;\">\n",
       "<tr>\n",
       "<td style=\"vertical-align: top; border: 0px solid white\">\n",
       "<h3 style=\"text-align: left;\">Client</h3>\n",
       "<ul style=\"text-align: left; list-style: none; margin: 0; padding: 0;\">\n",
       "  <li><b>Scheduler: </b>tcp://172.22.179.3:7222</li>\n",
       "  <li><b>Dashboard: </b><a href='http://172.22.179.3:7330/status' target='_blank'>http://172.22.179.3:7330/status</a></li>\n",
       "</ul>\n",
       "</td>\n",
       "<td style=\"vertical-align: top; border: 0px solid white\">\n",
       "<h3 style=\"text-align: left;\">Cluster</h3>\n",
       "<ul style=\"text-align: left; list-style:none; margin: 0; padding: 0;\">\n",
       "  <li><b>Workers: </b>4</li>\n",
       "  <li><b>Cores: </b>80</li>\n",
       "  <li><b>Memory: </b>558.80 GiB</li>\n",
       "</ul>\n",
       "</td>\n",
       "</tr>\n",
       "</table>"
      ],
      "text/plain": [
       "<Client: 'tcp://172.22.179.3:7222' processes=4 threads=80, memory=558.80 GiB>"
      ]
     },
     "execution_count": 12,
     "metadata": {},
     "output_type": "execute_result"
    }
   ],
   "source": [
    "client = Client(cluster)\n",
    "client"
   ]
  },
  {
   "cell_type": "code",
   "execution_count": 13,
   "id": "23c1e3e8",
   "metadata": {},
   "outputs": [],
   "source": [
    "def rechunk_wrap(path, max_mem = '10GB'):\n",
    "    target_store = path.replace('zarr/','zarr_rckd/')\n",
    "    ds = xr.open_zarr(path)\n",
    "    a = ds.dims\n",
    "    del ds\n",
    "    source_group = zarr.open(path)\n",
    "    temp_store = '/data/keeling/a/alfonso8/gpm/camp2ex/zarr_1/temp'\n",
    "    target_chunks = {}\n",
    "    for i in source_group.array_keys():\n",
    "        dims = {}\n",
    "        dim = source_group[i].attrs.asdict()['_ARRAY_DIMENSIONS']\n",
    "        for k in dim:\n",
    "            if k == 'time':\n",
    "                if a[k] < 2000:\n",
    "                    dims[k] = a[k]\n",
    "                else:\n",
    "                    dims[k] = 2000\n",
    "            elif k == 'range':\n",
    "                dims[k] = a[k]\n",
    "            elif k == 'cross_track':\n",
    "                dims[k] = a[k]\n",
    "            elif k == 'bin_size':\n",
    "                dims[k] = a[k]\n",
    "            elif k == 'vector':\n",
    "                dims[k] = a[k]\n",
    "            elif k == 'params':\n",
    "                dims[k] = a[k]\n",
    "        target_chunks[i] = dims\n",
    "\n",
    "    try:    \n",
    "        rechunked = rechunk(source=source_group, \n",
    "                            target_chunks=target_chunks, \n",
    "                            max_mem=max_mem, \n",
    "                            target_store=target_store, \n",
    "                            temp_store=temp_store, \n",
    "                            executor='dask')\n",
    "        rechunked.execute()\n",
    "        zarr.convenience.consolidate_metadata(target_store)\n",
    "    except ValueError as e:\n",
    "        print(path, e)"
   ]
  },
  {
   "cell_type": "code",
   "execution_count": 14,
   "id": "7fef3646",
   "metadata": {},
   "outputs": [
    {
     "data": {
      "text/plain": [
       "42"
      ]
     },
     "execution_count": 14,
     "metadata": {},
     "output_type": "execute_result"
    }
   ],
   "source": [
    "folders = [i for i in glob.glob(f'{path_data}/zarr/*/*') if i.endswith('.zarr')]\n",
    "len(folders)"
   ]
  },
  {
   "cell_type": "code",
   "execution_count": null,
   "id": "8c639256",
   "metadata": {
    "scrolled": false
   },
   "outputs": [
    {
     "name": "stdout",
     "output_type": "stream",
     "text": [
      "0\n",
      "1\n",
      "2\n",
      "3\n",
      "4\n",
      "5\n",
      "6\n",
      "7\n",
      "8\n",
      "9\n",
      "10\n",
      "11\n",
      "12\n",
      "13\n",
      "14\n",
      "15\n",
      "16\n",
      "17\n",
      "18\n"
     ]
    }
   ],
   "source": [
    "%%time\n",
    "for j, fold in enumerate(folders):\n",
    "    print(j)\n",
    "    rechunk_wrap(fold)"
   ]
  },
  {
   "cell_type": "code",
   "execution_count": 9,
   "id": "e5a84b7a",
   "metadata": {},
   "outputs": [
    {
     "name": "stderr",
     "output_type": "stream",
     "text": [
      "distributed.client - ERROR - Failed to reconnect to scheduler after 10.00 seconds, closing client\n",
      "_GatheringFuture exception was never retrieved\n",
      "future: <_GatheringFuture finished exception=CancelledError()>\n",
      "asyncio.exceptions.CancelledError\n"
     ]
    }
   ],
   "source": [
    "client.close()\n",
    "cluster.close()"
   ]
  },
  {
   "cell_type": "code",
   "execution_count": null,
   "id": "7b873b58",
   "metadata": {},
   "outputs": [],
   "source": []
  }
 ],
 "metadata": {
  "kernelspec": {
   "display_name": "Python [conda env:camp2ex_proj] *",
   "language": "python",
   "name": "conda-env-camp2ex_proj-py"
  },
  "language_info": {
   "codemirror_mode": {
    "name": "ipython",
    "version": 3
   },
   "file_extension": ".py",
   "mimetype": "text/x-python",
   "name": "python",
   "nbconvert_exporter": "python",
   "pygments_lexer": "ipython3",
   "version": "3.9.4"
  }
 },
 "nbformat": 4,
 "nbformat_minor": 5
}
