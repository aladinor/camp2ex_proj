{
 "cells": [
  {
   "cell_type": "code",
   "execution_count": 1,
   "id": "18fc4ea5",
   "metadata": {},
   "outputs": [
    {
     "name": "stdout",
     "output_type": "stream",
     "text": [
      "Warning: ecCodes 2.21.0 or higher is recommended. You are running version 2.18.0\n"
     ]
    }
   ],
   "source": [
    "import pandas as pd\n",
    "import sys\n",
    "import os\n",
    "import numpy as np\n",
    "import xarray as xr\n",
    "import zarr\n",
    "import glob\n",
    "from rechunker import rechunk\n",
    "\n",
    "\n",
    "import dask\n",
    "from ipywidgets import interact\n",
    "from dask_jobqueue import SLURMCluster\n",
    "from dask.distributed import Client, progress\n",
    "from dask import delayed, compute\n",
    "import dask.array as da\n",
    "import warnings\n",
    "from re import split\n",
    "import matplotlib.pyplot as plt\n",
    "import time\n",
    "warnings.filterwarnings('ignore')\n",
    "sys.path.insert(1, f\"{os.path.abspath(os.path.join(os.path.abspath(''), '../'))}\")\n",
    "from src.utils import time_3d, get_pars_from_ini\n",
    "location = split(', |_|-|!', os.popen('hostname').read())[0].replace(\"\\n\", \"\")\n",
    "path_data = get_pars_from_ini(campaign='loc')[location]['path_data']\n",
    "plt.rcParams['animation.html'] = 'jshtml'\n",
    "%matplotlib inline\n"
   ]
  },
  {
   "cell_type": "code",
   "execution_count": 2,
   "id": "f6fd6976",
   "metadata": {},
   "outputs": [],
   "source": [
    "cluster = SLURMCluster(queue=\"seseml\",\n",
    "                       memory='20GB',\n",
    "                       cores=20,\n",
    "                       processes=1,\n",
    "                       walltime='01:40:00',\n",
    "                       scheduler_options={'host': '172.22.179.3:7222', 'dashboard_address': ':7330'})\n"
   ]
  },
  {
   "cell_type": "code",
   "execution_count": 3,
   "id": "3ad2a760",
   "metadata": {},
   "outputs": [
    {
     "data": {
      "application/vnd.jupyter.widget-view+json": {
       "model_id": "8b0fb4c939654cce83e9fcd089669cd7",
       "version_major": 2,
       "version_minor": 0
      },
      "text/plain": [
       "VBox(children=(HTML(value='<h2>SLURMCluster</h2>'), HBox(children=(HTML(value='\\n<div>\\n  <style scoped>\\n    …"
      ]
     },
     "metadata": {},
     "output_type": "display_data"
    }
   ],
   "source": [
    "cluster.scale(4)\n",
    "cluster"
   ]
  },
  {
   "cell_type": "code",
   "execution_count": 5,
   "id": "c44d9adc",
   "metadata": {},
   "outputs": [
    {
     "data": {
      "text/html": [
       "<table style=\"border: 2px solid white;\">\n",
       "<tr>\n",
       "<td style=\"vertical-align: top; border: 0px solid white\">\n",
       "<h3 style=\"text-align: left;\">Client</h3>\n",
       "<ul style=\"text-align: left; list-style: none; margin: 0; padding: 0;\">\n",
       "  <li><b>Scheduler: </b>tcp://172.22.179.3:7222</li>\n",
       "  <li><b>Dashboard: </b><a href='http://172.22.179.3:7330/status' target='_blank'>http://172.22.179.3:7330/status</a></li>\n",
       "</ul>\n",
       "</td>\n",
       "<td style=\"vertical-align: top; border: 0px solid white\">\n",
       "<h3 style=\"text-align: left;\">Cluster</h3>\n",
       "<ul style=\"text-align: left; list-style:none; margin: 0; padding: 0;\">\n",
       "  <li><b>Workers: </b>4</li>\n",
       "  <li><b>Cores: </b>80</li>\n",
       "  <li><b>Memory: </b>74.52 GiB</li>\n",
       "</ul>\n",
       "</td>\n",
       "</tr>\n",
       "</table>"
      ],
      "text/plain": [
       "<Client: 'tcp://172.22.179.3:7222' processes=4 threads=80, memory=74.52 GiB>"
      ]
     },
     "execution_count": 5,
     "metadata": {},
     "output_type": "execute_result"
    }
   ],
   "source": [
    "client = Client(cluster)\n",
    "client"
   ]
  },
  {
   "cell_type": "code",
   "execution_count": 6,
   "id": "7a4fe165",
   "metadata": {},
   "outputs": [
    {
     "data": {
      "text/plain": [
       "'/data/keeling/a/alfonso8/gpm/camp2ex/zarr/KUsKAs_Wn/lores.zarr'"
      ]
     },
     "execution_count": 6,
     "metadata": {},
     "output_type": "execute_result"
    }
   ],
   "source": [
    "folders = [i for i in glob.glob(f'{path_data}/zarr/*/*') if i.endswith('.zarr')]\n",
    "folders[-7]"
   ]
  },
  {
   "cell_type": "code",
   "execution_count": 7,
   "id": "785d4b1b",
   "metadata": {
    "scrolled": true
   },
   "outputs": [
    {
     "name": "stdout",
     "output_type": "stream",
     "text": [
      "78G\t/data/keeling/a/alfonso8/gpm/camp2ex/zarr/KUsKAs_Wn/lores.zarr\r\n",
      "78G\ttotal\r\n"
     ]
    }
   ],
   "source": [
    "!du -sch /data/keeling/a/alfonso8/gpm/camp2ex/zarr/KUsKAs_Wn/lores.zarr"
   ]
  },
  {
   "cell_type": "code",
   "execution_count": 15,
   "id": "6a86490f",
   "metadata": {},
   "outputs": [
    {
     "name": "stdout",
     "output_type": "stream",
     "text": [
      "DR\t     ibeam_hires  ldrhh35\t     scantime\t    v_surfdc8\r\n",
      "Xat_km\t     ipc14\t  ldrhh35SP\t     sequence\t    vel14\r\n",
      "alt3D\t     ipc35\t  lon\t\t     sfc_mask\t    vel14SP\r\n",
      "alt3d\t     isc14\t  lon3D\t\t     sig14\t    vel35\r\n",
      "alt_nav      isc35\t  lon3d\t\t     sig14SP\t    vel35SP\r\n",
      "altsurf14    isurf\t  look_vector\t     sig35\t    vel95s\r\n",
      "altsurf35    isurf14\t  look_vector_nadir  sig35SP\t    z95s\r\n",
      "azimuth      isurf35\t  look_vector_radar  sig95s\t    zhh14\r\n",
      "beamnum      lat\t  pitch\t\t     surface_index  zhh14SP\r\n",
      "cross_track  lat3D\t  roll_\t\t     time\t    zhh35\r\n",
      "drift\t     lat3d\t  s095s\t\t     v_surf\t    zhh35SP\r\n",
      "elevation    ldrhh14\t  s0hh14\t     v_surf14\r\n",
      "gsp_mps      ldrhh14SP\t  s0hh35\t     v_surf35\r\n"
     ]
    }
   ],
   "source": [
    "!ls /data/keeling/a/alfonso8/gpm/camp2ex/zarr/KUsKAs_Wn/lores.zarr"
   ]
  },
  {
   "cell_type": "code",
   "execution_count": 8,
   "id": "6030ee1a",
   "metadata": {
    "scrolled": true
   },
   "outputs": [],
   "source": [
    "source_group = zarr.open(folders[-7])"
   ]
  },
  {
   "cell_type": "code",
   "execution_count": 9,
   "id": "6e512b60",
   "metadata": {
    "scrolled": true
   },
   "outputs": [],
   "source": [
    "target_chunks = {}\n",
    "for i in source_group.array_keys():\n",
    "    dims = {}\n",
    "    dim = source_group[i].attrs.asdict()['_ARRAY_DIMENSIONS']\n",
    "    for k in dim:\n",
    "        if k == 'time':\n",
    "            dims[k] = 2000\n",
    "        else:\n",
    "            dims[k] = -1\n",
    "    \n",
    "    target_chunks[i] = dims"
   ]
  },
  {
   "cell_type": "code",
   "execution_count": 10,
   "id": "e66f81d3",
   "metadata": {},
   "outputs": [
    {
     "data": {
      "text/plain": [
       "{'DR': {'bin_size': -1},\n",
       " 'Xat_km': {'cross_track': -1, 'time': 2000},\n",
       " 'alt3D': {'range': -1, 'cross_track': -1, 'time': 2000},\n",
       " 'alt3d': {'range': -1, 'cross_track': -1, 'time': 2000},\n",
       " 'alt_nav': {'cross_track': -1, 'time': 2000},\n",
       " 'altsurf14': {'cross_track': -1, 'time': 2000},\n",
       " 'altsurf35': {'cross_track': -1, 'time': 2000},\n",
       " 'azimuth': {'cross_track': -1, 'time': 2000},\n",
       " 'beamnum': {'cross_track': -1, 'time': 2000},\n",
       " 'cross_track': {'cross_track': -1},\n",
       " 'drift': {'cross_track': -1, 'time': 2000},\n",
       " 'elevation': {'cross_track': -1, 'time': 2000},\n",
       " 'gsp_mps': {'cross_track': -1, 'time': 2000},\n",
       " 'ibeam_hires': {'bin_size': -1},\n",
       " 'ipc14': {'cross_track': -1, 'time': 2000},\n",
       " 'ipc35': {'cross_track': -1, 'time': 2000},\n",
       " 'isc14': {'cross_track': -1, 'time': 2000},\n",
       " 'isc35': {'cross_track': -1, 'time': 2000},\n",
       " 'isurf': {'cross_track': -1, 'time': 2000},\n",
       " 'isurf14': {'cross_track': -1, 'time': 2000},\n",
       " 'isurf35': {'cross_track': -1, 'time': 2000},\n",
       " 'lat': {'cross_track': -1, 'time': 2000},\n",
       " 'lat3D': {'range': -1, 'cross_track': -1, 'time': 2000},\n",
       " 'lat3d': {'range': -1, 'cross_track': -1, 'time': 2000},\n",
       " 'ldrhh14': {'range': -1, 'cross_track': -1, 'time': 2000},\n",
       " 'ldrhh14SP': {'range': -1, 'cross_track': -1, 'time': 2000},\n",
       " 'ldrhh35': {'range': -1, 'cross_track': -1, 'time': 2000},\n",
       " 'ldrhh35SP': {'range': -1, 'cross_track': -1, 'time': 2000},\n",
       " 'lon': {'cross_track': -1, 'time': 2000},\n",
       " 'lon3D': {'range': -1, 'cross_track': -1, 'time': 2000},\n",
       " 'lon3d': {'range': -1, 'cross_track': -1, 'time': 2000},\n",
       " 'look_vector': {'vector': -1, 'cross_track': -1, 'time': 2000},\n",
       " 'look_vector_nadir': {'vector': -1, 'cross_track': -1, 'time': 2000},\n",
       " 'look_vector_radar': {'vector': -1, 'cross_track': -1, 'time': 2000},\n",
       " 'pitch': {'cross_track': -1, 'time': 2000},\n",
       " 'roll_': {'cross_track': -1, 'time': 2000},\n",
       " 's095s': {'range': -1, 'cross_track': -1, 'time': 2000},\n",
       " 's0hh14': {'cross_track': -1, 'time': 2000},\n",
       " 's0hh35': {'cross_track': -1, 'time': 2000},\n",
       " 'scantime': {'cross_track': -1, 'time': 2000},\n",
       " 'sequence': {'cross_track': -1, 'time': 2000},\n",
       " 'sfc_mask': {'cross_track': -1, 'time': 2000},\n",
       " 'sig14': {'range': -1, 'cross_track': -1, 'time': 2000},\n",
       " 'sig14SP': {'range': -1, 'cross_track': -1, 'time': 2000},\n",
       " 'sig35': {'range': -1, 'cross_track': -1, 'time': 2000},\n",
       " 'sig35SP': {'range': -1, 'cross_track': -1, 'time': 2000},\n",
       " 'sig95s': {'range': -1, 'cross_track': -1, 'time': 2000},\n",
       " 'surface_index': {'cross_track': -1, 'time': 2000},\n",
       " 'time': {'time': 2000},\n",
       " 'v_surf': {'range': -1, 'cross_track': -1, 'time': 2000},\n",
       " 'v_surf14': {'cross_track': -1, 'time': 2000},\n",
       " 'v_surf35': {'cross_track': -1, 'time': 2000},\n",
       " 'v_surfdc8': {'range': -1, 'cross_track': -1, 'time': 2000},\n",
       " 'vel14': {'range': -1, 'cross_track': -1, 'time': 2000},\n",
       " 'vel14SP': {'range': -1, 'cross_track': -1, 'time': 2000},\n",
       " 'vel35': {'range': -1, 'cross_track': -1, 'time': 2000},\n",
       " 'vel35SP': {'range': -1, 'cross_track': -1, 'time': 2000},\n",
       " 'vel95s': {'range': -1, 'cross_track': -1, 'time': 2000},\n",
       " 'z95s': {'range': -1, 'cross_track': -1, 'time': 2000},\n",
       " 'zhh14': {'range': -1, 'cross_track': -1, 'time': 2000},\n",
       " 'zhh14SP': {'range': -1, 'cross_track': -1, 'time': 2000},\n",
       " 'zhh35': {'range': -1, 'cross_track': -1, 'time': 2000},\n",
       " 'zhh35SP': {'range': -1, 'cross_track': -1, 'time': 2000}}"
      ]
     },
     "execution_count": 10,
     "metadata": {},
     "output_type": "execute_result"
    }
   ],
   "source": [
    "target_chunks"
   ]
  },
  {
   "cell_type": "code",
   "execution_count": 11,
   "id": "8df31088",
   "metadata": {},
   "outputs": [],
   "source": [
    "max_mem = '1GB'\n",
    "target_store = '/data/keeling/a/alfonso8/gpm/camp2ex/zarr_1/lores_rechunked.zarr'\n",
    "temp_store = '/data/keeling/a/alfonso8/gpm/camp2ex/zarr_1/temp'"
   ]
  },
  {
   "cell_type": "code",
   "execution_count": 13,
   "id": "1b389175",
   "metadata": {},
   "outputs": [
    {
     "data": {
      "text/html": [
       "<h2>Rechunked</h2>\n",
       "        <details>\n",
       "          <summary><b>Source</b></summary>\n",
       "          <p><code>&lt;zarr.hierarchy.Group &#x27;/&#x27;&gt;</code></p>\n",
       "        </details>\n",
       "        <details>\n",
       "<summary><b>Intermediate</b></summary>\n",
       "<p><code>&lt;zarr.hierarchy.Group &#x27;/&#x27;&gt;</code></p>\n",
       "</details>\n",
       "\n",
       "        <details>\n",
       "          <summary><b>Target</b></summary>\n",
       "          <p><code>&lt;zarr.hierarchy.Group &#x27;/&#x27;&gt;</code></p>\n",
       "        </details>\n"
      ],
      "text/plain": [
       "<Rechunked>\n",
       "* Source      : <zarr.hierarchy.Group '/'>\n",
       "\n",
       "* Intermediate: <zarr.hierarchy.Group '/'>\n",
       "\n",
       "* Target      : <zarr.hierarchy.Group '/'>"
      ]
     },
     "execution_count": 13,
     "metadata": {},
     "output_type": "execute_result"
    }
   ],
   "source": [
    "array_plan = rechunk(source=source_group, \n",
    "                     target_chunks=target_chunks, \n",
    "                     max_mem=max_mem, \n",
    "                     target_store=target_store, \n",
    "                     temp_store=temp_store)\n",
    "array_plan\n"
   ]
  },
  {
   "cell_type": "code",
   "execution_count": 14,
   "id": "2486c31c",
   "metadata": {},
   "outputs": [
    {
     "data": {
      "text/plain": [
       "<zarr.hierarchy.Group '/'>"
      ]
     },
     "execution_count": 14,
     "metadata": {},
     "output_type": "execute_result"
    }
   ],
   "source": [
    "array_plan.execute()"
   ]
  },
  {
   "cell_type": "code",
   "execution_count": 16,
   "id": "f9a37ede",
   "metadata": {
    "scrolled": true
   },
   "outputs": [
    {
     "name": "stdout",
     "output_type": "stream",
     "text": [
      "2.0M\t/data/keeling/a/alfonso8/gpm/camp2ex/zarr_1/lores_rechunked.zarr\r\n",
      "2.0M\ttotal\r\n"
     ]
    }
   ],
   "source": [
    "!du -sch /data/keeling/a/alfonso8/gpm/camp2ex/zarr_1/lores_rechunked.zarr"
   ]
  },
  {
   "cell_type": "code",
   "execution_count": 17,
   "id": "b7cecb52",
   "metadata": {
    "scrolled": true
   },
   "outputs": [
    {
     "name": "stdout",
     "output_type": "stream",
     "text": [
      "DR\t     ibeam_hires  ldrhh35\t     scantime\t    v_surfdc8\r\n",
      "Xat_km\t     ipc14\t  ldrhh35SP\t     sequence\t    vel14\r\n",
      "alt3D\t     ipc35\t  lon\t\t     sfc_mask\t    vel14SP\r\n",
      "alt3d\t     isc14\t  lon3D\t\t     sig14\t    vel35\r\n",
      "alt_nav      isc35\t  lon3d\t\t     sig14SP\t    vel35SP\r\n",
      "altsurf14    isurf\t  look_vector\t     sig35\t    vel95s\r\n",
      "altsurf35    isurf14\t  look_vector_nadir  sig35SP\t    z95s\r\n",
      "azimuth      isurf35\t  look_vector_radar  sig95s\t    zhh14\r\n",
      "beamnum      lat\t  pitch\t\t     surface_index  zhh14SP\r\n",
      "cross_track  lat3D\t  roll_\t\t     time\t    zhh35\r\n",
      "drift\t     lat3d\t  s095s\t\t     v_surf\t    zhh35SP\r\n",
      "elevation    ldrhh14\t  s0hh14\t     v_surf14\r\n",
      "gsp_mps      ldrhh14SP\t  s0hh35\t     v_surf35\r\n"
     ]
    }
   ],
   "source": [
    "!ls /data/keeling/a/alfonso8/gpm/camp2ex/zarr_1/lores_rechunked.zarr"
   ]
  },
  {
   "cell_type": "code",
   "execution_count": 18,
   "id": "316e9a53",
   "metadata": {},
   "outputs": [],
   "source": [
    "!ls /data/keeling/a/alfonso8/gpm/camp2ex/zarr_1/lores_rechunked.zarr/zhh14"
   ]
  },
  {
   "cell_type": "code",
   "execution_count": null,
   "id": "31bd288d",
   "metadata": {},
   "outputs": [],
   "source": [
    "client.close()\n",
    "cluster.close()"
   ]
  },
  {
   "cell_type": "code",
   "execution_count": null,
   "id": "3a8c4a52",
   "metadata": {},
   "outputs": [],
   "source": []
  }
 ],
 "metadata": {
  "kernelspec": {
   "display_name": "Python [conda env:camp2ex_proj] *",
   "language": "python",
   "name": "conda-env-camp2ex_proj-py"
  },
  "language_info": {
   "codemirror_mode": {
    "name": "ipython",
    "version": 3
   },
   "file_extension": ".py",
   "mimetype": "text/x-python",
   "name": "python",
   "nbconvert_exporter": "python",
   "pygments_lexer": "ipython3",
   "version": "3.9.4"
  }
 },
 "nbformat": 4,
 "nbformat_minor": 5
}
