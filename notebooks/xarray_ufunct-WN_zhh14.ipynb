{
 "cells": [
  {
   "cell_type": "code",
   "execution_count": 1,
   "id": "4958a898",
   "metadata": {},
   "outputs": [],
   "source": [
    "#!/usr/bin/env python3\n",
    "# -*- coding: utf-8 -*-\n",
    "import os\n",
    "import sys\n",
    "import dask\n",
    "import pandas as pd\n",
    "import xarray as xr\n",
    "import dask.array as da\n",
    "import numpy as np\n",
    "from re import split\n",
    "from scipy.interpolate import griddata\n",
    "from scipy.spatial import cKDTree as KDTree\n",
    "import random\n",
    "from skimage.filters import gaussian, threshold_otsu\n",
    "from skimage import measure\n",
    "from dask import delayed\n",
    "from dask_image.ndfilters import uniform_filter as uf\n",
    "from dask_image.ndmeasure import variance as varian\n",
    "import dask.dataframe as dd\n",
    "from dask_jobqueue import SLURMCluster\n",
    "from dask.distributed import Client, progress\n",
    "from datetime import datetime, timezone\n",
    "\n",
    "sys.path.insert(1, f\"{os.path.abspath(os.path.join(os.path.abspath(''), '../'))}\")\n",
    "from src.utils import get_pars_from_ini\n",
    "# from src.ufucnt_xr import lee_filter_new_\n",
    "\n",
    "location = split(', |_|-|!', os.popen('hostname').read())[0].replace(\"\\n\", \"\")\n",
    "path_data = get_pars_from_ini(campaign='loc')[location]['path_data']\n",
    "path_proj = get_pars_from_ini(campaign='loc')[location]['path_proj']\n",
    "\n"
   ]
  },
  {
   "cell_type": "code",
   "execution_count": 2,
   "id": "315b69cf",
   "metadata": {},
   "outputs": [],
   "source": [
    "# @jit\n",
    "def get_col_row(x, size=30):\n",
    "    ncols = da.ptp(x) / size\n",
    "    return int(ncols)\n",
    "\n",
    "\n",
    "def excluding_mesh(x, y, nx=30, ny=30):\n",
    "    \"\"\"\n",
    "    Construct a grid of points, that are some distance away from points (x,\n",
    "    \"\"\"\n",
    "\n",
    "    dx = x.ptp() / nx\n",
    "    dy = y.ptp() / ny\n",
    "\n",
    "    xp, yp = np.mgrid[x.min() - 2 * dx:x.max() + 2 * dx:(nx + 2) * 1j,\n",
    "             y.min() - 2 * dy:y.max() + 2 * dy:(ny + 2) * 1j]\n",
    "    xp = xp.ravel()\n",
    "    yp = yp.ravel()\n",
    "\n",
    "    tree = KDTree(np.c_[x, y])\n",
    "    dist, j = tree.query(np.c_[xp, yp], k=1)\n",
    "\n",
    "    # Select points sufficiently far away\n",
    "    m = (dist > np.hypot(dx, dy))\n",
    "    return xp[m], yp[m]\n",
    "\n",
    "\n",
    "def regridd(data, x, y, size=30):\n",
    "    \"\"\"\n",
    "    data = xarray datarray\n",
    "    size = desired pixel size in meters\n",
    "    \"\"\"\n",
    "    if data.ndim > 2:\n",
    "        x = da.moveaxis(x.reshape(-1, x.shape[-1]), 0, -1)\n",
    "        y = da.moveaxis(y.reshape(-1, y.shape[-1]), 0, -1)\n",
    "        ncols_n = max(np.apply_along_axis(get_col_row, arr=x, axis=1))\n",
    "        nrows_n = max(np.apply_along_axis(get_col_row, arr=y, axis=1))\n",
    "        x_new_n = da.from_array(np.moveaxis(np.linspace(np.amin(x, -1), np.amax(x, -1), ncols_n), 0, -1))\n",
    "        y_new_n = da.from_array(np.moveaxis(np.linspace(np.amax(y, -1), np.amin(y, -1), nrows_n), 0, -1))\n",
    "        mesh = [delayed(da.meshgrid)(x_new_n[i], y_new_n[i]) for i in range(x_new_n.shape[0])]\n",
    "\n",
    "        z_n = da.rollaxis(data.reshape(-1, data.shape[-1]), 1)\n",
    "        idx_n = x.argsort(axis=-1)\n",
    "        x = np.take_along_axis(x, idx_n, axis=-1)\n",
    "        y = np.take_along_axis(y, idx_n, axis=-1)\n",
    "        z_n = np.take_along_axis(z_n, idx_n, axis=-1)\n",
    "\n",
    "        vp_n = dask.compute(*[delayed(excluding_mesh)(x[i], y[i]) for i in range(x.shape[0])])\n",
    "        xn = [vp_n[i][0] for i in range(len(vp_n))]\n",
    "        yn = [vp_n[i][1] for i in range(len(vp_n))]\n",
    "        zn = dask.compute(*[delayed(da.zeros_like)(xn[i]) for i in range(x.shape[0])])\n",
    "        xi_ = [mesh[i][0] for i in range(len(vp_n))]\n",
    "        xi_ = dask.compute(*[da.from_delayed(v, shape=(x.shape[0], np.nan), dtype=float) for v in xi_])\n",
    "        yi_ = [mesh[i][1] for i in range(len(vp_n))]\n",
    "        yi_ = dask.compute(*[da.from_delayed(v, shape=(x.shape[0], np.nan), dtype=float) for v in yi_])\n",
    "        zr = [delayed(griddata)((np.r_[x[i, :], xn[i]], np.r_[y[i, :], yn[i]]), np.r_[z_n[i, :], zn[i]],\n",
    "                                (xi_[i], yi_[i]), method='linear', fill_value=0)\n",
    "              for i in range(x.shape[0])]\n",
    "        zr = da.dstack(dask.compute(*zr))\n",
    "        xi_ = da.rollaxis(da.rollaxis(da.asarray(xi_), axis=-1), axis=-1)\n",
    "        yi_ = da.rollaxis(da.rollaxis(da.asarray(yi_), axis=-1), axis=-1)\n",
    "        return zr, xi_, yi_\n",
    "\n",
    "    else:\n",
    "        x_s = x.flatten()\n",
    "        y_s = y.flatten()\n",
    "        data = data.compute().flatten()\n",
    "        idx = x_s.argsort()\n",
    "        x_s, y_s = np.take_along_axis(x_s, idx, axis=0), np.take_along_axis(y_s, idx, axis=0)\n",
    "        data = np.take_along_axis(data, idx, axis=0)\n",
    "        ncols = get_col_row(x=x_s, size=size)\n",
    "        nrows = get_col_row(x=y_s, size=size)\n",
    "        x_new = np.linspace(x_s.min(), x_s.max(), int(ncols))\n",
    "        y_new = np.linspace(y_s.max(), y_s.min(), int(nrows))\n",
    "        xi, yi = np.meshgrid(x_new, y_new)\n",
    "        xp, yp = excluding_mesh(x_s, y_s, nx=35, ny=35)\n",
    "        zp = np.nan + np.zeros_like(xp)\n",
    "        z0 = griddata((np.r_[x_s, xp], np.r_[y_s, yp]), np.r_[data, zp], (xi, yi), method='linear', \n",
    "                      fill_value=-9999)\n",
    "        return z0, xi, yi\n",
    "\n",
    "\n",
    "def lee_filter_new(img, size, tresh=-150):\n",
    "    if img.ndim == 2:\n",
    "        shape = (size, size)\n",
    "    else:\n",
    "        shape = (size, size, 1)\n",
    "    img = da.where(da.logical_or(da.isnan(img), da.equal(img, -9999)), tresh, img)\n",
    "    img_mean = uf(img, shape)\n",
    "    img_sqr_mean = uf(da.power(img, 2), shape)\n",
    "    img_variance = img_sqr_mean - da.power(img_mean, 2)\n",
    "    overall_variance = varian(img)\n",
    "    img_weights = img_variance / (img_variance + overall_variance)\n",
    "    img_output = img_mean + img_weights * (img - img_mean)\n",
    "    img_output = da.where(img_output > 0, img_output, 0)\n",
    "    return img_output\n",
    "\n",
    "\n",
    "def process_new(zhh14, x, y, time):\n",
    "    x = x[:, 0, :, :]\n",
    "    img_filtered = lee_filter_new(zhh14, size=3, tresh=-200)\n",
    "    img, xi, yi = regridd(img_filtered, x, y)\n",
    "    px_tot, _, _ = regridd(np.ones_like(zhh14), x, y)\n",
    "    px_tot = np.where(px_tot < 0.99, 0, px_tot)\n",
    "    px_tot = np.apply_along_axis(np.count_nonzero, arr=px_tot, axis=1)\n",
    "    num_px = np.apply_along_axis(np.count_nonzero, arr=img, axis=1)\n",
    "    img = np.where(img > 0., img, 0.)\n",
    "    blurred = gaussian(img, sigma=0.8)\n",
    "    binary = blurred > threshold_otsu(blurred)\n",
    "    labels = measure.label(binary)\n",
    "    if (labels.ndim > 2) & (zhh14.shape[-1] != 1):\n",
    "        max_zhh14 = np.apply_along_axis(np.max, arr=img, axis=0).compute()\n",
    "        max_zhh14 = np.apply_along_axis(np.max, arr=max_zhh14, axis=0)\n",
    "        df_max_zhh = pd.Series(max_zhh14, index=time, name='max_zhh')\n",
    "        df_num_px = pd.DataFrame(np.moveaxis(num_px.compute(), 0, -1), index=time)\n",
    "        df_num_px.columns = pd.MultiIndex.from_product([['num_px'], df_num_px.columns])\n",
    "        df_tot = pd.DataFrame(np.moveaxis(px_tot.compute(), 0, -1), index=time)\n",
    "        df_tot.columns = pd.MultiIndex.from_product([['tot_px'], df_tot.columns])\n",
    "        tab_props = [measure.regionprops_table(labels[:, :, i], img[:, :, i],\n",
    "                                               properties=['area', 'perimeter', 'bbox', 'major_axis_length',\n",
    "                                                           'minor_axis_length']) for i in range(labels.shape[-1])]\n",
    "\n",
    "        df = pd.DataFrame(data=tab_props, index=pd.to_datetime(time))\n",
    "        df = df.merge(df_max_zhh, left_index=True, right_index=True)\n",
    "        df = df.merge(df_num_px, left_index=True, right_index=True)\n",
    "        df = df.merge(df_tot, left_index=True, right_index=True)\n",
    "    else:\n",
    "        max_zhh = np.max(img.compute())\n",
    "        props = measure.regionprops_table(labels[:, :, 0], img[:, :, 0].compute(),\n",
    "                                          properties=['area', 'perimeter', 'bbox', 'major_axis_length',\n",
    "                                                      'minor_axis_length'])\n",
    "        props['max_zhh'] = max_zhh\n",
    "        df = pd.DataFrame(data=props, index=pd.to_datetime(time))\n",
    "\n",
    "    dates = datetime.now(timezone.utc)\n",
    "    df.to_csv(f\"../results/all_filtered_{dates:%Y}{dates:%m}{dates:%d}{dates:%H}{dates:%M}_Wn_zhh14.csv\")\n",
    "    return 'done!'\n",
    "\n",
    "\n",
    "def ufunc_wrapper(data, zhh='zhh14'):\n",
    "    x = data.range * data.DR * np.sin(np.deg2rad(data.azimuth))  # add roll\n",
    "    y = data.alt3d\n",
    "    zhh = data[zhh].where(data.alt3d > 500)\n",
    "    _data = [zhh, x, y, data.time]\n",
    "    icd = [list(i.dims) for i in _data]\n",
    "    dfk = {'allow_rechunk': True, 'output_sizes': {}}\n",
    "    a = xr.apply_ufunc(process_new,\n",
    "                   *_data,\n",
    "                   input_core_dims=icd,\n",
    "                   output_core_dims=[[], ],\n",
    "                   dask_gufunc_kwargs=dfk,\n",
    "                   dask='parallelized',\n",
    "                   vectorize=True,\n",
    "                   output_dtypes=[(str)]\n",
    "                   )\n",
    "    return a"
   ]
  },
  {
   "cell_type": "code",
   "execution_count": 3,
   "id": "970a671f",
   "metadata": {
    "scrolled": true
   },
   "outputs": [],
   "source": [
    "# client.close()\n",
    "# cluster.close()"
   ]
  },
  {
   "cell_type": "code",
   "execution_count": 4,
   "id": "3ce9694a",
   "metadata": {},
   "outputs": [],
   "source": [
    "cluster = SLURMCluster(queue=\"seseml\",\n",
    "                       memory='200GB',\n",
    "                       cores=40,\n",
    "                       processes=1,\n",
    "                       walltime='48:00:00',\n",
    "                       scheduler_options={'host': '172.22.179.3:7222', 'dashboard_address': ':7778'})"
   ]
  },
  {
   "cell_type": "code",
   "execution_count": 5,
   "id": "6505dd10",
   "metadata": {},
   "outputs": [
    {
     "data": {
      "application/vnd.jupyter.widget-view+json": {
       "model_id": "4c0609dab8b04182ba406a0ce8a39bcc",
       "version_major": 2,
       "version_minor": 0
      },
      "text/plain": [
       "Tab(children=(HTML(value='<div class=\"jp-RenderedHTMLCommon jp-RenderedHTML jp-mod-trusted jp-OutputArea-outpu…"
      ]
     },
     "metadata": {},
     "output_type": "display_data"
    }
   ],
   "source": [
    "# cluster.scale(2)\n",
    "cluster.adapt(maximum_jobs=2)\n",
    "cluster"
   ]
  },
  {
   "cell_type": "code",
   "execution_count": 6,
   "id": "aa398cd5",
   "metadata": {},
   "outputs": [
    {
     "name": "stdout",
     "output_type": "stream",
     "text": [
      "             JOBID PARTITION     NAME     USER ST       TIME  NODES NODELIST(REASON)\n",
      "            516364    seseml dask-wor alfonso8  R       0:51      1 keeling-j04\n",
      "            516362    seseml dask-wor alfonso8  R       0:57      1 keeling-j02\n",
      "            516363    seseml dask-wor alfonso8  R       0:57      1 keeling-j03\n",
      "            516349    seseml dask-wor alfonso8  R       3:12      1 keeling-j01\n"
     ]
    }
   ],
   "source": [
    "%%bash\n",
    "squeue -u alfonso8"
   ]
  },
  {
   "cell_type": "code",
   "execution_count": 7,
   "id": "514a8bf2",
   "metadata": {
    "scrolled": true
   },
   "outputs": [
    {
     "data": {
      "text/html": [
       "<div>\n",
       "    <div style=\"width: 24px; height: 24px; background-color: #e1e1e1; border: 3px solid #9D9D9D; border-radius: 5px; position: absolute;\"> </div>\n",
       "    <div style=\"margin-left: 48px;\">\n",
       "        <h3 style=\"margin-bottom: 0px;\">Client</h3>\n",
       "        <p style=\"color: #9D9D9D; margin-bottom: 0px;\">Client-9b5d9880-48fb-11ec-918a-b083fed70206</p>\n",
       "        <table style=\"width: 100%; text-align: left;\">\n",
       "\n",
       "        <tr>\n",
       "        \n",
       "            <td style=\"text-align: left;\"><strong>Connection method:</strong> Cluster object</td>\n",
       "            <td style=\"text-align: left;\"><strong>Cluster type:</strong> dask_jobqueue.SLURMCluster</td>\n",
       "        \n",
       "        </tr>\n",
       "\n",
       "        \n",
       "            <tr>\n",
       "                <td style=\"text-align: left;\">\n",
       "                    <strong>Dashboard: </strong> <a href=\"http://172.22.179.3:7778/status\" target=\"_blank\">http://172.22.179.3:7778/status</a>\n",
       "                </td>\n",
       "                <td style=\"text-align: left;\"></td>\n",
       "            </tr>\n",
       "        \n",
       "\n",
       "        </table>\n",
       "\n",
       "        \n",
       "            <details>\n",
       "            <summary style=\"margin-bottom: 20px;\"><h3 style=\"display: inline;\">Cluster Info</h3></summary>\n",
       "            <div class=\"jp-RenderedHTMLCommon jp-RenderedHTML jp-mod-trusted jp-OutputArea-output\">\n",
       "    <div style=\"width: 24px; height: 24px; background-color: #e1e1e1; border: 3px solid #9D9D9D; border-radius: 5px; position: absolute;\">\n",
       "    </div>\n",
       "    <div style=\"margin-left: 48px;\">\n",
       "        <h3 style=\"margin-bottom: 0px; margin-top: 0px;\">SLURMCluster</h3>\n",
       "        <p style=\"color: #9D9D9D; margin-bottom: 0px;\">626f1f93</p>\n",
       "        <table style=\"width: 100%; text-align: left;\">\n",
       "            <tr>\n",
       "                <td style=\"text-align: left;\">\n",
       "                    <strong>Dashboard:</strong> <a href=\"http://172.22.179.3:7778/status\" target=\"_blank\">http://172.22.179.3:7778/status</a>\n",
       "                </td>\n",
       "                <td style=\"text-align: left;\">\n",
       "                    <strong>Workers:</strong> 0\n",
       "                </td>\n",
       "            </tr>\n",
       "            <tr>\n",
       "                <td style=\"text-align: left;\">\n",
       "                    <strong>Total threads:</strong> 0\n",
       "                </td>\n",
       "                <td style=\"text-align: left;\">\n",
       "                    <strong>Total memory:</strong> 0 B\n",
       "                </td>\n",
       "            </tr>\n",
       "            \n",
       "        </table>\n",
       "\n",
       "        <details>\n",
       "            <summary style=\"margin-bottom: 20px;\">\n",
       "                <h3 style=\"display: inline;\">Scheduler Info</h3>\n",
       "            </summary>\n",
       "\n",
       "            <div style=\"\">\n",
       "    <div>\n",
       "        <div style=\"width: 24px; height: 24px; background-color: #FFF7E5; border: 3px solid #FF6132; border-radius: 5px; position: absolute;\"> </div>\n",
       "        <div style=\"margin-left: 48px;\">\n",
       "            <h3 style=\"margin-bottom: 0px;\">Scheduler</h3>\n",
       "            <p style=\"color: #9D9D9D; margin-bottom: 0px;\">Scheduler-cd100323-3dc2-4cc8-a6ae-9a386d151f39</p>\n",
       "            <table style=\"width: 100%; text-align: left;\">\n",
       "                <tr>\n",
       "                    <td style=\"text-align: left;\">\n",
       "                        <strong>Comm:</strong> tcp://172.22.179.3:7222\n",
       "                    </td>\n",
       "                    <td style=\"text-align: left;\">\n",
       "                        <strong>Workers:</strong> 0\n",
       "                    </td>\n",
       "                </tr>\n",
       "                <tr>\n",
       "                    <td style=\"text-align: left;\">\n",
       "                        <strong>Dashboard:</strong> <a href=\"http://172.22.179.3:7778/status\" target=\"_blank\">http://172.22.179.3:7778/status</a>\n",
       "                    </td>\n",
       "                    <td style=\"text-align: left;\">\n",
       "                        <strong>Total threads:</strong> 0\n",
       "                    </td>\n",
       "                </tr>\n",
       "                <tr>\n",
       "                    <td style=\"text-align: left;\">\n",
       "                        <strong>Started:</strong> Just now\n",
       "                    </td>\n",
       "                    <td style=\"text-align: left;\">\n",
       "                        <strong>Total memory:</strong> 0 B\n",
       "                    </td>\n",
       "                </tr>\n",
       "            </table>\n",
       "        </div>\n",
       "    </div>\n",
       "\n",
       "    <details style=\"margin-left: 48px;\">\n",
       "        <summary style=\"margin-bottom: 20px;\">\n",
       "            <h3 style=\"display: inline;\">Workers</h3>\n",
       "        </summary>\n",
       "\n",
       "        \n",
       "\n",
       "    </details>\n",
       "</div>\n",
       "\n",
       "        </details>\n",
       "    </div>\n",
       "</div>\n",
       "            </details>\n",
       "        \n",
       "\n",
       "    </div>\n",
       "</div>"
      ],
      "text/plain": [
       "<Client: 'tcp://172.22.179.3:7222' processes=0 threads=0, memory=0 B>"
      ]
     },
     "execution_count": 7,
     "metadata": {},
     "output_type": "execute_result"
    }
   ],
   "source": [
    "client = Client(cluster)\n",
    "client"
   ]
  },
  {
   "cell_type": "code",
   "execution_count": 8,
   "id": "6e60fc20",
   "metadata": {},
   "outputs": [
    {
     "name": "stdout",
     "output_type": "stream",
     "text": [
      "CPU times: user 263 ms, sys: 16.3 ms, total: 279 ms\n",
      "Wall time: 276 ms\n"
     ]
    }
   ],
   "source": [
    "%%time\n",
    "ds_xr = xr.open_zarr(f'{path_data}/zarr_rckd/KUsKAsWs/lores.zarr')\n",
    "# ds_xr = xr.open_zarr(f'{path_data}/zarr/KUsKAs_Wn/lores.zarr')\n",
    "ds_xr = ds_xr.sel(time=~ds_xr.get_index(\"time\").duplicated())\n",
    "\n"
   ]
  },
  {
   "cell_type": "code",
   "execution_count": 9,
   "id": "b4ac7da7",
   "metadata": {},
   "outputs": [
    {
     "name": "stdout",
     "output_type": "stream",
     "text": [
      "13969\n"
     ]
    }
   ],
   "source": [
    "print(len(ds_xr.time))"
   ]
  },
  {
   "cell_type": "code",
   "execution_count": 10,
   "id": "7d5b61be",
   "metadata": {},
   "outputs": [
    {
     "name": "stdout",
     "output_type": "stream",
     "text": [
      "CPU times: user 213 µs, sys: 100 µs, total: 313 µs\n",
      "Wall time: 321 µs\n"
     ]
    },
    {
     "data": {
      "text/plain": [
       "13969"
      ]
     },
     "execution_count": 10,
     "metadata": {},
     "output_type": "execute_result"
    }
   ],
   "source": [
    "%%time\n",
    "ds_data = ds_xr[['zhh14', 'azimuth', 'DR']]\n",
    "# ds_data = ds_xr[['zhh14', 'azimuth', 'DR']].sel(time=slice('2019-09-16 03:12:50', '2019-09-16 03:13:05'))\n",
    "\n",
    "# ds_data = ds_xr[['zhh14', 'azimuth', 'DR']]\n",
    "# ds_data = ds_xr[['zhh14', 'azimuth', 'DR']]\n",
    "\n",
    "len(ds_data.time)"
   ]
  },
  {
   "cell_type": "code",
   "execution_count": 11,
   "id": "f05f6ccf",
   "metadata": {},
   "outputs": [],
   "source": [
    "a = ufunc_wrapper(ds_data,zhh='zhh14')"
   ]
  },
  {
   "cell_type": "code",
   "execution_count": 12,
   "id": "71ddca9b",
   "metadata": {
    "scrolled": true
   },
   "outputs": [
    {
     "name": "stderr",
     "output_type": "stream",
     "text": [
      "distributed.scheduler - ERROR - Couldn't gather keys {\"('zeros_like-6bf3a416fc538c3de8802297389ee886', 0)\": []} state: ['processing'] workers: []\n",
      "NoneType: None\n",
      "distributed.scheduler - ERROR - Workers don't have promised key: [], ('zeros_like-6bf3a416fc538c3de8802297389ee886', 0)\n",
      "NoneType: None\n"
     ]
    },
    {
     "name": "stdout",
     "output_type": "stream",
     "text": [
      "CPU times: user 2h 48min 10s, sys: 10min 22s, total: 2h 58min 33s\n",
      "Wall time: 3h 22min 33s\n"
     ]
    }
   ],
   "source": [
    "%%time\n",
    "w = dask.compute(a)"
   ]
  },
  {
   "cell_type": "code",
   "execution_count": null,
   "id": "2159ff85",
   "metadata": {},
   "outputs": [],
   "source": [
    "ds_xr"
   ]
  },
  {
   "cell_type": "code",
   "execution_count": null,
   "id": "388258d9",
   "metadata": {},
   "outputs": [],
   "source": [
    "a = ds_xr.z95s.max(dim=['cross_track', 'range']).compute()"
   ]
  },
  {
   "cell_type": "code",
   "execution_count": null,
   "id": "72677dc2",
   "metadata": {},
   "outputs": [],
   "source": [
    "a.max()"
   ]
  }
 ],
 "metadata": {
  "kernelspec": {
   "display_name": "Python 3 (ipykernel)",
   "language": "python",
   "name": "python3"
  },
  "language_info": {
   "codemirror_mode": {
    "name": "ipython",
    "version": 3
   },
   "file_extension": ".py",
   "mimetype": "text/x-python",
   "name": "python",
   "nbconvert_exporter": "python",
   "pygments_lexer": "ipython3",
   "version": "3.9.16"
  }
 },
 "nbformat": 4,
 "nbformat_minor": 5
}
