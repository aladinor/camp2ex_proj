{
 "cells": [
  {
   "cell_type": "code",
   "execution_count": 1,
   "id": "4958a898",
   "metadata": {},
   "outputs": [
    {
     "name": "stdout",
     "output_type": "stream",
     "text": [
      "Warning: ecCodes 2.21.0 or higher is recommended. You are running version 2.18.0\n"
     ]
    }
   ],
   "source": [
    "#!/usr/bin/env python3\n",
    "# -*- coding: utf-8 -*-\n",
    "import os\n",
    "import sys\n",
    "import dask\n",
    "import pandas as pd\n",
    "import xarray as xr\n",
    "import dask.array as da\n",
    "import numpy as np\n",
    "from re import split\n",
    "\n",
    "from skimage.filters import gaussian, threshold_otsu\n",
    "from skimage import measure\n",
    "from dask_image.ndfilters import uniform_filter as uf\n",
    "from dask_image.ndmeasure import variance as varian\n",
    "\n",
    "from dask_jobqueue import SLURMCluster\n",
    "from dask.distributed import Client, progress\n",
    "\n",
    "sys.path.insert(1, f\"{os.path.abspath(os.path.join(os.path.abspath(''), '../'))}\")\n",
    "from src.utils import get_pars_from_ini\n",
    "\n",
    "location = split(', |_|-|!', os.popen('hostname').read())[0].replace(\"\\n\", \"\")\n",
    "path_data = get_pars_from_ini(campaign='loc')[location]['path_data']\n",
    "path_proj = get_pars_from_ini(campaign='loc')[location]['path_proj']"
   ]
  },
  {
   "cell_type": "code",
   "execution_count": 2,
   "id": "315b69cf",
   "metadata": {},
   "outputs": [],
   "source": [
    "def lee_filter_new(img, size, tresh=-150):\n",
    "    img = da.where(da.logical_or(da.isnan(img), da.equal(img, -np.inf)), tresh, img)\n",
    "    shape = (size, size, 1)\n",
    "    img_mean = uf(img, shape)\n",
    "    img_sqr_mean = uf(da.power(img, 2), shape)\n",
    "    img_variance = img_sqr_mean - da.power(img_mean, 2)\n",
    "    overall_variance = varian(img)\n",
    "    img_weights = img_variance / (img_variance + overall_variance)\n",
    "    img_output = img_mean + img_weights * (img - img_mean)\n",
    "    return img_output\n",
    "\n",
    "\n",
    "def process_new(zhh14, time):\n",
    "    img = lee_filter_new(zhh14, size=3, tresh=-180)\n",
    "    original = np.where(img > 0, zhh14, 0)\n",
    "    blurred = gaussian(original, sigma=0.8, multichannel=True)\n",
    "    binary = blurred > threshold_otsu(blurred)\n",
    "    labels = measure.label(binary, connectivity=2)\n",
    "    props = [measure.regionprops(labels[:, :, i]) for i in range(labels.shape[-1])]\n",
    "    _props_all = [[[j.area for j in prop], [j.perimeter for j in prop], [j.major_axis_length for j in prop],\n",
    "                   [j.minor_axis_length for j in prop]] for prop in props]\n",
    "    df = pd.DataFrame(data=_props_all, columns=['area', 'perimeter', 'axmax', 'axmin'], index=pd.to_datetime(time))\n",
    "    df = df.explode(['area', 'perimeter', 'axmax', 'axmin'])\n",
    "    df.to_csv(f'../results/all_{len(time)}.csv')\n",
    "    df = df.astype(dtype={'area': 'float', 'perimeter': 'float', 'axmax': 'float', 'axmin': 'float'})\n",
    "    df = df[df.area > 50.0]\n",
    "    df_new = pd.DataFrame(index=time, data=np.full(len(time), np.nan), columns=['area'])\n",
    "    df_new = df_new.merge(df, left_index=True, right_index=True, how='left').drop(['area_x'], axis=1)\n",
    "    idx = df_new.index.duplicated()\n",
    "    # def_new1 = df_new[~idx]\n",
    "    xr_prop = xr.Dataset.from_dataframe(df_new[~idx]).rename_dims({'index': 'time'}).rename({'index': 'time'})\n",
    "    return xr_prop.area_y, xr_prop.perimeter, xr_prop.axmax, xr_prop.axmin\n"
   ]
  },
  {
   "cell_type": "code",
   "execution_count": 3,
   "id": "aeef01ce",
   "metadata": {},
   "outputs": [],
   "source": [
    "def ufunc_wrapper(data):\n",
    "    _data = [data, data.time]\n",
    "    icd = [list(i.dims) for i in _data]\n",
    "    dfk = {'allow_rechunk': True, 'output_sizes': {}}\n",
    "    a, p, mx, mn = xr.apply_ufunc(process_new,\n",
    "                                  *_data,\n",
    "                                  input_core_dims=icd,\n",
    "                                  output_core_dims=[[\"time\"], [\"time\"], [\"time\"], [\"time\"]],\n",
    "                                  dask_gufunc_kwargs=dfk,\n",
    "                                  dask='parallelized',\n",
    "                                  vectorize=True,\n",
    "                                  output_dtypes=[(float), (float), (float), (float)]\n",
    "                                  )\n",
    "    ds_out = a.to_dataset(name='area')\n",
    "    ds_out['perimeter'] = p\n",
    "    ds_out['ax_max'] = mx\n",
    "    ds_out['ax_min'] = mn\n",
    "    return ds_out"
   ]
  },
  {
   "cell_type": "code",
   "execution_count": 4,
   "id": "970a671f",
   "metadata": {},
   "outputs": [
    {
     "ename": "NameError",
     "evalue": "name 'client' is not defined",
     "output_type": "error",
     "traceback": [
      "\u001b[0;31m---------------------------------------------------------------------------\u001b[0m",
      "\u001b[0;31mNameError\u001b[0m                                 Traceback (most recent call last)",
      "\u001b[0;32m/tmp/ipykernel_81133/2362224921.py\u001b[0m in \u001b[0;36m<module>\u001b[0;34m\u001b[0m\n\u001b[0;32m----> 1\u001b[0;31m \u001b[0mclient\u001b[0m\u001b[0;34m.\u001b[0m\u001b[0mclose\u001b[0m\u001b[0;34m(\u001b[0m\u001b[0;34m)\u001b[0m\u001b[0;34m\u001b[0m\u001b[0;34m\u001b[0m\u001b[0m\n\u001b[0m\u001b[1;32m      2\u001b[0m \u001b[0mcluster\u001b[0m\u001b[0;34m.\u001b[0m\u001b[0mclose\u001b[0m\u001b[0;34m(\u001b[0m\u001b[0;34m)\u001b[0m\u001b[0;34m\u001b[0m\u001b[0;34m\u001b[0m\u001b[0m\n",
      "\u001b[0;31mNameError\u001b[0m: name 'client' is not defined"
     ]
    }
   ],
   "source": [
    "client.close()\n",
    "cluster.close()"
   ]
  },
  {
   "cell_type": "code",
   "execution_count": 5,
   "id": "3ce9694a",
   "metadata": {},
   "outputs": [],
   "source": [
    "cluster = SLURMCluster(queue=\"seseml\",\n",
    "                       memory='200GB',\n",
    "                       cores=40,\n",
    "                       processes=1,\n",
    "                       walltime='01:40:00',\n",
    "                       scheduler_options={'host': '172.22.179.3:7222', 'dashboard_address': ':7778'})"
   ]
  },
  {
   "cell_type": "code",
   "execution_count": 6,
   "id": "6505dd10",
   "metadata": {},
   "outputs": [
    {
     "data": {
      "application/vnd.jupyter.widget-view+json": {
       "model_id": "82b1d0c20be740abb3cd3ac3519747a4",
       "version_major": 2,
       "version_minor": 0
      },
      "text/plain": [
       "Tab(children=(HTML(value='<div class=\"jp-RenderedHTMLCommon jp-RenderedHTML jp-mod-trusted jp-OutputArea-outpu…"
      ]
     },
     "metadata": {},
     "output_type": "display_data"
    }
   ],
   "source": [
    "cluster.scale(1)\n",
    "cluster"
   ]
  },
  {
   "cell_type": "code",
   "execution_count": 7,
   "id": "aa398cd5",
   "metadata": {},
   "outputs": [
    {
     "name": "stdout",
     "output_type": "stream",
     "text": [
      "             JOBID PARTITION     NAME     USER ST       TIME  NODES NODELIST(REASON)\n",
      "            498581    seseml dask-wor alfonso8  R       0:01      1 keeling-j02\n"
     ]
    }
   ],
   "source": [
    "%%bash\n",
    "squeue -u alfonso8"
   ]
  },
  {
   "cell_type": "code",
   "execution_count": 8,
   "id": "514a8bf2",
   "metadata": {},
   "outputs": [
    {
     "data": {
      "text/html": [
       "<div>\n",
       "    <div style=\"width: 24px; height: 24px; background-color: #e1e1e1; border: 3px solid #9D9D9D; border-radius: 5px; position: absolute;\"> </div>\n",
       "    <div style=\"margin-left: 48px;\">\n",
       "        <h3 style=\"margin-bottom: 0px;\">Client</h3>\n",
       "        <p style=\"color: #9D9D9D; margin-bottom: 0px;\">Client-38240a00-35ab-11ec-bced-b083fed70206</p>\n",
       "        <table style=\"width: 100%; text-align: left;\">\n",
       "\n",
       "        <tr>\n",
       "        \n",
       "            <td style=\"text-align: left;\"><strong>Connection method:</strong> Cluster object</td>\n",
       "            <td style=\"text-align: left;\"><strong>Cluster type:</strong> dask_jobqueue.SLURMCluster</td>\n",
       "        \n",
       "        </tr>\n",
       "\n",
       "        \n",
       "            <tr>\n",
       "                <td style=\"text-align: left;\">\n",
       "                    <strong>Dashboard: </strong> <a href=\"http://172.22.179.3:7778/status\" target=\"_blank\">http://172.22.179.3:7778/status</a>\n",
       "                </td>\n",
       "                <td style=\"text-align: left;\"></td>\n",
       "            </tr>\n",
       "        \n",
       "\n",
       "        </table>\n",
       "\n",
       "        \n",
       "            <details>\n",
       "            <summary style=\"margin-bottom: 20px;\"><h3 style=\"display: inline;\">Cluster Info</h3></summary>\n",
       "            <div class=\"jp-RenderedHTMLCommon jp-RenderedHTML jp-mod-trusted jp-OutputArea-output\">\n",
       "    <div style=\"width: 24px; height: 24px; background-color: #e1e1e1; border: 3px solid #9D9D9D; border-radius: 5px; position: absolute;\">\n",
       "    </div>\n",
       "    <div style=\"margin-left: 48px;\">\n",
       "        <h3 style=\"margin-bottom: 0px; margin-top: 0px;\">SLURMCluster</h3>\n",
       "        <p style=\"color: #9D9D9D; margin-bottom: 0px;\">cacf3674</p>\n",
       "        <table style=\"width: 100%; text-align: left;\">\n",
       "            <tr>\n",
       "                <td style=\"text-align: left;\">\n",
       "                    <strong>Dashboard:</strong> <a href=\"http://172.22.179.3:7778/status\" target=\"_blank\">http://172.22.179.3:7778/status</a>\n",
       "                </td>\n",
       "                <td style=\"text-align: left;\">\n",
       "                    <strong>Workers:</strong> 0\n",
       "                </td>\n",
       "            </tr>\n",
       "            <tr>\n",
       "                <td style=\"text-align: left;\">\n",
       "                    <strong>Total threads:</strong> 0\n",
       "                </td>\n",
       "                <td style=\"text-align: left;\">\n",
       "                    <strong>Total memory:</strong> 0 B\n",
       "                </td>\n",
       "            </tr>\n",
       "            \n",
       "        </table>\n",
       "\n",
       "        <details>\n",
       "            <summary style=\"margin-bottom: 20px;\">\n",
       "                <h3 style=\"display: inline;\">Scheduler Info</h3>\n",
       "            </summary>\n",
       "\n",
       "            <div style=\"\">\n",
       "    <div>\n",
       "        <div style=\"width: 24px; height: 24px; background-color: #FFF7E5; border: 3px solid #FF6132; border-radius: 5px; position: absolute;\"> </div>\n",
       "        <div style=\"margin-left: 48px;\">\n",
       "            <h3 style=\"margin-bottom: 0px;\">Scheduler</h3>\n",
       "            <p style=\"color: #9D9D9D; margin-bottom: 0px;\">Scheduler-633ea6a1-8b81-4da2-bc57-17be81b0fc85</p>\n",
       "            <table style=\"width: 100%; text-align: left;\">\n",
       "                <tr>\n",
       "                    <td style=\"text-align: left;\">\n",
       "                        <strong>Comm:</strong> tcp://172.22.179.3:7222\n",
       "                    </td>\n",
       "                    <td style=\"text-align: left;\">\n",
       "                        <strong>Workers:</strong> 0\n",
       "                    </td>\n",
       "                </tr>\n",
       "                <tr>\n",
       "                    <td style=\"text-align: left;\">\n",
       "                        <strong>Dashboard:</strong> <a href=\"http://172.22.179.3:7778/status\" target=\"_blank\">http://172.22.179.3:7778/status</a>\n",
       "                    </td>\n",
       "                    <td style=\"text-align: left;\">\n",
       "                        <strong>Total threads:</strong> 0\n",
       "                    </td>\n",
       "                </tr>\n",
       "                <tr>\n",
       "                    <td style=\"text-align: left;\">\n",
       "                        <strong>Started:</strong> Just now\n",
       "                    </td>\n",
       "                    <td style=\"text-align: left;\">\n",
       "                        <strong>Total memory:</strong> 0 B\n",
       "                    </td>\n",
       "                </tr>\n",
       "            </table>\n",
       "        </div>\n",
       "    </div>\n",
       "\n",
       "    <details style=\"margin-left: 48px;\">\n",
       "        <summary style=\"margin-bottom: 20px;\">\n",
       "            <h3 style=\"display: inline;\">Workers</h3>\n",
       "        </summary>\n",
       "\n",
       "        \n",
       "\n",
       "    </details>\n",
       "</div>\n",
       "\n",
       "        </details>\n",
       "    </div>\n",
       "</div>\n",
       "            </details>\n",
       "        \n",
       "\n",
       "    </div>\n",
       "</div>"
      ],
      "text/plain": [
       "<Client: 'tcp://172.22.179.3:7222' processes=0 threads=0, memory=0 B>"
      ]
     },
     "execution_count": 8,
     "metadata": {},
     "output_type": "execute_result"
    }
   ],
   "source": [
    "client = Client(cluster)\n",
    "client"
   ]
  },
  {
   "cell_type": "code",
   "execution_count": 9,
   "id": "6e60fc20",
   "metadata": {},
   "outputs": [
    {
     "name": "stdout",
     "output_type": "stream",
     "text": [
      "CPU times: user 719 ms, sys: 70.3 ms, total: 790 ms\n",
      "Wall time: 812 ms\n"
     ]
    }
   ],
   "source": [
    "%%time\n",
    "ds_xr = xr.open_zarr(f'{path_data}/zarr_rckd/KUsKAs_Wn/lores.zarr')\n",
    "# ds_xr = xr.open_zarr(f'{path_data}/zarr/KUsKAs_Wn/lores.zarr')\n",
    "ds_xr = ds_xr.sel(time=~ds_xr.get_index(\"time\").duplicated())\n",
    "\n"
   ]
  },
  {
   "cell_type": "code",
   "execution_count": 10,
   "id": "7d5b61be",
   "metadata": {},
   "outputs": [
    {
     "name": "stdout",
     "output_type": "stream",
     "text": [
      "CPU times: user 2 µs, sys: 2 µs, total: 4 µs\n",
      "Wall time: 8.58 µs\n"
     ]
    }
   ],
   "source": [
    "%%time\n",
    "# ds_xr = ds_xr.sel(time=~ds_xr.get_index(\"time\").duplicated())"
   ]
  },
  {
   "cell_type": "code",
   "execution_count": 11,
   "id": "5a1ba65d",
   "metadata": {
    "scrolled": true
   },
   "outputs": [
    {
     "name": "stdout",
     "output_type": "stream",
     "text": [
      "CPU times: user 14.9 ms, sys: 1.94 ms, total: 16.9 ms\n",
      "Wall time: 14.8 ms\n"
     ]
    }
   ],
   "source": [
    "%%time\n",
    "ds_zhh = ds_xr.zhh14.isel(time=slice(2000, 6000))\n",
    "ds_zhh = ds_zhh.sel(time=~ds_zhh.get_index(\"time\").duplicated())"
   ]
  },
  {
   "cell_type": "code",
   "execution_count": 12,
   "id": "d7df8b23",
   "metadata": {},
   "outputs": [
    {
     "name": "stdout",
     "output_type": "stream",
     "text": [
      "CPU times: user 5.61 s, sys: 7.27 s, total: 12.9 s\n",
      "Wall time: 19.3 s\n"
     ]
    }
   ],
   "source": [
    "%%time\n",
    "ds_zhh = ds_zhh.where(ds_xr.alt3d > 500)"
   ]
  },
  {
   "cell_type": "code",
   "execution_count": 13,
   "id": "f05f6ccf",
   "metadata": {},
   "outputs": [],
   "source": [
    "a = ufunc_wrapper(ds_zhh)"
   ]
  },
  {
   "cell_type": "code",
   "execution_count": 14,
   "id": "71ddca9b",
   "metadata": {
    "scrolled": false
   },
   "outputs": [
    {
     "name": "stdout",
     "output_type": "stream",
     "text": [
      "CPU times: user 535 ms, sys: 759 ms, total: 1.29 s\n",
      "Wall time: 10.5 s\n"
     ]
    }
   ],
   "source": [
    "%%time\n",
    "w = dask.compute(a)"
   ]
  },
  {
   "cell_type": "code",
   "execution_count": 15,
   "id": "7fc53666",
   "metadata": {},
   "outputs": [],
   "source": [
    "df = w[0].to_dataframe()"
   ]
  },
  {
   "cell_type": "code",
   "execution_count": 16,
   "id": "237036f3",
   "metadata": {},
   "outputs": [
    {
     "data": {
      "text/html": [
       "<div>\n",
       "<style scoped>\n",
       "    .dataframe tbody tr th:only-of-type {\n",
       "        vertical-align: middle;\n",
       "    }\n",
       "\n",
       "    .dataframe tbody tr th {\n",
       "        vertical-align: top;\n",
       "    }\n",
       "\n",
       "    .dataframe thead th {\n",
       "        text-align: right;\n",
       "    }\n",
       "</style>\n",
       "<table border=\"1\" class=\"dataframe\">\n",
       "  <thead>\n",
       "    <tr style=\"text-align: right;\">\n",
       "      <th></th>\n",
       "      <th>area</th>\n",
       "      <th>perimeter</th>\n",
       "      <th>ax_max</th>\n",
       "      <th>ax_min</th>\n",
       "    </tr>\n",
       "    <tr>\n",
       "      <th>time</th>\n",
       "      <th></th>\n",
       "      <th></th>\n",
       "      <th></th>\n",
       "      <th></th>\n",
       "    </tr>\n",
       "  </thead>\n",
       "  <tbody>\n",
       "    <tr>\n",
       "      <th>2019-08-25 01:22:40.299800</th>\n",
       "      <td>NaN</td>\n",
       "      <td>NaN</td>\n",
       "      <td>NaN</td>\n",
       "      <td>NaN</td>\n",
       "    </tr>\n",
       "    <tr>\n",
       "      <th>2019-08-25 01:22:42.149800</th>\n",
       "      <td>NaN</td>\n",
       "      <td>NaN</td>\n",
       "      <td>NaN</td>\n",
       "      <td>NaN</td>\n",
       "    </tr>\n",
       "    <tr>\n",
       "      <th>2019-08-25 01:22:43.999800</th>\n",
       "      <td>NaN</td>\n",
       "      <td>NaN</td>\n",
       "      <td>NaN</td>\n",
       "      <td>NaN</td>\n",
       "    </tr>\n",
       "    <tr>\n",
       "      <th>2019-08-25 01:22:45.849800</th>\n",
       "      <td>NaN</td>\n",
       "      <td>NaN</td>\n",
       "      <td>NaN</td>\n",
       "      <td>NaN</td>\n",
       "    </tr>\n",
       "    <tr>\n",
       "      <th>2019-08-25 01:22:47.699800</th>\n",
       "      <td>NaN</td>\n",
       "      <td>NaN</td>\n",
       "      <td>NaN</td>\n",
       "      <td>NaN</td>\n",
       "    </tr>\n",
       "    <tr>\n",
       "      <th>...</th>\n",
       "      <td>...</td>\n",
       "      <td>...</td>\n",
       "      <td>...</td>\n",
       "      <td>...</td>\n",
       "    </tr>\n",
       "    <tr>\n",
       "      <th>2019-08-27 01:30:47.699800</th>\n",
       "      <td>NaN</td>\n",
       "      <td>NaN</td>\n",
       "      <td>NaN</td>\n",
       "      <td>NaN</td>\n",
       "    </tr>\n",
       "    <tr>\n",
       "      <th>2019-08-27 01:30:49.549800</th>\n",
       "      <td>NaN</td>\n",
       "      <td>NaN</td>\n",
       "      <td>NaN</td>\n",
       "      <td>NaN</td>\n",
       "    </tr>\n",
       "    <tr>\n",
       "      <th>2019-08-27 01:30:51.399800</th>\n",
       "      <td>NaN</td>\n",
       "      <td>NaN</td>\n",
       "      <td>NaN</td>\n",
       "      <td>NaN</td>\n",
       "    </tr>\n",
       "    <tr>\n",
       "      <th>2019-08-27 01:30:53.249800</th>\n",
       "      <td>NaN</td>\n",
       "      <td>NaN</td>\n",
       "      <td>NaN</td>\n",
       "      <td>NaN</td>\n",
       "    </tr>\n",
       "    <tr>\n",
       "      <th>2019-08-27 01:30:55.099800</th>\n",
       "      <td>NaN</td>\n",
       "      <td>NaN</td>\n",
       "      <td>NaN</td>\n",
       "      <td>NaN</td>\n",
       "    </tr>\n",
       "  </tbody>\n",
       "</table>\n",
       "<p>4000 rows × 4 columns</p>\n",
       "</div>"
      ],
      "text/plain": [
       "                            area  perimeter  ax_max  ax_min\n",
       "time                                                       \n",
       "2019-08-25 01:22:40.299800   NaN        NaN     NaN     NaN\n",
       "2019-08-25 01:22:42.149800   NaN        NaN     NaN     NaN\n",
       "2019-08-25 01:22:43.999800   NaN        NaN     NaN     NaN\n",
       "2019-08-25 01:22:45.849800   NaN        NaN     NaN     NaN\n",
       "2019-08-25 01:22:47.699800   NaN        NaN     NaN     NaN\n",
       "...                          ...        ...     ...     ...\n",
       "2019-08-27 01:30:47.699800   NaN        NaN     NaN     NaN\n",
       "2019-08-27 01:30:49.549800   NaN        NaN     NaN     NaN\n",
       "2019-08-27 01:30:51.399800   NaN        NaN     NaN     NaN\n",
       "2019-08-27 01:30:53.249800   NaN        NaN     NaN     NaN\n",
       "2019-08-27 01:30:55.099800   NaN        NaN     NaN     NaN\n",
       "\n",
       "[4000 rows x 4 columns]"
      ]
     },
     "execution_count": 16,
     "metadata": {},
     "output_type": "execute_result"
    }
   ],
   "source": [
    "df"
   ]
  },
  {
   "cell_type": "code",
   "execution_count": 17,
   "id": "b7ba037d",
   "metadata": {},
   "outputs": [],
   "source": [
    "df.dropna(how='any', inplace=True)"
   ]
  },
  {
   "cell_type": "code",
   "execution_count": 18,
   "id": "2304e65e",
   "metadata": {},
   "outputs": [
    {
     "data": {
      "text/html": [
       "<div>\n",
       "<style scoped>\n",
       "    .dataframe tbody tr th:only-of-type {\n",
       "        vertical-align: middle;\n",
       "    }\n",
       "\n",
       "    .dataframe tbody tr th {\n",
       "        vertical-align: top;\n",
       "    }\n",
       "\n",
       "    .dataframe thead th {\n",
       "        text-align: right;\n",
       "    }\n",
       "</style>\n",
       "<table border=\"1\" class=\"dataframe\">\n",
       "  <thead>\n",
       "    <tr style=\"text-align: right;\">\n",
       "      <th></th>\n",
       "      <th>area</th>\n",
       "      <th>perimeter</th>\n",
       "      <th>ax_max</th>\n",
       "      <th>ax_min</th>\n",
       "    </tr>\n",
       "    <tr>\n",
       "      <th>time</th>\n",
       "      <th></th>\n",
       "      <th></th>\n",
       "      <th></th>\n",
       "      <th></th>\n",
       "    </tr>\n",
       "  </thead>\n",
       "  <tbody>\n",
       "    <tr>\n",
       "      <th>2019-08-25 01:24:57.199800</th>\n",
       "      <td>57.0</td>\n",
       "      <td>28.863961</td>\n",
       "      <td>12.470805</td>\n",
       "      <td>6.060136</td>\n",
       "    </tr>\n",
       "    <tr>\n",
       "      <th>2019-08-25 01:24:59.049800</th>\n",
       "      <td>58.0</td>\n",
       "      <td>27.071068</td>\n",
       "      <td>10.369310</td>\n",
       "      <td>7.517993</td>\n",
       "    </tr>\n",
       "    <tr>\n",
       "      <th>2019-08-25 01:25:00.899800</th>\n",
       "      <td>66.0</td>\n",
       "      <td>33.071068</td>\n",
       "      <td>13.443727</td>\n",
       "      <td>7.062680</td>\n",
       "    </tr>\n",
       "    <tr>\n",
       "      <th>2019-08-25 01:25:02.749800</th>\n",
       "      <td>55.0</td>\n",
       "      <td>28.692388</td>\n",
       "      <td>11.431118</td>\n",
       "      <td>6.758988</td>\n",
       "    </tr>\n",
       "    <tr>\n",
       "      <th>2019-08-25 01:25:04.599800</th>\n",
       "      <td>55.0</td>\n",
       "      <td>28.485281</td>\n",
       "      <td>10.779396</td>\n",
       "      <td>7.295170</td>\n",
       "    </tr>\n",
       "    <tr>\n",
       "      <th>...</th>\n",
       "      <td>...</td>\n",
       "      <td>...</td>\n",
       "      <td>...</td>\n",
       "      <td>...</td>\n",
       "    </tr>\n",
       "    <tr>\n",
       "      <th>2019-08-27 01:02:37.199800</th>\n",
       "      <td>744.0</td>\n",
       "      <td>221.604076</td>\n",
       "      <td>77.266763</td>\n",
       "      <td>16.943994</td>\n",
       "    </tr>\n",
       "    <tr>\n",
       "      <th>2019-08-27 01:02:39.049800</th>\n",
       "      <td>136.0</td>\n",
       "      <td>95.142136</td>\n",
       "      <td>62.399940</td>\n",
       "      <td>10.994261</td>\n",
       "    </tr>\n",
       "    <tr>\n",
       "      <th>2019-08-27 01:02:55.699800</th>\n",
       "      <td>60.0</td>\n",
       "      <td>29.485281</td>\n",
       "      <td>10.319557</td>\n",
       "      <td>8.727483</td>\n",
       "    </tr>\n",
       "    <tr>\n",
       "      <th>2019-08-27 01:02:57.549800</th>\n",
       "      <td>70.0</td>\n",
       "      <td>36.142136</td>\n",
       "      <td>12.814503</td>\n",
       "      <td>8.264847</td>\n",
       "    </tr>\n",
       "    <tr>\n",
       "      <th>2019-08-27 01:02:59.399800</th>\n",
       "      <td>56.0</td>\n",
       "      <td>30.278175</td>\n",
       "      <td>10.838909</td>\n",
       "      <td>7.788184</td>\n",
       "    </tr>\n",
       "  </tbody>\n",
       "</table>\n",
       "<p>1638 rows × 4 columns</p>\n",
       "</div>"
      ],
      "text/plain": [
       "                             area   perimeter     ax_max     ax_min\n",
       "time                                                               \n",
       "2019-08-25 01:24:57.199800   57.0   28.863961  12.470805   6.060136\n",
       "2019-08-25 01:24:59.049800   58.0   27.071068  10.369310   7.517993\n",
       "2019-08-25 01:25:00.899800   66.0   33.071068  13.443727   7.062680\n",
       "2019-08-25 01:25:02.749800   55.0   28.692388  11.431118   6.758988\n",
       "2019-08-25 01:25:04.599800   55.0   28.485281  10.779396   7.295170\n",
       "...                           ...         ...        ...        ...\n",
       "2019-08-27 01:02:37.199800  744.0  221.604076  77.266763  16.943994\n",
       "2019-08-27 01:02:39.049800  136.0   95.142136  62.399940  10.994261\n",
       "2019-08-27 01:02:55.699800   60.0   29.485281  10.319557   8.727483\n",
       "2019-08-27 01:02:57.549800   70.0   36.142136  12.814503   8.264847\n",
       "2019-08-27 01:02:59.399800   56.0   30.278175  10.838909   7.788184\n",
       "\n",
       "[1638 rows x 4 columns]"
      ]
     },
     "execution_count": 18,
     "metadata": {},
     "output_type": "execute_result"
    }
   ],
   "source": [
    "df"
   ]
  },
  {
   "cell_type": "code",
   "execution_count": 72,
   "id": "7222e979",
   "metadata": {},
   "outputs": [
    {
     "data": {
      "text/html": [
       "<div>\n",
       "<style scoped>\n",
       "    .dataframe tbody tr th:only-of-type {\n",
       "        vertical-align: middle;\n",
       "    }\n",
       "\n",
       "    .dataframe tbody tr th {\n",
       "        vertical-align: top;\n",
       "    }\n",
       "\n",
       "    .dataframe thead th {\n",
       "        text-align: right;\n",
       "    }\n",
       "</style>\n",
       "<table border=\"1\" class=\"dataframe\">\n",
       "  <thead>\n",
       "    <tr style=\"text-align: right;\">\n",
       "      <th></th>\n",
       "      <th>area</th>\n",
       "      <th>perimeter</th>\n",
       "      <th>ax_max</th>\n",
       "      <th>ax_min</th>\n",
       "    </tr>\n",
       "  </thead>\n",
       "  <tbody>\n",
       "    <tr>\n",
       "      <th>count</th>\n",
       "      <td>1638.000000</td>\n",
       "      <td>1638.000000</td>\n",
       "      <td>1638.000000</td>\n",
       "      <td>1638.000000</td>\n",
       "    </tr>\n",
       "    <tr>\n",
       "      <th>mean</th>\n",
       "      <td>1134.952381</td>\n",
       "      <td>192.886899</td>\n",
       "      <td>77.020120</td>\n",
       "      <td>19.022926</td>\n",
       "    </tr>\n",
       "    <tr>\n",
       "      <th>std</th>\n",
       "      <td>1087.790381</td>\n",
       "      <td>136.472684</td>\n",
       "      <td>53.918743</td>\n",
       "      <td>9.172841</td>\n",
       "    </tr>\n",
       "    <tr>\n",
       "      <th>min</th>\n",
       "      <td>51.000000</td>\n",
       "      <td>25.828427</td>\n",
       "      <td>8.521565</td>\n",
       "      <td>2.678521</td>\n",
       "    </tr>\n",
       "    <tr>\n",
       "      <th>25%</th>\n",
       "      <td>67.000000</td>\n",
       "      <td>34.374369</td>\n",
       "      <td>13.666223</td>\n",
       "      <td>8.758874</td>\n",
       "    </tr>\n",
       "    <tr>\n",
       "      <th>50%</th>\n",
       "      <td>785.500000</td>\n",
       "      <td>195.358387</td>\n",
       "      <td>79.008364</td>\n",
       "      <td>19.949478</td>\n",
       "    </tr>\n",
       "    <tr>\n",
       "      <th>75%</th>\n",
       "      <td>2055.000000</td>\n",
       "      <td>295.900018</td>\n",
       "      <td>116.767993</td>\n",
       "      <td>28.456116</td>\n",
       "    </tr>\n",
       "    <tr>\n",
       "      <th>max</th>\n",
       "      <td>3867.000000</td>\n",
       "      <td>622.320851</td>\n",
       "      <td>276.315475</td>\n",
       "      <td>36.881002</td>\n",
       "    </tr>\n",
       "  </tbody>\n",
       "</table>\n",
       "</div>"
      ],
      "text/plain": [
       "              area    perimeter       ax_max       ax_min\n",
       "count  1638.000000  1638.000000  1638.000000  1638.000000\n",
       "mean   1134.952381   192.886899    77.020120    19.022926\n",
       "std    1087.790381   136.472684    53.918743     9.172841\n",
       "min      51.000000    25.828427     8.521565     2.678521\n",
       "25%      67.000000    34.374369    13.666223     8.758874\n",
       "50%     785.500000   195.358387    79.008364    19.949478\n",
       "75%    2055.000000   295.900018   116.767993    28.456116\n",
       "max    3867.000000   622.320851   276.315475    36.881002"
      ]
     },
     "execution_count": 72,
     "metadata": {},
     "output_type": "execute_result"
    }
   ],
   "source": [
    "df.describe()"
   ]
  },
  {
   "cell_type": "markdown",
   "id": "2835c2cd",
   "metadata": {},
   "source": [
    "boundary box, max ref, mean (ku, ka), max ref (surf), "
   ]
  },
  {
   "cell_type": "code",
   "execution_count": null,
   "id": "fd489be8",
   "metadata": {},
   "outputs": [],
   "source": []
  }
 ],
 "metadata": {
  "kernelspec": {
   "display_name": "Python [conda env:camp2ex_proj] *",
   "language": "python",
   "name": "conda-env-camp2ex_proj-py"
  },
  "language_info": {
   "codemirror_mode": {
    "name": "ipython",
    "version": 3
   },
   "file_extension": ".py",
   "mimetype": "text/x-python",
   "name": "python",
   "nbconvert_exporter": "python",
   "pygments_lexer": "ipython3",
   "version": "3.9.4"
  }
 },
 "nbformat": 4,
 "nbformat_minor": 5
}
