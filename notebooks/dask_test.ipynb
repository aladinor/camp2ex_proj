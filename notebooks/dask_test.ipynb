{
 "cells": [
  {
   "cell_type": "code",
   "execution_count": 1,
   "id": "18fc4ea5",
   "metadata": {},
   "outputs": [
    {
     "name": "stdout",
     "output_type": "stream",
     "text": [
      "Warning: ecCodes 2.21.0 or higher is recommended. You are running version 2.18.0\n"
     ]
    }
   ],
   "source": [
    "import pandas as pd\n",
    "import sys\n",
    "import os\n",
    "import numpy as np\n",
    "import matplotlib.pyplot as plt\n",
    "import xarray as xr\n",
    "import zarr\n",
    "import warnings\n",
    "from textwrap import wrap\n",
    "from mpl_toolkits import mplot3d\n",
    "\n",
    "from scipy.ndimage.filters import uniform_filter\n",
    "from scipy.ndimage.measurements import variance\n",
    "from scipy.ndimage import label\n",
    "from scipy.ndimage.morphology import binary_closing\n",
    "from skimage.filters import gaussian, threshold_otsu\n",
    "from skimage import measure\n",
    "\n",
    "from re import split\n",
    "from matplotlib.animation import ArtistAnimation\n",
    "\n",
    "import dask\n",
    "from ipywidgets import interact\n",
    "from dask_jobqueue import SLURMCluster\n",
    "from dask.distributed import Client, progress\n",
    "from dask import delayed, compute\n",
    "from dask_image.ndfilters import uniform_filter as uf\n",
    "from dask_image.ndfilters import gaussian_filter\n",
    "from dask_image.ndmeasure import variance as varian\n",
    "import dask_image.ndmeasure as da_measure\n",
    "import dask.array as da\n",
    "\n",
    "import time\n",
    "warnings.filterwarnings('ignore')\n",
    "sys.path.insert(1, f\"{os.path.abspath(os.path.join(os.path.abspath(''), '../'))}\")\n",
    "from src.utils import time_3d, get_pars_from_ini\n",
    "location = split(', |_|-|!', os.popen('hostname').read())[0].replace(\"\\n\", \"\")\n",
    "path_data = get_pars_from_ini(campaign='loc')[location]['path_data']\n",
    "plt.rcParams['animation.html'] = 'jshtml'\n",
    "%matplotlib inline\n"
   ]
  },
  {
   "cell_type": "code",
   "execution_count": 2,
   "id": "8063a3b7",
   "metadata": {},
   "outputs": [],
   "source": [
    "ds_xr = xr.open_zarr(f'{path_data}/zarr/KUsKAs_Wn/lores.zarr')\n",
    "# ds_xr = xr.open_zarr('/data/keeling/a/alfonso8/gpm/camp2ex/zarr_1/lores_rechunked.zarr')\n",
    "ds_xr = ds_xr.sel(time=~ds_xr.get_index(\"time\").duplicated())\n",
    "times = ds_xr.time"
   ]
  },
  {
   "cell_type": "code",
   "execution_count": 13,
   "id": "924b9644",
   "metadata": {},
   "outputs": [],
   "source": [
    "# ds_dates = ds_xr.sel(time=slice('2019-09-16 03:12:40', '2019-09-16 03:13:40'))\n",
    "# ds_dates\n"
   ]
  },
  {
   "cell_type": "code",
   "execution_count": 19,
   "id": "9492e67f",
   "metadata": {},
   "outputs": [],
   "source": [
    "# client.close()\n",
    "# cluster.close()"
   ]
  },
  {
   "cell_type": "code",
   "execution_count": 3,
   "id": "4d96cb8c",
   "metadata": {},
   "outputs": [],
   "source": [
    "cluster = SLURMCluster(queue=\"seseml\",\n",
    "                       memory='30GB',\n",
    "                       cores=5,\n",
    "                       processes=2,\n",
    "                       walltime='01:40:00',\n",
    "                       scheduler_options={'host': '172.22.179.3:7222', 'dashboard_address': ':7330'})\n"
   ]
  },
  {
   "cell_type": "code",
   "execution_count": 4,
   "id": "3a3bc7db",
   "metadata": {
    "scrolled": false
   },
   "outputs": [
    {
     "data": {
      "application/vnd.jupyter.widget-view+json": {
       "model_id": "927957a1f3314b618d91824a7d769bc5",
       "version_major": 2,
       "version_minor": 0
      },
      "text/plain": [
       "VBox(children=(HTML(value='<h2>SLURMCluster</h2>'), HBox(children=(HTML(value='\\n<div>\\n  <style scoped>\\n    …"
      ]
     },
     "metadata": {},
     "output_type": "display_data"
    }
   ],
   "source": [
    "cluster.scale(1)\n",
    "# cluster.adapt(maximum_jobs=4)\n",
    "cluster"
   ]
  },
  {
   "cell_type": "code",
   "execution_count": 6,
   "id": "de4bfb1a",
   "metadata": {
    "scrolled": false
   },
   "outputs": [
    {
     "name": "stdout",
     "output_type": "stream",
     "text": [
      "             JOBID PARTITION     NAME     USER ST       TIME  NODES NODELIST(REASON)\n",
      "            481938    seseml dask-wor alfonso8  R       0:08      1 keeling-b05\n"
     ]
    }
   ],
   "source": [
    "%%bash\n",
    "squeue -u alfonso8"
   ]
  },
  {
   "cell_type": "code",
   "execution_count": 7,
   "id": "057a6744",
   "metadata": {
    "scrolled": false
   },
   "outputs": [
    {
     "data": {
      "text/html": [
       "<table style=\"border: 2px solid white;\">\n",
       "<tr>\n",
       "<td style=\"vertical-align: top; border: 0px solid white\">\n",
       "<h3 style=\"text-align: left;\">Client</h3>\n",
       "<ul style=\"text-align: left; list-style: none; margin: 0; padding: 0;\">\n",
       "  <li><b>Scheduler: </b>tcp://172.22.179.3:7222</li>\n",
       "  <li><b>Dashboard: </b><a href='http://172.22.179.3:7330/status' target='_blank'>http://172.22.179.3:7330/status</a></li>\n",
       "</ul>\n",
       "</td>\n",
       "<td style=\"vertical-align: top; border: 0px solid white\">\n",
       "<h3 style=\"text-align: left;\">Cluster</h3>\n",
       "<ul style=\"text-align: left; list-style:none; margin: 0; padding: 0;\">\n",
       "  <li><b>Workers: </b>2</li>\n",
       "  <li><b>Cores: </b>4</li>\n",
       "  <li><b>Memory: </b>27.94 GiB</li>\n",
       "</ul>\n",
       "</td>\n",
       "</tr>\n",
       "</table>"
      ],
      "text/plain": [
       "<Client: 'tcp://172.22.179.3:7222' processes=2 threads=4, memory=27.94 GiB>"
      ]
     },
     "execution_count": 7,
     "metadata": {},
     "output_type": "execute_result"
    }
   ],
   "source": [
    "client = Client(cluster)\n",
    "client"
   ]
  },
  {
   "cell_type": "code",
   "execution_count": 8,
   "id": "2d32c3cb",
   "metadata": {},
   "outputs": [],
   "source": [
    "# Break up into many tasks\n",
    "def lee_filter(img, size, tresh=-150):\n",
    "    img = da.where(da.logical_or(da.isnan(img), da.equal(img, -np.inf)),  tresh, img)\n",
    "    img_mean = uf(img, (size, size))\n",
    "    img_sqr_mean = uf(da.power(img,2), (size, size))\n",
    "    img_variance = img_sqr_mean - da.power(img_mean,2)\n",
    "    overall_variance = varian(img)\n",
    "    img_weights = img_variance / (img_variance + overall_variance)\n",
    "    img_output = img_mean + img_weights * (img - img_mean)\n",
    "    return img_output\n",
    "\n",
    "\n",
    "@dask.delayed\n",
    "def load():\n",
    "    ds_xr = xr.open_zarr(f'{path_data}/zarr/KUsKAs_Wn/lores.zarr')\n",
    "    ds_xr = ds_xr.sel(time=~ds_xr.get_index(\"time\").duplicated())\n",
    "    return ds_xr\n",
    "\n",
    "\n",
    "@dask.delayed\n",
    "def process(data, x):\n",
    "    ds = data.sel(time=x)\n",
    "    height=500\n",
    "    zhh14 = ds.zhh14.where(ds.alt3d > height)\n",
    "    filtered = lee_filter(zhh14, size=3, tresh=-100)    \n",
    "    blurred = gaussian(filtered, sigma=.8)\n",
    "    binary = blurred > threshold_otsu(blurred)\n",
    "    labels = measure.label(binary)\n",
    "    props = measure.regionprops(labels)\n",
    "    area = [i.area for i in props]\n",
    "    if any(y > 100 for y in area):\n",
    "        _time =ds.time.values\n",
    "        del ds \n",
    "        return _time\n",
    "    del ds "
   ]
  },
  {
   "cell_type": "code",
   "execution_count": 9,
   "id": "892d0f8a",
   "metadata": {},
   "outputs": [],
   "source": [
    "data = load()"
   ]
  },
  {
   "cell_type": "code",
   "execution_count": 10,
   "id": "19b93c07",
   "metadata": {},
   "outputs": [],
   "source": [
    "results = [process(data, i) for i in times]"
   ]
  },
  {
   "cell_type": "code",
   "execution_count": null,
   "id": "15ffd08b",
   "metadata": {
    "scrolled": false
   },
   "outputs": [
    {
     "name": "stdout",
     "output_type": "stream",
     "text": [
      "78800\n"
     ]
    },
    {
     "name": "stderr",
     "output_type": "stream",
     "text": [
      "tornado.application - ERROR - Uncaught exception GET /status/ws (127.0.0.1)\n",
      "HTTPServerRequest(protocol='http', host='127.0.0.1:7330', method='GET', uri='/status/ws', version='HTTP/1.1', remote_ip='127.0.0.1')\n",
      "Traceback (most recent call last):\n",
      "  File \"/data/keeling/a/alfonso8/miniconda3/envs/camp2ex_proj/lib/python3.9/site-packages/tornado/websocket.py\", line 954, in _accept_connection\n",
      "    open_result = handler.open(*handler.open_args, **handler.open_kwargs)\n",
      "  File \"/data/keeling/a/alfonso8/miniconda3/envs/camp2ex_proj/lib/python3.9/site-packages/tornado/web.py\", line 3173, in wrapper\n",
      "    return method(self, *args, **kwargs)\n",
      "  File \"/data/keeling/a/alfonso8/miniconda3/envs/camp2ex_proj/lib/python3.9/site-packages/bokeh/server/views/ws.py\", line 140, in open\n",
      "    raise ProtocolError(\"Token is expired.\")\n",
      "bokeh.protocol.exceptions.ProtocolError: Token is expired.\n"
     ]
    }
   ],
   "source": [
    "%%time\n",
    "print(len(times))\n",
    "out = dask.compute(*results)\n",
    "df_dates = pd.DataFrame(data=out)\n",
    "df_dates.to_csv('../results/dates_events.csv')"
   ]
  },
  {
   "cell_type": "code",
   "execution_count": null,
   "id": "548c00f2",
   "metadata": {},
   "outputs": [],
   "source": [
    "# client.close()\n",
    "# cluster.close()"
   ]
  },
  {
   "cell_type": "code",
   "execution_count": null,
   "id": "7e9ddb9e",
   "metadata": {},
   "outputs": [],
   "source": [
    "def lee_filter(img, size, tresh=-150):\n",
    "    img = np.where(np.logical_or(np.isnan(img), np.equal(img, -np.inf)),  tresh, img)\n",
    "    img_mean = uniform_filter(img, (size, size))\n",
    "    img_sqr_mean = uniform_filter(img**2, (size, size))\n",
    "    img_variance = img_sqr_mean - img_mean**2\n",
    "    overall_variance = variance(img)\n",
    "    img_weights = img_variance / (img_variance + overall_variance)\n",
    "    img_output = img_mean + img_weights * (img - img_mean)\n",
    "    return img_output\n",
    "\n",
    "def find_events(ds_xr, height=500):\n",
    "    zhh14 = ds_xr.zhh14.where(ds_xr.alt3d > height)\n",
    "    filtered = lee_filter(zhh14.values, size=3, tresh=-100)    \n",
    "    blurred = gaussian(filtered, sigma=.8)\n",
    "    binary = blurred > threshold_otsu(blurred)\n",
    "    labels = measure.label(binary)\n",
    "    props = measure.regionprops(labels)\n",
    "    area = [i.area for i in props]\n",
    "    if any(y > 100 for y in area):\n",
    "        _y = ds_xr.time.values\n",
    "        del ds_xr\n",
    "        return _y\n",
    "    del ds_xr\n",
    "    "
   ]
  },
  {
   "cell_type": "code",
   "execution_count": null,
   "id": "fe98784b",
   "metadata": {},
   "outputs": [],
   "source": [
    "%%time\n",
    "times_ = []\n",
    "print(len(times[:500]))\n",
    "ds_xr = xr.open_zarr(f'{path_data}/zarr/KUsKAs_Wn/lores.zarr')\n",
    "ds_xr = ds_xr.sel(time=~ds_xr.get_index(\"time\").duplicated())\n",
    "for i in times[:500]:   \n",
    "    jj = find_events(ds_xr.sel(time=i))\n",
    "    times_.append(jj)\n",
    "\n",
    "df_dates = pd.DataFrame(data=times_)\n",
    "df_dates.to_csv('../results/dates_events_for.csv')"
   ]
  },
  {
   "cell_type": "code",
   "execution_count": null,
   "id": "b1647090",
   "metadata": {},
   "outputs": [],
   "source": [
    "times_"
   ]
  },
  {
   "cell_type": "code",
   "execution_count": null,
   "id": "046c7711",
   "metadata": {},
   "outputs": [],
   "source": [
    "client.close()\n",
    "cluster.close()"
   ]
  },
  {
   "cell_type": "code",
   "execution_count": null,
   "id": "a2ab1b63",
   "metadata": {},
   "outputs": [],
   "source": []
  }
 ],
 "metadata": {
  "kernelspec": {
   "display_name": "Python [conda env:camp2ex_proj] *",
   "language": "python",
   "name": "conda-env-camp2ex_proj-py"
  },
  "language_info": {
   "codemirror_mode": {
    "name": "ipython",
    "version": 3
   },
   "file_extension": ".py",
   "mimetype": "text/x-python",
   "name": "python",
   "nbconvert_exporter": "python",
   "pygments_lexer": "ipython3",
   "version": "3.9.4"
  }
 },
 "nbformat": 4,
 "nbformat_minor": 5
}
